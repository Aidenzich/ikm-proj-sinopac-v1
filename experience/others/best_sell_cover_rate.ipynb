{
 "cells": [
  {
   "cell_type": "code",
   "execution_count": 1,
   "metadata": {},
   "outputs": [],
   "source": [
    "import os\n",
    "import sys\n",
    "sys.path.append('../../')\n",
    "import numpy as np\n",
    "import pandas as pd\n",
    "import json\n",
    "from tqdm import tqdm\n",
    "import recs.path as path\n",
    "from recs.clf import Classifier\n",
    "from recs.backtest import get_backtest_answer, model_score_logger\n",
    "from recs.util import readjson2dict, id2cat, save_model, save2json, recall_evaluate\n",
    "from sklearn.model_selection import train_test_split"
   ]
  },
  {
   "cell_type": "code",
   "execution_count": 2,
   "metadata": {},
   "outputs": [],
   "source": [
    "params = {\n",
    "    \"best_sell_n\": 100,\n",
    "    \"n_estimators\":250,\n",
    "    \"max_depth\":3,\n",
    "    \"negative_sampling\":True,\n",
    "    \"train_period\": [201600, 202000],\n",
    "    \"best_sell_period\":[201800 ,202000],\n",
    "    \"predict_period\": [202000, 202100]\n",
    "}"
   ]
  },
  {
   "cell_type": "code",
   "execution_count": 3,
   "metadata": {},
   "outputs": [],
   "source": [
    "trans_buy_path = os.path.join(path.data_path, \"trans_buy.pkl\")\n",
    "trans_buy = pd.read_pickle(trans_buy_path)"
   ]
  },
  {
   "cell_type": "code",
   "execution_count": 4,
   "metadata": {},
   "outputs": [
    {
     "name": "stderr",
     "output_type": "stream",
     "text": [
      "100%|██████████| 28496/28496 [01:16<00:00, 370.09it/s]\n"
     ]
    }
   ],
   "source": [
    "test = get_backtest_answer(trans_df=trans_buy, \n",
    "                           start=params[\"predict_period\"][0]*100, \n",
    "                           end=params[\"predict_period\"][1]*100)"
   ]
  },
  {
   "cell_type": "code",
   "execution_count": 5,
   "metadata": {},
   "outputs": [
    {
     "name": "stderr",
     "output_type": "stream",
     "text": [
      "100%|██████████| 28496/28496 [00:00<00:00, 2766367.01it/s]\n",
      "100%|██████████| 28496/28496 [00:00<00:00, 160720.45it/s]\n"
     ]
    },
    {
     "data": {
      "text/plain": [
       "{'recall@3': 0.035873444373555885,\n",
       " 'recall@5': 0.047851969556067575,\n",
       " 'recall@10': 0.05577968018029278,\n",
       " 'recall@all': 0.36979117860666194}"
      ]
     },
     "execution_count": 5,
     "metadata": {},
     "output_type": "execute_result"
    }
   ],
   "source": [
    "best_sell_n = list(trans_buy[\n",
    "    (trans_buy.buy_date > params['best_sell_period'][0]*100) & \n",
    "    (trans_buy.buy_date < params['best_sell_period'][1]*100)\n",
    "].fund_id.value_counts().index)[:params[\"best_sell_n\"]]\n",
    "rec_bestsell = {}\n",
    "for u in tqdm(test):\n",
    "    rec_bestsell[u] = best_sell_n\n",
    "\n",
    "recall_evaluate(rec_bestsell, test)"
   ]
  },
  {
   "cell_type": "code",
   "execution_count": null,
   "metadata": {},
   "outputs": [],
   "source": []
  }
 ],
 "metadata": {
  "kernelspec": {
   "display_name": "Python 3",
   "language": "python",
   "name": "python3"
  },
  "language_info": {
   "codemirror_mode": {
    "name": "ipython",
    "version": 3
   },
   "file_extension": ".py",
   "mimetype": "text/x-python",
   "name": "python",
   "nbconvert_exporter": "python",
   "pygments_lexer": "ipython3",
   "version": "3.6.9"
  }
 },
 "nbformat": 4,
 "nbformat_minor": 4
}
