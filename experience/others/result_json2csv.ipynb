{
 "cells": [
  {
   "cell_type": "code",
   "execution_count": 2,
   "metadata": {},
   "outputs": [],
   "source": [
    "import os\n",
    "import sys\n",
    "sys.path.append('../')\n",
    "import json\n",
    "import numpy as np\n",
    "import recs.path as path\n",
    "import pandas as pd\n",
    "from tqdm import tqdm"
   ]
  },
  {
   "cell_type": "code",
   "execution_count": 3,
   "metadata": {},
   "outputs": [],
   "source": [
    "def convert_result_json_2_csv(jsonfile: str, savename: str, topn=10):\n",
    "    with open(jsonfile) as jf:\n",
    "        result_json = json.load(jf)\n",
    "    \n",
    "    result_json_value = list(result_json.values())\n",
    "    \n",
    "    fundlist = [[] for _ in range(topn)]\n",
    "    \n",
    "    \n",
    "    for i in range(topn):\n",
    "        fundlist[i] = (list(map(lambda x : x[i], result_json_value)))\n",
    "            \n",
    "    df_dict = {}\n",
    "    df_dict['uid'] = result_json.keys()\n",
    "    for i in range(topn):\n",
    "        df_dict[f\"fundid{i}\"] = fundlist[i]\n",
    "        \n",
    "    df = pd.DataFrame(df_dict)\n",
    "    \n",
    "    if '.csv' not in savename:\n",
    "        savename += '.csv'\n",
    "    df.to_csv(savename)\n",
    "    print(f\"Convert {jsonfile} to {savename} success.\")\n",
    "        "
   ]
  },
  {
   "cell_type": "code",
   "execution_count": 4,
   "metadata": {},
   "outputs": [
    {
     "name": "stdout",
     "output_type": "stream",
     "text": [
      "Convert /tf/recommenders/export/r_2021_11_21_gboost_d3.json to /tf/recommenders/export/result/r_2021_11_21_gboost_d32.csv success.\n"
     ]
    }
   ],
   "source": [
    "r_name = \"r_2021_11_21_gboost_d3\"\n",
    "json_name = r_name+\".json\"\n",
    "json_path = os.path.join(path.export_path, json_name)\n",
    "result_path = os.path.join(path.export_path , \"result\")\n",
    "save_path = os.path.join(result_path, f\"{r_name}.csv\")\n",
    "convert_result_json_2_csv(json_path, save_path)\n"
   ]
  },
  {
   "cell_type": "code",
   "execution_count": null,
   "metadata": {},
   "outputs": [],
   "source": []
  }
 ],
 "metadata": {
  "kernelspec": {
   "display_name": "Python 3",
   "language": "python",
   "name": "python3"
  },
  "language_info": {
   "codemirror_mode": {
    "name": "ipython",
    "version": 3
   },
   "file_extension": ".py",
   "mimetype": "text/x-python",
   "name": "python",
   "nbconvert_exporter": "python",
   "pygments_lexer": "ipython3",
   "version": "3.6.9"
  }
 },
 "nbformat": 4,
 "nbformat_minor": 4
}
