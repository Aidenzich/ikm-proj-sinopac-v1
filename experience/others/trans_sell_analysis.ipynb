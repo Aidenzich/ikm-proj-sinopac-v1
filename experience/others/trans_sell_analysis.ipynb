{
 "cells": [
  {
   "cell_type": "code",
   "execution_count": 1,
   "metadata": {},
   "outputs": [],
   "source": [
    "import numpy as np\n",
    "import pandas as pd\n",
    "from sklearn import preprocessing\n",
    "from sklearn.metrics import accuracy_score, f1_score, recall_score\n",
    "from sklearn.model_selection import train_test_split\n",
    "from sklearn.linear_model import LogisticRegression\n",
    "from sklearn.decomposition import PCA\n",
    "import matplotlib.pyplot as plt\n",
    "import seaborn as sns"
   ]
  },
  {
   "cell_type": "code",
   "execution_count": 2,
   "metadata": {},
   "outputs": [],
   "source": [
    "df_trans_sell = pd.read_csv(\"trans_sell.csv\", encoding = \"Big5\")\n",
    "df_trans_sell.columns = [\"yyyymm\", \"id_number\", \"certificate\",\"fund_id\", \"invest_configure\", \"surplus\", \"principal\", \"present_value\"]"
   ]
  },
  {
   "cell_type": "code",
   "execution_count": 3,
   "metadata": {},
   "outputs": [],
   "source": [
    "df_trans_sell['variation'] = df_trans_sell[\"present_value\"] - df_trans_sell[\"principal\"]\n",
    "df_trans_sell['merge_key'] = df_trans_sell['yyyymm'].astype(str) + df_trans_sell['id_number'] + df_trans_sell['fund_id']"
   ]
  },
  {
   "cell_type": "code",
   "execution_count": 4,
   "metadata": {},
   "outputs": [
    {
     "name": "stdout",
     "output_type": "stream",
     "text": [
      "434701\n",
      "602973\n"
     ]
    }
   ],
   "source": [
    "print(len(df_trans_sell[df_trans_sell['surplus'] > 0].index))\n",
    "print(len(df_trans_sell))"
   ]
  },
  {
   "cell_type": "code",
   "execution_count": 5,
   "metadata": {},
   "outputs": [],
   "source": [
    "# df_trans_sell['merge_key'].value_counts().head(100)"
   ]
  },
  {
   "cell_type": "code",
   "execution_count": 6,
   "metadata": {},
   "outputs": [
    {
     "data": {
      "text/html": [
       "<div>\n",
       "<style scoped>\n",
       "    .dataframe tbody tr th:only-of-type {\n",
       "        vertical-align: middle;\n",
       "    }\n",
       "\n",
       "    .dataframe tbody tr th {\n",
       "        vertical-align: top;\n",
       "    }\n",
       "\n",
       "    .dataframe thead th {\n",
       "        text-align: right;\n",
       "    }\n",
       "</style>\n",
       "<table border=\"1\" class=\"dataframe\">\n",
       "  <thead>\n",
       "    <tr style=\"text-align: right;\">\n",
       "      <th></th>\n",
       "      <th>yyyymm</th>\n",
       "      <th>id_number</th>\n",
       "      <th>certificate</th>\n",
       "      <th>fund_id</th>\n",
       "      <th>invest_configure</th>\n",
       "      <th>surplus</th>\n",
       "      <th>principal</th>\n",
       "      <th>present_value</th>\n",
       "      <th>variation</th>\n",
       "      <th>merge_key</th>\n",
       "    </tr>\n",
       "  </thead>\n",
       "  <tbody>\n",
       "    <tr>\n",
       "      <th>25160</th>\n",
       "      <td>201607</td>\n",
       "      <td>A1727691450</td>\n",
       "      <td>10778G51500060</td>\n",
       "      <td>78G</td>\n",
       "      <td>a.定時定額</td>\n",
       "      <td>56614.06818</td>\n",
       "      <td>11.832407</td>\n",
       "      <td>9.900586</td>\n",
       "      <td>-1.931822</td>\n",
       "      <td>201607A172769145078G</td>\n",
       "    </tr>\n",
       "    <tr>\n",
       "      <th>165869</th>\n",
       "      <td>201605</td>\n",
       "      <td>A1727691450</td>\n",
       "      <td>10778G51500060</td>\n",
       "      <td>78G</td>\n",
       "      <td>a.定時定額</td>\n",
       "      <td>-104033.81236</td>\n",
       "      <td>613549.724190</td>\n",
       "      <td>509515.911833</td>\n",
       "      <td>-104033.812357</td>\n",
       "      <td>201605A172769145078G</td>\n",
       "    </tr>\n",
       "  </tbody>\n",
       "</table>\n",
       "</div>"
      ],
      "text/plain": [
       "        yyyymm    id_number     certificate fund_id invest_configure  \\\n",
       "25160   201607  A1727691450  10778G51500060     78G           a.定時定額   \n",
       "165869  201605  A1727691450  10778G51500060     78G           a.定時定額   \n",
       "\n",
       "             surplus      principal  present_value      variation  \\\n",
       "25160    56614.06818      11.832407       9.900586      -1.931822   \n",
       "165869 -104033.81236  613549.724190  509515.911833 -104033.812357   \n",
       "\n",
       "                   merge_key  \n",
       "25160   201607A172769145078G  \n",
       "165869  201605A172769145078G  "
      ]
     },
     "execution_count": 6,
     "metadata": {},
     "output_type": "execute_result"
    }
   ],
   "source": [
    "df_trans_sell[df_trans_sell['certificate'] == '10778G51500060']"
   ]
  },
  {
   "cell_type": "code",
   "execution_count": 7,
   "metadata": {},
   "outputs": [],
   "source": [
    "df_groupby = df_trans_sell.groupby(['merge_key']).agg({'variation':'sum', 'principal':'sum', 'present_value':'sum'})"
   ]
  },
  {
   "cell_type": "code",
   "execution_count": 8,
   "metadata": {},
   "outputs": [
    {
     "data": {
      "text/plain": [
       "variation        7.093340e+06\n",
       "principal        3.590971e+07\n",
       "present_value    4.300305e+07\n",
       "Name: 201701A1925995480224, dtype: float64"
      ]
     },
     "execution_count": 8,
     "metadata": {},
     "output_type": "execute_result"
    }
   ],
   "source": [
    "df_groupby.loc['201701A1925995480224']"
   ]
  },
  {
   "cell_type": "code",
   "execution_count": 9,
   "metadata": {},
   "outputs": [
    {
     "data": {
      "text/html": [
       "<div>\n",
       "<style scoped>\n",
       "    .dataframe tbody tr th:only-of-type {\n",
       "        vertical-align: middle;\n",
       "    }\n",
       "\n",
       "    .dataframe tbody tr th {\n",
       "        vertical-align: top;\n",
       "    }\n",
       "\n",
       "    .dataframe thead th {\n",
       "        text-align: right;\n",
       "    }\n",
       "</style>\n",
       "<table border=\"1\" class=\"dataframe\">\n",
       "  <thead>\n",
       "    <tr style=\"text-align: right;\">\n",
       "      <th></th>\n",
       "      <th>variation</th>\n",
       "      <th>principal</th>\n",
       "      <th>present_value</th>\n",
       "    </tr>\n",
       "    <tr>\n",
       "      <th>merge_key</th>\n",
       "      <th></th>\n",
       "      <th></th>\n",
       "      <th></th>\n",
       "    </tr>\n",
       "  </thead>\n",
       "  <tbody>\n",
       "  </tbody>\n",
       "</table>\n",
       "</div>"
      ],
      "text/plain": [
       "Empty DataFrame\n",
       "Columns: [variation, principal, present_value]\n",
       "Index: []"
      ]
     },
     "execution_count": 9,
     "metadata": {},
     "output_type": "execute_result"
    }
   ],
   "source": [
    "df_groupby.drop(df_groupby[df_groupby['principal'] == 0].index, inplace = True)\n",
    "df_groupby[df_groupby['principal'] == 0 ]"
   ]
  },
  {
   "cell_type": "code",
   "execution_count": 10,
   "metadata": {},
   "outputs": [],
   "source": [
    "df_groupby['realized_gain/loss'] = df_groupby['variation']/df_groupby['principal']"
   ]
  },
  {
   "cell_type": "code",
   "execution_count": 11,
   "metadata": {},
   "outputs": [
    {
     "data": {
      "text/plain": [
       "-1.000000     1\n",
       "-0.959488     1\n",
       "-0.890653     1\n",
       "-0.872828     1\n",
       "-0.868810     1\n",
       "             ..\n",
       " 6.392667     1\n",
       " 6.682573     1\n",
       " 6.723000     1\n",
       " 13.648275    1\n",
       " 19.473534    1\n",
       "Name: realized_gain/loss, Length: 442248, dtype: int64"
      ]
     },
     "execution_count": 11,
     "metadata": {},
     "output_type": "execute_result"
    }
   ],
   "source": [
    "df_groupby['realized_gain/loss'].value_counts().sort_index()"
   ]
  },
  {
   "cell_type": "code",
   "execution_count": 12,
   "metadata": {},
   "outputs": [],
   "source": [
    "df_groupby = pd.DataFrame({'merge_key': df_groupby.index, 'realized_gain/loss': df_groupby['realized_gain/loss']})"
   ]
  },
  {
   "cell_type": "code",
   "execution_count": 13,
   "metadata": {},
   "outputs": [],
   "source": [
    "df_groupby.reset_index(drop=True, inplace=True)"
   ]
  },
  {
   "cell_type": "code",
   "execution_count": 14,
   "metadata": {
    "scrolled": false
   },
   "outputs": [
    {
     "data": {
      "text/html": [
       "<div>\n",
       "<style scoped>\n",
       "    .dataframe tbody tr th:only-of-type {\n",
       "        vertical-align: middle;\n",
       "    }\n",
       "\n",
       "    .dataframe tbody tr th {\n",
       "        vertical-align: top;\n",
       "    }\n",
       "\n",
       "    .dataframe thead th {\n",
       "        text-align: right;\n",
       "    }\n",
       "</style>\n",
       "<table border=\"1\" class=\"dataframe\">\n",
       "  <thead>\n",
       "    <tr style=\"text-align: right;\">\n",
       "      <th></th>\n",
       "      <th>merge_key</th>\n",
       "      <th>realized_gain/loss</th>\n",
       "    </tr>\n",
       "  </thead>\n",
       "  <tbody>\n",
       "    <tr>\n",
       "      <th>0</th>\n",
       "      <td>20160189054091EH1K01</td>\n",
       "      <td>0.073765</td>\n",
       "    </tr>\n",
       "    <tr>\n",
       "      <th>1</th>\n",
       "      <td>201601A1220303130505</td>\n",
       "      <td>-0.215033</td>\n",
       "    </tr>\n",
       "    <tr>\n",
       "      <th>2</th>\n",
       "      <td>201601A1220335170396</td>\n",
       "      <td>-0.121000</td>\n",
       "    </tr>\n",
       "    <tr>\n",
       "      <th>3</th>\n",
       "      <td>201601A1220335170MB4</td>\n",
       "      <td>-0.044319</td>\n",
       "    </tr>\n",
       "    <tr>\n",
       "      <th>4</th>\n",
       "      <td>201601A1221932940596</td>\n",
       "      <td>-0.107574</td>\n",
       "    </tr>\n",
       "    <tr>\n",
       "      <th>...</th>\n",
       "      <td>...</td>\n",
       "      <td>...</td>\n",
       "    </tr>\n",
       "    <tr>\n",
       "      <th>527964</th>\n",
       "      <td>202012Z2222846790J84</td>\n",
       "      <td>0.045550</td>\n",
       "    </tr>\n",
       "    <tr>\n",
       "      <th>527965</th>\n",
       "      <td>202012Z2222846790MB0</td>\n",
       "      <td>0.065917</td>\n",
       "    </tr>\n",
       "    <tr>\n",
       "      <th>527966</th>\n",
       "      <td>202012Z2222853420FH5</td>\n",
       "      <td>0.123000</td>\n",
       "    </tr>\n",
       "    <tr>\n",
       "      <th>527967</th>\n",
       "      <td>202012Z2222853420FW1</td>\n",
       "      <td>0.120000</td>\n",
       "    </tr>\n",
       "    <tr>\n",
       "      <th>527968</th>\n",
       "      <td>202012Z242227738065S</td>\n",
       "      <td>0.057031</td>\n",
       "    </tr>\n",
       "  </tbody>\n",
       "</table>\n",
       "<p>527969 rows × 2 columns</p>\n",
       "</div>"
      ],
      "text/plain": [
       "                   merge_key  realized_gain/loss\n",
       "0       20160189054091EH1K01            0.073765\n",
       "1       201601A1220303130505           -0.215033\n",
       "2       201601A1220335170396           -0.121000\n",
       "3       201601A1220335170MB4           -0.044319\n",
       "4       201601A1221932940596           -0.107574\n",
       "...                      ...                 ...\n",
       "527964  202012Z2222846790J84            0.045550\n",
       "527965  202012Z2222846790MB0            0.065917\n",
       "527966  202012Z2222853420FH5            0.123000\n",
       "527967  202012Z2222853420FW1            0.120000\n",
       "527968  202012Z242227738065S            0.057031\n",
       "\n",
       "[527969 rows x 2 columns]"
      ]
     },
     "execution_count": 14,
     "metadata": {},
     "output_type": "execute_result"
    }
   ],
   "source": [
    "df_groupby"
   ]
  },
  {
   "cell_type": "code",
   "execution_count": 15,
   "metadata": {},
   "outputs": [
    {
     "data": {
      "text/html": [
       "<div>\n",
       "<style scoped>\n",
       "    .dataframe tbody tr th:only-of-type {\n",
       "        vertical-align: middle;\n",
       "    }\n",
       "\n",
       "    .dataframe tbody tr th {\n",
       "        vertical-align: top;\n",
       "    }\n",
       "\n",
       "    .dataframe thead th {\n",
       "        text-align: right;\n",
       "    }\n",
       "</style>\n",
       "<table border=\"1\" class=\"dataframe\">\n",
       "  <thead>\n",
       "    <tr style=\"text-align: right;\">\n",
       "      <th></th>\n",
       "      <th>yyyymm</th>\n",
       "      <th>id_number</th>\n",
       "      <th>certificate</th>\n",
       "      <th>fund_id</th>\n",
       "      <th>invest_configure</th>\n",
       "      <th>surplus</th>\n",
       "      <th>principal</th>\n",
       "      <th>present_value</th>\n",
       "      <th>variation</th>\n",
       "      <th>merge_key</th>\n",
       "    </tr>\n",
       "  </thead>\n",
       "  <tbody>\n",
       "    <tr>\n",
       "      <th>11</th>\n",
       "      <td>201601</td>\n",
       "      <td>A1757969050</td>\n",
       "      <td>138F8741500438</td>\n",
       "      <td>F87</td>\n",
       "      <td>b.單筆申購</td>\n",
       "      <td>-10431.97276</td>\n",
       "      <td>167997.500000</td>\n",
       "      <td>157565.527240</td>\n",
       "      <td>-10431.972760</td>\n",
       "      <td>201601A1757969050F87</td>\n",
       "    </tr>\n",
       "    <tr>\n",
       "      <th>111</th>\n",
       "      <td>201601</td>\n",
       "      <td>A2791533910</td>\n",
       "      <td>126AE751500084</td>\n",
       "      <td>AE7</td>\n",
       "      <td>a.定時定額</td>\n",
       "      <td>-5233.70550</td>\n",
       "      <td>119700.937298</td>\n",
       "      <td>114467.231794</td>\n",
       "      <td>-5233.705505</td>\n",
       "      <td>201601A2791533910AE7</td>\n",
       "    </tr>\n",
       "    <tr>\n",
       "      <th>157</th>\n",
       "      <td>201601</td>\n",
       "      <td>A1924415990</td>\n",
       "      <td>105CK331300026</td>\n",
       "      <td>CK3</td>\n",
       "      <td>a.定時定額</td>\n",
       "      <td>23.00000</td>\n",
       "      <td>12000.000000</td>\n",
       "      <td>12023.000000</td>\n",
       "      <td>23.000000</td>\n",
       "      <td>201601A1924415990CK3</td>\n",
       "    </tr>\n",
       "    <tr>\n",
       "      <th>230</th>\n",
       "      <td>201601</td>\n",
       "      <td>A1924415990</td>\n",
       "      <td>105J0111500151</td>\n",
       "      <td>J01</td>\n",
       "      <td>a.定時定額</td>\n",
       "      <td>486.00000</td>\n",
       "      <td>12000.000000</td>\n",
       "      <td>12486.000000</td>\n",
       "      <td>486.000000</td>\n",
       "      <td>201601A1924415990J01</td>\n",
       "    </tr>\n",
       "    <tr>\n",
       "      <th>231</th>\n",
       "      <td>201601</td>\n",
       "      <td>A1924415990</td>\n",
       "      <td>105Y3251300200</td>\n",
       "      <td>Y32</td>\n",
       "      <td>a.定時定額</td>\n",
       "      <td>-2585.92154</td>\n",
       "      <td>36129.304800</td>\n",
       "      <td>33543.383262</td>\n",
       "      <td>-2585.921538</td>\n",
       "      <td>201601A1924415990Y32</td>\n",
       "    </tr>\n",
       "    <tr>\n",
       "      <th>...</th>\n",
       "      <td>...</td>\n",
       "      <td>...</td>\n",
       "      <td>...</td>\n",
       "      <td>...</td>\n",
       "      <td>...</td>\n",
       "      <td>...</td>\n",
       "      <td>...</td>\n",
       "      <td>...</td>\n",
       "      <td>...</td>\n",
       "      <td>...</td>\n",
       "    </tr>\n",
       "    <tr>\n",
       "      <th>602927</th>\n",
       "      <td>202012</td>\n",
       "      <td>A2732223460</td>\n",
       "      <td>190J8002000236</td>\n",
       "      <td>J80</td>\n",
       "      <td>b.單筆申購</td>\n",
       "      <td>1805.00000</td>\n",
       "      <td>100000.000000</td>\n",
       "      <td>101805.000000</td>\n",
       "      <td>1805.000000</td>\n",
       "      <td>202012A2732223460J80</td>\n",
       "    </tr>\n",
       "    <tr>\n",
       "      <th>602928</th>\n",
       "      <td>202012</td>\n",
       "      <td>A2732223460</td>\n",
       "      <td>190MU702000156</td>\n",
       "      <td>MU7</td>\n",
       "      <td>b.單筆申購</td>\n",
       "      <td>2913.00000</td>\n",
       "      <td>100000.000000</td>\n",
       "      <td>102913.000000</td>\n",
       "      <td>2913.000000</td>\n",
       "      <td>202012A2732223460MU7</td>\n",
       "    </tr>\n",
       "    <tr>\n",
       "      <th>602955</th>\n",
       "      <td>202012</td>\n",
       "      <td>A2795667510</td>\n",
       "      <td>039MX452000033</td>\n",
       "      <td>MX4</td>\n",
       "      <td>a.定時定額</td>\n",
       "      <td>2278.62111</td>\n",
       "      <td>45758.208000</td>\n",
       "      <td>48036.829104</td>\n",
       "      <td>2278.621104</td>\n",
       "      <td>202012A2795667510MX4</td>\n",
       "    </tr>\n",
       "    <tr>\n",
       "      <th>602969</th>\n",
       "      <td>202012</td>\n",
       "      <td>C1726080360</td>\n",
       "      <td>190J8412000150</td>\n",
       "      <td>J84</td>\n",
       "      <td>a.定時定額</td>\n",
       "      <td>3.00000</td>\n",
       "      <td>100.000000</td>\n",
       "      <td>103.000000</td>\n",
       "      <td>3.000000</td>\n",
       "      <td>202012C1726080360J84</td>\n",
       "    </tr>\n",
       "    <tr>\n",
       "      <th>602970</th>\n",
       "      <td>202012</td>\n",
       "      <td>C1726080360</td>\n",
       "      <td>190J9112000161</td>\n",
       "      <td>J91</td>\n",
       "      <td>a.定時定額</td>\n",
       "      <td>1.00000</td>\n",
       "      <td>100.000000</td>\n",
       "      <td>101.000000</td>\n",
       "      <td>1.000000</td>\n",
       "      <td>202012C1726080360J91</td>\n",
       "    </tr>\n",
       "  </tbody>\n",
       "</table>\n",
       "<p>25080 rows × 10 columns</p>\n",
       "</div>"
      ],
      "text/plain": [
       "        yyyymm    id_number     certificate fund_id invest_configure  \\\n",
       "11      201601  A1757969050  138F8741500438     F87           b.單筆申購   \n",
       "111     201601  A2791533910  126AE751500084     AE7           a.定時定額   \n",
       "157     201601  A1924415990  105CK331300026     CK3           a.定時定額   \n",
       "230     201601  A1924415990  105J0111500151     J01           a.定時定額   \n",
       "231     201601  A1924415990  105Y3251300200     Y32           a.定時定額   \n",
       "...        ...          ...             ...     ...              ...   \n",
       "602927  202012  A2732223460  190J8002000236     J80           b.單筆申購   \n",
       "602928  202012  A2732223460  190MU702000156     MU7           b.單筆申購   \n",
       "602955  202012  A2795667510  039MX452000033     MX4           a.定時定額   \n",
       "602969  202012  C1726080360  190J8412000150     J84           a.定時定額   \n",
       "602970  202012  C1726080360  190J9112000161     J91           a.定時定額   \n",
       "\n",
       "            surplus      principal  present_value     variation  \\\n",
       "11     -10431.97276  167997.500000  157565.527240 -10431.972760   \n",
       "111     -5233.70550  119700.937298  114467.231794  -5233.705505   \n",
       "157        23.00000   12000.000000   12023.000000     23.000000   \n",
       "230       486.00000   12000.000000   12486.000000    486.000000   \n",
       "231     -2585.92154   36129.304800   33543.383262  -2585.921538   \n",
       "...             ...            ...            ...           ...   \n",
       "602927   1805.00000  100000.000000  101805.000000   1805.000000   \n",
       "602928   2913.00000  100000.000000  102913.000000   2913.000000   \n",
       "602955   2278.62111   45758.208000   48036.829104   2278.621104   \n",
       "602969      3.00000     100.000000     103.000000      3.000000   \n",
       "602970      1.00000     100.000000     101.000000      1.000000   \n",
       "\n",
       "                   merge_key  \n",
       "11      201601A1757969050F87  \n",
       "111     201601A2791533910AE7  \n",
       "157     201601A1924415990CK3  \n",
       "230     201601A1924415990J01  \n",
       "231     201601A1924415990Y32  \n",
       "...                      ...  \n",
       "602927  202012A2732223460J80  \n",
       "602928  202012A2732223460MU7  \n",
       "602955  202012A2795667510MX4  \n",
       "602969  202012C1726080360J84  \n",
       "602970  202012C1726080360J91  \n",
       "\n",
       "[25080 rows x 10 columns]"
      ]
     },
     "execution_count": 15,
     "metadata": {},
     "output_type": "execute_result"
    }
   ],
   "source": [
    "df_trans_buy = pd.read_csv(\"trans_buy.csv\")\n",
    "df_trans_buy.columns = ['id_number', 'certificate', 'fund_id', 'buy_date','deduction_num', 'deduction_local_amount']\n",
    "top_client = df_trans_buy['id_number'].value_counts().head(100).index\n",
    "df_trans_sell[df_trans_sell['id_number'].isin(top_client)]"
   ]
  },
  {
   "cell_type": "code",
   "execution_count": null,
   "metadata": {},
   "outputs": [],
   "source": []
  }
 ],
 "metadata": {
  "kernelspec": {
   "display_name": "Python 3",
   "language": "python",
   "name": "python3"
  },
  "language_info": {
   "codemirror_mode": {
    "name": "ipython",
    "version": 3
   },
   "file_extension": ".py",
   "mimetype": "text/x-python",
   "name": "python",
   "nbconvert_exporter": "python",
   "pygments_lexer": "ipython3",
   "version": "3.6.9"
  }
 },
 "nbformat": 4,
 "nbformat_minor": 4
}
