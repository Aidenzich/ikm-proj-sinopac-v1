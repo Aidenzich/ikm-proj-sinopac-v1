{
 "cells": [
  {
   "cell_type": "code",
   "execution_count": 1,
   "metadata": {},
   "outputs": [],
   "source": [
    "import os\n",
    "import sys\n",
    "sys.path.append('../../')\n",
    "import math\n",
    "import pandas as pd\n",
    "import numpy as np\n",
    "import recs.path as path\n",
    "import json\n",
    "from recs.backtest import get_backtest_answer, model_score_logger\n",
    "from recs.cf_mf import MatrixFactorization, generate_cf_predict_df\n",
    "from recs.util import id2cat, recall_evaluate, readjson2dict\n",
    "import recs.path as path\n",
    "from scipy.sparse import csr_matrix\n",
    "from scipy.sparse.linalg import svds\n",
    "from tqdm import tqdm\n",
    "import time"
   ]
  },
  {
   "cell_type": "code",
   "execution_count": 2,
   "metadata": {},
   "outputs": [
    {
     "name": "stderr",
     "output_type": "stream",
     "text": [
      "100%|██████████| 24460/24460 [00:44<00:00, 548.48it/s]\n"
     ]
    }
   ],
   "source": [
    "# Date Setting\n",
    "pred_period = [202001, 202007]\n",
    "history_period = [201600, 202000]\n",
    "best_sell_period = [201800 ,202000]\n",
    "current_yyyymm = 201912\n",
    "\n",
    "# Date Validations\n",
    "if (history_period[1] > pred_period[0]):\n",
    "    raise SystemExit(\"Error: predict_start > history_end\")\n",
    "    \n",
    "if (current_yyyymm > history_period[1]):\n",
    "    raise SystemExit(\"Error: target_user_date > history_end\")\n",
    "\n",
    "u2idx = readjson2dict(\"crm_idx\")\n",
    "i2idx = readjson2dict(\"fund_info_idx\")\n",
    "\n",
    "crm_path = os.path.join(path.data_path, \"crm_diff.pkl\")\n",
    "trans_buy_path = os.path.join(path.data_path, \"trans_buy.pkl\")\n",
    "\n",
    "\n",
    "trans_buy = pd.read_pickle(trans_buy_path)\n",
    "crm = pd.read_pickle(crm_path)\n",
    "target_users = crm[crm.yyyymm == current_yyyymm].id_number.unique().tolist()\n",
    "\n",
    "# training\n",
    "train_df = trans_buy[\n",
    "    (trans_buy.buy_date < history_period[1]*100) &\n",
    "    (trans_buy.buy_date > history_period[0]*100) \n",
    "]\n",
    "\n",
    "# testing\n",
    "test_df = trans_buy[\n",
    "    (trans_buy.buy_date > pred_period[0]*100) &\n",
    "    (trans_buy.buy_date < pred_period[1]*100)\n",
    "]\n",
    "\n",
    "# Testing Result\n",
    "\n",
    "test_users = test_df.id_number.unique().tolist()\n",
    "\n",
    "test = get_backtest_answer(test_df, test_users, pred_period[0]*100, pred_period[1]*100)\n"
   ]
  },
  {
   "cell_type": "code",
   "execution_count": 45,
   "metadata": {},
   "outputs": [
    {
     "name": "stderr",
     "output_type": "stream",
     "text": [
      "100%|██████████| 233507/233507 [02:52<00:00, 1351.19it/s]\n",
      "/usr/local/lib/python3.6/dist-packages/ipykernel_launcher.py:2: SettingWithCopyWarning: \n",
      "A value is trying to be set on a copy of a slice from a DataFrame.\n",
      "Try using .loc[row_indexer,col_indexer] = value instead\n",
      "\n",
      "See the caveats in the documentation: https://pandas.pydata.org/pandas-docs/stable/user_guide/indexing.html#returning-a-view-versus-a-copy\n",
      "  \n"
     ]
    }
   ],
   "source": [
    "tqdm.pandas()\n",
    "train_df['t_weight'] = train_df.buy_date.progress_apply(lambda x: (x - train_df.buy_date.min() + 1) / (train_df.buy_date.max() - train_df.buy_date.min()))"
   ]
  },
  {
   "cell_type": "code",
   "execution_count": 60,
   "metadata": {},
   "outputs": [],
   "source": [
    "rate_df = train_df.groupby([\"id_number\", \"fund_id\"]).agg({'t_weight':'sum'}).reset_index().rename(columns={\"t_weight\": \"Rate\"})\n",
    "# rate_df = train_df.groupby([\"id_number\", \"fund_id\"]).size().reset_index(name=\"Rate\")\n",
    "best_sells = trans_buy[\n",
    "    (trans_buy.buy_date > best_sell_period[0]*100) & (trans_buy.buy_date < best_sell_period[1]*100)\n",
    "].fund_id.value_counts().rename_axis('fund_id').reset_index(name='count')\n",
    "\n",
    "def rec_forward(rate_df, svds_k, target_users = test_users, ignore_item=[], train_bs_funds=200):\n",
    "    rate_df = rate_df[~rate_df.fund_id.isin(ignore_item)]\n",
    "    rate_df =rate_df[\n",
    "        rate_df['fund_id'].isin(best_sells['fund_id'].tolist()[:train_bs_funds])\n",
    "    ]\n",
    "    cf_preds_matrix = generate_cf_predict_df(rate_df, svds_k)\n",
    "    CF = MatrixFactorization(cf_preds_matrix)\n",
    "        \n",
    "    rec_dict = {}\n",
    "    for u in tqdm(target_users):\n",
    "        ignore_items = train_df[train_df.id_number == u].fund_id.unique().tolist()\n",
    "        if (u in cf_preds_matrix.columns.tolist()):            \n",
    "            rec_dict[u] = CF.rec_items(u, items_to_ignore=ignore_items).fund_id.tolist()\n",
    "        else:\n",
    "            best_sell_funds = best_sells[~best_sells['fund_id'].isin(ignore_items)]['fund_id'].tolist()[:10]\n",
    "            rec_dict[u] = best_sell_funds\n",
    "            \n",
    "    return rec_dict\n",
    "    "
   ]
  },
  {
   "cell_type": "code",
   "execution_count": 53,
   "metadata": {},
   "outputs": [
    {
     "name": "stderr",
     "output_type": "stream",
     "text": [
      "100%|██████████| 24460/24460 [01:35<00:00, 255.00it/s]\n",
      "100%|██████████| 24460/24460 [00:00<00:00, 215018.58it/s]"
     ]
    },
    {
     "name": "stdout",
     "output_type": "stream",
     "text": [
      "{'recall@3': 0.029715549271708684, 'recall@5': 0.04011174825264121, 'recall@10': 0.055852809816294875, 'recall@all': 0.055852809816294875}\n"
     ]
    },
    {
     "name": "stderr",
     "output_type": "stream",
     "text": [
      "\n"
     ]
    }
   ],
   "source": [
    "params = {\n",
    "    \"svd_k\": 15,\n",
    "}\n",
    "rec_dict = rec_forward(rate_df, params[\"svd_k\"])\n",
    "scores = recall_evaluate(rec_dict, test)\n",
    "model_score_logger('MF', params, scores)\n",
    "print(scores)"
   ]
  },
  {
   "cell_type": "code",
   "execution_count": 66,
   "metadata": {},
   "outputs": [
    {
     "name": "stdout",
     "output_type": "stream",
     "text": [
      "0\n"
     ]
    },
    {
     "name": "stderr",
     "output_type": "stream",
     "text": [
      "100%|██████████| 24460/24460 [01:32<00:00, 263.17it/s]\n",
      "100%|██████████| 24460/24460 [00:00<00:00, 214953.71it/s]\n"
     ]
    },
    {
     "name": "stdout",
     "output_type": "stream",
     "text": [
      "0\n"
     ]
    },
    {
     "name": "stderr",
     "output_type": "stream",
     "text": [
      "100%|██████████| 24460/24460 [01:30<00:00, 269.47it/s]\n",
      "100%|██████████| 24460/24460 [00:00<00:00, 203753.37it/s]\n"
     ]
    },
    {
     "name": "stdout",
     "output_type": "stream",
     "text": [
      "0\n"
     ]
    },
    {
     "name": "stderr",
     "output_type": "stream",
     "text": [
      "100%|██████████| 24460/24460 [01:27<00:00, 280.47it/s]\n",
      "100%|██████████| 24460/24460 [00:00<00:00, 209992.50it/s]\n"
     ]
    },
    {
     "name": "stdout",
     "output_type": "stream",
     "text": [
      "0\n"
     ]
    },
    {
     "name": "stderr",
     "output_type": "stream",
     "text": [
      "100%|██████████| 24460/24460 [01:30<00:00, 268.91it/s]\n",
      "100%|██████████| 24460/24460 [00:00<00:00, 211556.15it/s]\n"
     ]
    },
    {
     "name": "stdout",
     "output_type": "stream",
     "text": [
      "0\n"
     ]
    },
    {
     "name": "stderr",
     "output_type": "stream",
     "text": [
      "100%|██████████| 24460/24460 [01:30<00:00, 271.29it/s]\n",
      "100%|██████████| 24460/24460 [00:00<00:00, 211587.13it/s]\n"
     ]
    },
    {
     "name": "stdout",
     "output_type": "stream",
     "text": [
      "0\n"
     ]
    },
    {
     "name": "stderr",
     "output_type": "stream",
     "text": [
      "100%|██████████| 24460/24460 [01:30<00:00, 269.00it/s]\n",
      "100%|██████████| 24460/24460 [00:00<00:00, 213422.17it/s]\n"
     ]
    },
    {
     "name": "stdout",
     "output_type": "stream",
     "text": [
      "0\n"
     ]
    },
    {
     "name": "stderr",
     "output_type": "stream",
     "text": [
      "100%|██████████| 24460/24460 [01:30<00:00, 269.54it/s]\n",
      "100%|██████████| 24460/24460 [00:00<00:00, 213023.33it/s]\n"
     ]
    },
    {
     "name": "stdout",
     "output_type": "stream",
     "text": [
      "0\n"
     ]
    },
    {
     "name": "stderr",
     "output_type": "stream",
     "text": [
      "100%|██████████| 24460/24460 [01:30<00:00, 269.58it/s]\n",
      "100%|██████████| 24460/24460 [00:00<00:00, 209262.62it/s]\n"
     ]
    },
    {
     "name": "stdout",
     "output_type": "stream",
     "text": [
      "1\n"
     ]
    },
    {
     "name": "stderr",
     "output_type": "stream",
     "text": [
      "100%|██████████| 24460/24460 [01:35<00:00, 255.23it/s]\n",
      "100%|██████████| 24460/24460 [00:00<00:00, 210607.22it/s]\n"
     ]
    },
    {
     "name": "stdout",
     "output_type": "stream",
     "text": [
      "1\n"
     ]
    },
    {
     "name": "stderr",
     "output_type": "stream",
     "text": [
      "100%|██████████| 24460/24460 [01:36<00:00, 254.46it/s]\n",
      "100%|██████████| 24460/24460 [00:00<00:00, 208053.16it/s]\n"
     ]
    },
    {
     "name": "stdout",
     "output_type": "stream",
     "text": [
      "1\n"
     ]
    },
    {
     "name": "stderr",
     "output_type": "stream",
     "text": [
      "100%|██████████| 24460/24460 [01:35<00:00, 257.05it/s]\n",
      "100%|██████████| 24460/24460 [00:00<00:00, 208100.42it/s]\n"
     ]
    },
    {
     "name": "stdout",
     "output_type": "stream",
     "text": [
      "1\n"
     ]
    },
    {
     "name": "stderr",
     "output_type": "stream",
     "text": [
      "100%|██████████| 24460/24460 [01:35<00:00, 257.12it/s]\n",
      "100%|██████████| 24460/24460 [00:00<00:00, 208208.96it/s]\n"
     ]
    },
    {
     "name": "stdout",
     "output_type": "stream",
     "text": [
      "1\n"
     ]
    },
    {
     "name": "stderr",
     "output_type": "stream",
     "text": [
      "100%|██████████| 24460/24460 [01:34<00:00, 258.32it/s]\n",
      "100%|██████████| 24460/24460 [00:00<00:00, 208855.36it/s]\n"
     ]
    },
    {
     "name": "stdout",
     "output_type": "stream",
     "text": [
      "1\n"
     ]
    },
    {
     "name": "stderr",
     "output_type": "stream",
     "text": [
      "100%|██████████| 24460/24460 [01:35<00:00, 256.01it/s]\n",
      "100%|██████████| 24460/24460 [00:00<00:00, 212175.69it/s]\n"
     ]
    },
    {
     "name": "stdout",
     "output_type": "stream",
     "text": [
      "1\n"
     ]
    },
    {
     "name": "stderr",
     "output_type": "stream",
     "text": [
      "100%|██████████| 24460/24460 [01:35<00:00, 256.71it/s]\n",
      "100%|██████████| 24460/24460 [00:00<00:00, 214648.79it/s]\n"
     ]
    },
    {
     "name": "stdout",
     "output_type": "stream",
     "text": [
      "1\n"
     ]
    },
    {
     "name": "stderr",
     "output_type": "stream",
     "text": [
      "100%|██████████| 24460/24460 [01:34<00:00, 259.70it/s]\n",
      "100%|██████████| 24460/24460 [00:00<00:00, 208037.55it/s]\n"
     ]
    },
    {
     "name": "stdout",
     "output_type": "stream",
     "text": [
      "2\n"
     ]
    },
    {
     "name": "stderr",
     "output_type": "stream",
     "text": [
      "100%|██████████| 24460/24460 [01:36<00:00, 252.82it/s]\n",
      "100%|██████████| 24460/24460 [00:00<00:00, 212130.07it/s]\n"
     ]
    },
    {
     "name": "stdout",
     "output_type": "stream",
     "text": [
      "2\n"
     ]
    },
    {
     "name": "stderr",
     "output_type": "stream",
     "text": [
      "100%|██████████| 24460/24460 [01:38<00:00, 248.24it/s]\n",
      "100%|██████████| 24460/24460 [00:00<00:00, 212422.59it/s]\n"
     ]
    },
    {
     "name": "stdout",
     "output_type": "stream",
     "text": [
      "2\n"
     ]
    },
    {
     "name": "stderr",
     "output_type": "stream",
     "text": [
      "100%|██████████| 24460/24460 [01:37<00:00, 250.82it/s]\n",
      "100%|██████████| 24460/24460 [00:00<00:00, 205828.36it/s]\n"
     ]
    },
    {
     "name": "stdout",
     "output_type": "stream",
     "text": [
      "2\n"
     ]
    },
    {
     "name": "stderr",
     "output_type": "stream",
     "text": [
      "100%|██████████| 24460/24460 [01:39<00:00, 246.44it/s]\n",
      "100%|██████████| 24460/24460 [00:00<00:00, 210034.63it/s]\n"
     ]
    },
    {
     "name": "stdout",
     "output_type": "stream",
     "text": [
      "2\n"
     ]
    },
    {
     "name": "stderr",
     "output_type": "stream",
     "text": [
      "100%|██████████| 24460/24460 [01:38<00:00, 247.14it/s]\n",
      "100%|██████████| 24460/24460 [00:00<00:00, 210057.42it/s]\n"
     ]
    },
    {
     "name": "stdout",
     "output_type": "stream",
     "text": [
      "2\n"
     ]
    },
    {
     "name": "stderr",
     "output_type": "stream",
     "text": [
      "100%|██████████| 24460/24460 [01:38<00:00, 247.15it/s]\n",
      "100%|██████████| 24460/24460 [00:00<00:00, 204858.40it/s]\n"
     ]
    },
    {
     "name": "stdout",
     "output_type": "stream",
     "text": [
      "2\n"
     ]
    },
    {
     "name": "stderr",
     "output_type": "stream",
     "text": [
      "100%|██████████| 24460/24460 [01:38<00:00, 247.78it/s]\n",
      "100%|██████████| 24460/24460 [00:00<00:00, 207735.51it/s]\n"
     ]
    },
    {
     "name": "stdout",
     "output_type": "stream",
     "text": [
      "2\n"
     ]
    },
    {
     "name": "stderr",
     "output_type": "stream",
     "text": [
      "100%|██████████| 24460/24460 [01:39<00:00, 245.33it/s]\n",
      "100%|██████████| 24460/24460 [00:00<00:00, 204546.35it/s]\n"
     ]
    },
    {
     "name": "stdout",
     "output_type": "stream",
     "text": [
      "3\n"
     ]
    },
    {
     "name": "stderr",
     "output_type": "stream",
     "text": [
      "100%|██████████| 24460/24460 [01:39<00:00, 245.75it/s]\n",
      "100%|██████████| 24460/24460 [00:00<00:00, 208252.49it/s]\n"
     ]
    },
    {
     "name": "stdout",
     "output_type": "stream",
     "text": [
      "3\n"
     ]
    },
    {
     "name": "stderr",
     "output_type": "stream",
     "text": [
      "100%|██████████| 24460/24460 [01:38<00:00, 248.82it/s]\n",
      "100%|██████████| 24460/24460 [00:00<00:00, 208416.22it/s]\n"
     ]
    },
    {
     "name": "stdout",
     "output_type": "stream",
     "text": [
      "3\n"
     ]
    },
    {
     "name": "stderr",
     "output_type": "stream",
     "text": [
      "100%|██████████| 24460/24460 [01:39<00:00, 246.07it/s]\n",
      "100%|██████████| 24460/24460 [00:00<00:00, 211027.44it/s]\n"
     ]
    },
    {
     "name": "stdout",
     "output_type": "stream",
     "text": [
      "3\n"
     ]
    },
    {
     "name": "stderr",
     "output_type": "stream",
     "text": [
      "100%|██████████| 24460/24460 [01:40<00:00, 243.90it/s]\n",
      "100%|██████████| 24460/24460 [00:00<00:00, 210152.95it/s]\n"
     ]
    },
    {
     "name": "stdout",
     "output_type": "stream",
     "text": [
      "3\n"
     ]
    },
    {
     "name": "stderr",
     "output_type": "stream",
     "text": [
      "100%|██████████| 24460/24460 [01:39<00:00, 244.76it/s]\n",
      "100%|██████████| 24460/24460 [00:00<00:00, 212341.69it/s]\n"
     ]
    },
    {
     "name": "stdout",
     "output_type": "stream",
     "text": [
      "3\n"
     ]
    },
    {
     "name": "stderr",
     "output_type": "stream",
     "text": [
      "100%|██████████| 24460/24460 [01:38<00:00, 247.27it/s]\n",
      "100%|██████████| 24460/24460 [00:00<00:00, 208929.37it/s]\n"
     ]
    },
    {
     "name": "stdout",
     "output_type": "stream",
     "text": [
      "3\n"
     ]
    },
    {
     "name": "stderr",
     "output_type": "stream",
     "text": [
      "100%|██████████| 24460/24460 [01:36<00:00, 252.87it/s]\n",
      "100%|██████████| 24460/24460 [00:00<00:00, 212314.45it/s]\n"
     ]
    },
    {
     "name": "stdout",
     "output_type": "stream",
     "text": [
      "3\n"
     ]
    },
    {
     "name": "stderr",
     "output_type": "stream",
     "text": [
      "100%|██████████| 24460/24460 [01:36<00:00, 254.51it/s]\n",
      "100%|██████████| 24460/24460 [00:00<00:00, 210623.65it/s]\n"
     ]
    },
    {
     "name": "stdout",
     "output_type": "stream",
     "text": [
      "4\n"
     ]
    },
    {
     "name": "stderr",
     "output_type": "stream",
     "text": [
      "100%|██████████| 24460/24460 [01:37<00:00, 250.64it/s]\n",
      "100%|██████████| 24460/24460 [00:00<00:00, 209061.35it/s]\n"
     ]
    },
    {
     "name": "stdout",
     "output_type": "stream",
     "text": [
      "4\n"
     ]
    },
    {
     "name": "stderr",
     "output_type": "stream",
     "text": [
      "100%|██████████| 24460/24460 [01:36<00:00, 252.49it/s]\n",
      "100%|██████████| 24460/24460 [00:00<00:00, 209968.86it/s]\n"
     ]
    },
    {
     "name": "stdout",
     "output_type": "stream",
     "text": [
      "4\n"
     ]
    },
    {
     "name": "stderr",
     "output_type": "stream",
     "text": [
      "100%|██████████| 24460/24460 [01:37<00:00, 251.83it/s]\n",
      "100%|██████████| 24460/24460 [00:00<00:00, 206854.67it/s]\n"
     ]
    },
    {
     "name": "stdout",
     "output_type": "stream",
     "text": [
      "4\n"
     ]
    },
    {
     "name": "stderr",
     "output_type": "stream",
     "text": [
      "100%|██████████| 24460/24460 [01:28<00:00, 277.39it/s]\n",
      "100%|██████████| 24460/24460 [00:00<00:00, 209296.35it/s]\n"
     ]
    },
    {
     "name": "stdout",
     "output_type": "stream",
     "text": [
      "4\n"
     ]
    },
    {
     "name": "stderr",
     "output_type": "stream",
     "text": [
      "100%|██████████| 24460/24460 [01:19<00:00, 309.52it/s]\n",
      "100%|██████████| 24460/24460 [00:00<00:00, 214856.92it/s]\n"
     ]
    },
    {
     "name": "stdout",
     "output_type": "stream",
     "text": [
      "4\n"
     ]
    },
    {
     "name": "stderr",
     "output_type": "stream",
     "text": [
      "100%|██████████| 24460/24460 [01:16<00:00, 317.71it/s]\n",
      "100%|██████████| 24460/24460 [00:00<00:00, 213594.57it/s]\n"
     ]
    },
    {
     "name": "stdout",
     "output_type": "stream",
     "text": [
      "4\n"
     ]
    },
    {
     "name": "stderr",
     "output_type": "stream",
     "text": [
      "100%|██████████| 24460/24460 [01:16<00:00, 318.54it/s]\n",
      "100%|██████████| 24460/24460 [00:00<00:00, 209155.97it/s]\n"
     ]
    },
    {
     "name": "stdout",
     "output_type": "stream",
     "text": [
      "4\n"
     ]
    },
    {
     "name": "stderr",
     "output_type": "stream",
     "text": [
      "100%|██████████| 24460/24460 [01:16<00:00, 319.69it/s]\n",
      "100%|██████████| 24460/24460 [00:00<00:00, 212912.37it/s]\n"
     ]
    },
    {
     "name": "stdout",
     "output_type": "stream",
     "text": [
      "5\n"
     ]
    },
    {
     "name": "stderr",
     "output_type": "stream",
     "text": [
      "100%|██████████| 24460/24460 [01:17<00:00, 317.18it/s]\n",
      "100%|██████████| 24460/24460 [00:00<00:00, 213126.00it/s]\n"
     ]
    },
    {
     "name": "stdout",
     "output_type": "stream",
     "text": [
      "5\n"
     ]
    },
    {
     "name": "stderr",
     "output_type": "stream",
     "text": [
      "100%|██████████| 24460/24460 [01:17<00:00, 316.89it/s]\n",
      "100%|██████████| 24460/24460 [00:00<00:00, 210367.11it/s]\n"
     ]
    },
    {
     "name": "stdout",
     "output_type": "stream",
     "text": [
      "5\n"
     ]
    },
    {
     "name": "stderr",
     "output_type": "stream",
     "text": [
      "100%|██████████| 24460/24460 [01:16<00:00, 317.81it/s]\n",
      "100%|██████████| 24460/24460 [00:00<00:00, 213325.42it/s]\n"
     ]
    },
    {
     "name": "stdout",
     "output_type": "stream",
     "text": [
      "5\n"
     ]
    },
    {
     "name": "stderr",
     "output_type": "stream",
     "text": [
      "100%|██████████| 24460/24460 [01:17<00:00, 315.01it/s]\n",
      "100%|██████████| 24460/24460 [00:00<00:00, 209698.91it/s]\n"
     ]
    },
    {
     "name": "stdout",
     "output_type": "stream",
     "text": [
      "5\n"
     ]
    },
    {
     "name": "stderr",
     "output_type": "stream",
     "text": [
      "100%|██████████| 24460/24460 [01:16<00:00, 318.37it/s]\n",
      "100%|██████████| 24460/24460 [00:00<00:00, 212681.52it/s]\n"
     ]
    },
    {
     "name": "stdout",
     "output_type": "stream",
     "text": [
      "5\n"
     ]
    },
    {
     "name": "stderr",
     "output_type": "stream",
     "text": [
      "100%|██████████| 24460/24460 [01:17<00:00, 316.34it/s]\n",
      "100%|██████████| 24460/24460 [00:00<00:00, 211907.04it/s]\n"
     ]
    },
    {
     "name": "stdout",
     "output_type": "stream",
     "text": [
      "5\n"
     ]
    },
    {
     "name": "stderr",
     "output_type": "stream",
     "text": [
      "100%|██████████| 24460/24460 [01:17<00:00, 314.41it/s]\n",
      "100%|██████████| 24460/24460 [00:00<00:00, 213275.75it/s]\n"
     ]
    },
    {
     "name": "stdout",
     "output_type": "stream",
     "text": [
      "5\n"
     ]
    },
    {
     "name": "stderr",
     "output_type": "stream",
     "text": [
      "100%|██████████| 24460/24460 [01:16<00:00, 318.47it/s]\n",
      "100%|██████████| 24460/24460 [00:00<00:00, 209502.36it/s]\n"
     ]
    },
    {
     "name": "stdout",
     "output_type": "stream",
     "text": [
      "6\n"
     ]
    },
    {
     "name": "stderr",
     "output_type": "stream",
     "text": [
      "100%|██████████| 24460/24460 [01:17<00:00, 314.47it/s]\n",
      "100%|██████████| 24460/24460 [00:00<00:00, 214225.23it/s]\n"
     ]
    },
    {
     "name": "stdout",
     "output_type": "stream",
     "text": [
      "6\n"
     ]
    },
    {
     "name": "stderr",
     "output_type": "stream",
     "text": [
      "100%|██████████| 24460/24460 [01:17<00:00, 314.15it/s]\n",
      "100%|██████████| 24460/24460 [00:00<00:00, 209794.97it/s]\n"
     ]
    },
    {
     "name": "stdout",
     "output_type": "stream",
     "text": [
      "6\n"
     ]
    },
    {
     "name": "stderr",
     "output_type": "stream",
     "text": [
      "100%|██████████| 24460/24460 [01:17<00:00, 316.34it/s]\n",
      "100%|██████████| 24460/24460 [00:00<00:00, 212863.33it/s]\n"
     ]
    },
    {
     "name": "stdout",
     "output_type": "stream",
     "text": [
      "6\n"
     ]
    },
    {
     "name": "stderr",
     "output_type": "stream",
     "text": [
      "100%|██████████| 24460/24460 [01:17<00:00, 315.35it/s]\n",
      "100%|██████████| 24460/24460 [00:00<00:00, 212526.88it/s]\n"
     ]
    },
    {
     "name": "stdout",
     "output_type": "stream",
     "text": [
      "6\n"
     ]
    },
    {
     "name": "stderr",
     "output_type": "stream",
     "text": [
      "100%|██████████| 24460/24460 [01:17<00:00, 314.34it/s]\n",
      "100%|██████████| 24460/24460 [00:00<00:00, 213605.24it/s]\n"
     ]
    },
    {
     "name": "stdout",
     "output_type": "stream",
     "text": [
      "6\n"
     ]
    },
    {
     "name": "stderr",
     "output_type": "stream",
     "text": [
      "100%|██████████| 24460/24460 [01:18<00:00, 313.17it/s]\n",
      "100%|██████████| 24460/24460 [00:00<00:00, 212334.66it/s]\n"
     ]
    },
    {
     "name": "stdout",
     "output_type": "stream",
     "text": [
      "6\n"
     ]
    },
    {
     "name": "stderr",
     "output_type": "stream",
     "text": [
      "100%|██████████| 24460/24460 [01:17<00:00, 315.18it/s]\n",
      "100%|██████████| 24460/24460 [00:00<00:00, 212518.08it/s]\n"
     ]
    },
    {
     "name": "stdout",
     "output_type": "stream",
     "text": [
      "6\n"
     ]
    },
    {
     "name": "stderr",
     "output_type": "stream",
     "text": [
      "100%|██████████| 24460/24460 [01:17<00:00, 315.19it/s]\n",
      "100%|██████████| 24460/24460 [00:00<00:00, 210929.81it/s]\n"
     ]
    },
    {
     "name": "stdout",
     "output_type": "stream",
     "text": [
      "7\n"
     ]
    },
    {
     "name": "stderr",
     "output_type": "stream",
     "text": [
      "100%|██████████| 24460/24460 [01:18<00:00, 310.23it/s]\n",
      "100%|██████████| 24460/24460 [00:00<00:00, 213656.40it/s]\n"
     ]
    },
    {
     "name": "stdout",
     "output_type": "stream",
     "text": [
      "7\n"
     ]
    },
    {
     "name": "stderr",
     "output_type": "stream",
     "text": [
      "100%|██████████| 24460/24460 [01:18<00:00, 312.74it/s]\n",
      "100%|██████████| 24460/24460 [00:00<00:00, 209485.67it/s]\n"
     ]
    },
    {
     "name": "stdout",
     "output_type": "stream",
     "text": [
      "7\n"
     ]
    },
    {
     "name": "stderr",
     "output_type": "stream",
     "text": [
      "100%|██████████| 24460/24460 [01:17<00:00, 313.61it/s]\n",
      "100%|██████████| 24460/24460 [00:00<00:00, 216093.76it/s]\n"
     ]
    },
    {
     "name": "stdout",
     "output_type": "stream",
     "text": [
      "7\n"
     ]
    },
    {
     "name": "stderr",
     "output_type": "stream",
     "text": [
      "100%|██████████| 24460/24460 [01:18<00:00, 313.59it/s]\n",
      "100%|██████████| 24460/24460 [00:00<00:00, 213639.94it/s]\n"
     ]
    },
    {
     "name": "stdout",
     "output_type": "stream",
     "text": [
      "7\n"
     ]
    },
    {
     "name": "stderr",
     "output_type": "stream",
     "text": [
      "100%|██████████| 24460/24460 [01:18<00:00, 313.10it/s]\n",
      "100%|██████████| 24460/24460 [00:00<00:00, 212798.43it/s]\n"
     ]
    },
    {
     "name": "stdout",
     "output_type": "stream",
     "text": [
      "7\n"
     ]
    },
    {
     "name": "stderr",
     "output_type": "stream",
     "text": [
      "100%|██████████| 24460/24460 [01:18<00:00, 311.84it/s]\n",
      "100%|██████████| 24460/24460 [00:00<00:00, 208761.86it/s]\n"
     ]
    },
    {
     "name": "stdout",
     "output_type": "stream",
     "text": [
      "7\n"
     ]
    },
    {
     "name": "stderr",
     "output_type": "stream",
     "text": [
      "100%|██████████| 24460/24460 [01:18<00:00, 310.66it/s]\n",
      "100%|██████████| 24460/24460 [00:00<00:00, 211988.49it/s]\n"
     ]
    },
    {
     "name": "stdout",
     "output_type": "stream",
     "text": [
      "7\n"
     ]
    },
    {
     "name": "stderr",
     "output_type": "stream",
     "text": [
      "100%|██████████| 24460/24460 [01:18<00:00, 310.56it/s]\n",
      "100%|██████████| 24460/24460 [00:00<00:00, 207873.99it/s]\n"
     ]
    },
    {
     "name": "stdout",
     "output_type": "stream",
     "text": [
      "8\n"
     ]
    },
    {
     "name": "stderr",
     "output_type": "stream",
     "text": [
      "100%|██████████| 24460/24460 [01:19<00:00, 308.46it/s]\n",
      "100%|██████████| 24460/24460 [00:00<00:00, 212265.69it/s]\n"
     ]
    },
    {
     "name": "stdout",
     "output_type": "stream",
     "text": [
      "8\n"
     ]
    },
    {
     "name": "stderr",
     "output_type": "stream",
     "text": [
      "100%|██████████| 24460/24460 [01:18<00:00, 311.44it/s]\n",
      "100%|██████████| 24460/24460 [00:00<00:00, 214794.84it/s]\n"
     ]
    },
    {
     "name": "stdout",
     "output_type": "stream",
     "text": [
      "8\n"
     ]
    },
    {
     "name": "stderr",
     "output_type": "stream",
     "text": [
      "100%|██████████| 24460/24460 [01:18<00:00, 309.72it/s]\n",
      "100%|██████████| 24460/24460 [00:00<00:00, 212060.79it/s]\n"
     ]
    },
    {
     "name": "stdout",
     "output_type": "stream",
     "text": [
      "8\n"
     ]
    },
    {
     "name": "stderr",
     "output_type": "stream",
     "text": [
      "100%|██████████| 24460/24460 [01:19<00:00, 309.49it/s]\n",
      "100%|██████████| 24460/24460 [00:00<00:00, 213887.14it/s]\n"
     ]
    },
    {
     "name": "stdout",
     "output_type": "stream",
     "text": [
      "8\n"
     ]
    },
    {
     "name": "stderr",
     "output_type": "stream",
     "text": [
      "100%|██████████| 24460/24460 [01:18<00:00, 309.73it/s]\n",
      "100%|██████████| 24460/24460 [00:00<00:00, 212827.56it/s]\n"
     ]
    },
    {
     "name": "stdout",
     "output_type": "stream",
     "text": [
      "8\n"
     ]
    },
    {
     "name": "stderr",
     "output_type": "stream",
     "text": [
      "100%|██████████| 24460/24460 [01:19<00:00, 307.42it/s]\n",
      "100%|██████████| 24460/24460 [00:00<00:00, 211234.26it/s]\n"
     ]
    },
    {
     "name": "stdout",
     "output_type": "stream",
     "text": [
      "8\n"
     ]
    },
    {
     "name": "stderr",
     "output_type": "stream",
     "text": [
      "100%|██████████| 24460/24460 [01:19<00:00, 308.18it/s]\n",
      "100%|██████████| 24460/24460 [00:00<00:00, 213942.89it/s]\n"
     ]
    },
    {
     "name": "stdout",
     "output_type": "stream",
     "text": [
      "8\n"
     ]
    },
    {
     "name": "stderr",
     "output_type": "stream",
     "text": [
      "100%|██████████| 24460/24460 [01:19<00:00, 306.56it/s]\n",
      "100%|██████████| 24460/24460 [00:00<00:00, 213203.51it/s]\n"
     ]
    },
    {
     "name": "stdout",
     "output_type": "stream",
     "text": [
      "9\n"
     ]
    },
    {
     "name": "stderr",
     "output_type": "stream",
     "text": [
      "100%|██████████| 24460/24460 [01:19<00:00, 309.37it/s]\n",
      "100%|██████████| 24460/24460 [00:00<00:00, 207449.87it/s]\n"
     ]
    },
    {
     "name": "stdout",
     "output_type": "stream",
     "text": [
      "9\n"
     ]
    },
    {
     "name": "stderr",
     "output_type": "stream",
     "text": [
      "100%|██████████| 24460/24460 [01:18<00:00, 309.74it/s]\n",
      "100%|██████████| 24460/24460 [00:00<00:00, 209745.21it/s]\n"
     ]
    },
    {
     "name": "stdout",
     "output_type": "stream",
     "text": [
      "9\n"
     ]
    },
    {
     "name": "stderr",
     "output_type": "stream",
     "text": [
      "100%|██████████| 24460/24460 [01:22<00:00, 297.57it/s]\n",
      "100%|██████████| 24460/24460 [00:00<00:00, 158154.85it/s]\n"
     ]
    },
    {
     "name": "stdout",
     "output_type": "stream",
     "text": [
      "9\n"
     ]
    },
    {
     "name": "stderr",
     "output_type": "stream",
     "text": [
      "100%|██████████| 24460/24460 [01:22<00:00, 295.62it/s]\n",
      "100%|██████████| 24460/24460 [00:00<00:00, 160475.32it/s]\n"
     ]
    },
    {
     "name": "stdout",
     "output_type": "stream",
     "text": [
      "9\n"
     ]
    },
    {
     "name": "stderr",
     "output_type": "stream",
     "text": [
      "100%|██████████| 24460/24460 [01:23<00:00, 294.31it/s]\n",
      "100%|██████████| 24460/24460 [00:00<00:00, 156400.81it/s]\n"
     ]
    },
    {
     "name": "stdout",
     "output_type": "stream",
     "text": [
      "9\n"
     ]
    },
    {
     "name": "stderr",
     "output_type": "stream",
     "text": [
      "100%|██████████| 24460/24460 [01:21<00:00, 300.01it/s]\n",
      "100%|██████████| 24460/24460 [00:00<00:00, 211220.34it/s]\n"
     ]
    },
    {
     "name": "stdout",
     "output_type": "stream",
     "text": [
      "9\n"
     ]
    },
    {
     "name": "stderr",
     "output_type": "stream",
     "text": [
      "100%|██████████| 24460/24460 [01:19<00:00, 306.75it/s]\n",
      "100%|██████████| 24460/24460 [00:00<00:00, 207300.23it/s]\n"
     ]
    },
    {
     "name": "stdout",
     "output_type": "stream",
     "text": [
      "9\n"
     ]
    },
    {
     "name": "stderr",
     "output_type": "stream",
     "text": [
      "100%|██████████| 24460/24460 [01:19<00:00, 308.65it/s]\n",
      "100%|██████████| 24460/24460 [00:00<00:00, 214299.96it/s]\n"
     ]
    },
    {
     "name": "stdout",
     "output_type": "stream",
     "text": [
      "10\n"
     ]
    },
    {
     "name": "stderr",
     "output_type": "stream",
     "text": [
      "100%|██████████| 24460/24460 [01:19<00:00, 307.40it/s]\n",
      "100%|██████████| 24460/24460 [00:00<00:00, 207188.45it/s]\n"
     ]
    },
    {
     "name": "stdout",
     "output_type": "stream",
     "text": [
      "10\n"
     ]
    },
    {
     "name": "stderr",
     "output_type": "stream",
     "text": [
      "100%|██████████| 24460/24460 [01:19<00:00, 306.69it/s]\n",
      "100%|██████████| 24460/24460 [00:00<00:00, 211618.56it/s]\n"
     ]
    },
    {
     "name": "stdout",
     "output_type": "stream",
     "text": [
      "10\n"
     ]
    },
    {
     "name": "stderr",
     "output_type": "stream",
     "text": [
      "100%|██████████| 24460/24460 [01:19<00:00, 306.61it/s]\n",
      "100%|██████████| 24460/24460 [00:00<00:00, 214688.32it/s]\n"
     ]
    },
    {
     "name": "stdout",
     "output_type": "stream",
     "text": [
      "10\n"
     ]
    },
    {
     "name": "stderr",
     "output_type": "stream",
     "text": [
      "100%|██████████| 24460/24460 [01:20<00:00, 305.51it/s]\n",
      "100%|██████████| 24460/24460 [00:00<00:00, 215645.45it/s]\n"
     ]
    },
    {
     "name": "stdout",
     "output_type": "stream",
     "text": [
      "10\n"
     ]
    },
    {
     "name": "stderr",
     "output_type": "stream",
     "text": [
      "100%|██████████| 24460/24460 [01:19<00:00, 306.80it/s]\n",
      "100%|██████████| 24460/24460 [00:00<00:00, 213194.65it/s]\n"
     ]
    },
    {
     "name": "stdout",
     "output_type": "stream",
     "text": [
      "10\n"
     ]
    },
    {
     "name": "stderr",
     "output_type": "stream",
     "text": [
      "100%|██████████| 24460/24460 [01:19<00:00, 306.19it/s]\n",
      "100%|██████████| 24460/24460 [00:00<00:00, 211847.97it/s]\n"
     ]
    },
    {
     "name": "stdout",
     "output_type": "stream",
     "text": [
      "10\n"
     ]
    },
    {
     "name": "stderr",
     "output_type": "stream",
     "text": [
      "100%|██████████| 24460/24460 [01:19<00:00, 305.78it/s]\n",
      "100%|██████████| 24460/24460 [00:00<00:00, 214046.00it/s]\n"
     ]
    },
    {
     "name": "stdout",
     "output_type": "stream",
     "text": [
      "10\n"
     ]
    },
    {
     "name": "stderr",
     "output_type": "stream",
     "text": [
      "100%|██████████| 24460/24460 [01:19<00:00, 307.68it/s]\n",
      "100%|██████████| 24460/24460 [00:00<00:00, 212011.27it/s]\n"
     ]
    },
    {
     "name": "stdout",
     "output_type": "stream",
     "text": [
      "11\n"
     ]
    },
    {
     "name": "stderr",
     "output_type": "stream",
     "text": [
      "100%|██████████| 24460/24460 [01:19<00:00, 306.71it/s]\n",
      "100%|██████████| 24460/24460 [00:00<00:00, 209536.59it/s]\n"
     ]
    },
    {
     "name": "stdout",
     "output_type": "stream",
     "text": [
      "11\n"
     ]
    },
    {
     "name": "stderr",
     "output_type": "stream",
     "text": [
      "100%|██████████| 24460/24460 [01:19<00:00, 306.19it/s]\n",
      "100%|██████████| 24460/24460 [00:00<00:00, 211519.95it/s]\n"
     ]
    },
    {
     "name": "stdout",
     "output_type": "stream",
     "text": [
      "11\n"
     ]
    },
    {
     "name": "stderr",
     "output_type": "stream",
     "text": [
      "100%|██████████| 24460/24460 [01:19<00:00, 306.46it/s]\n",
      "100%|██████████| 24460/24460 [00:00<00:00, 209607.65it/s]\n"
     ]
    },
    {
     "name": "stdout",
     "output_type": "stream",
     "text": [
      "11\n"
     ]
    },
    {
     "name": "stderr",
     "output_type": "stream",
     "text": [
      "100%|██████████| 24460/24460 [01:19<00:00, 306.00it/s]\n",
      "100%|██████████| 24460/24460 [00:00<00:00, 215525.40it/s]\n"
     ]
    },
    {
     "name": "stdout",
     "output_type": "stream",
     "text": [
      "11\n"
     ]
    },
    {
     "name": "stderr",
     "output_type": "stream",
     "text": [
      "100%|██████████| 24460/24460 [01:20<00:00, 305.29it/s]\n",
      "100%|██████████| 24460/24460 [00:00<00:00, 208318.88it/s]\n"
     ]
    },
    {
     "name": "stdout",
     "output_type": "stream",
     "text": [
      "11\n"
     ]
    },
    {
     "name": "stderr",
     "output_type": "stream",
     "text": [
      "100%|██████████| 24460/24460 [01:20<00:00, 303.04it/s]\n",
      "100%|██████████| 24460/24460 [00:00<00:00, 211605.02it/s]\n"
     ]
    },
    {
     "name": "stdout",
     "output_type": "stream",
     "text": [
      "11\n"
     ]
    },
    {
     "name": "stderr",
     "output_type": "stream",
     "text": [
      "100%|██████████| 24460/24460 [01:20<00:00, 305.16it/s]\n",
      "100%|██████████| 24460/24460 [00:00<00:00, 211510.79it/s]\n"
     ]
    },
    {
     "name": "stdout",
     "output_type": "stream",
     "text": [
      "11\n"
     ]
    },
    {
     "name": "stderr",
     "output_type": "stream",
     "text": [
      "100%|██████████| 24460/24460 [01:19<00:00, 306.39it/s]\n",
      "100%|██████████| 24460/24460 [00:00<00:00, 209834.87it/s]\n"
     ]
    },
    {
     "name": "stdout",
     "output_type": "stream",
     "text": [
      "12\n"
     ]
    },
    {
     "name": "stderr",
     "output_type": "stream",
     "text": [
      "100%|██████████| 24460/24460 [01:20<00:00, 304.29it/s]\n",
      "100%|██████████| 24460/24460 [00:00<00:00, 212204.22it/s]\n"
     ]
    },
    {
     "name": "stdout",
     "output_type": "stream",
     "text": [
      "12\n"
     ]
    },
    {
     "name": "stderr",
     "output_type": "stream",
     "text": [
      "100%|██████████| 24460/24460 [01:20<00:00, 304.44it/s]\n",
      "100%|██████████| 24460/24460 [00:00<00:00, 213215.03it/s]\n"
     ]
    },
    {
     "name": "stdout",
     "output_type": "stream",
     "text": [
      "12\n"
     ]
    },
    {
     "name": "stderr",
     "output_type": "stream",
     "text": [
      "100%|██████████| 24460/24460 [01:20<00:00, 303.16it/s]\n",
      "100%|██████████| 24460/24460 [00:00<00:00, 213902.30it/s]\n"
     ]
    },
    {
     "name": "stdout",
     "output_type": "stream",
     "text": [
      "12\n"
     ]
    },
    {
     "name": "stderr",
     "output_type": "stream",
     "text": [
      "100%|██████████| 24460/24460 [01:20<00:00, 303.01it/s]\n",
      "100%|██████████| 24460/24460 [00:00<00:00, 214265.94it/s]\n"
     ]
    },
    {
     "name": "stdout",
     "output_type": "stream",
     "text": [
      "12\n"
     ]
    },
    {
     "name": "stderr",
     "output_type": "stream",
     "text": [
      "100%|██████████| 24460/24460 [01:20<00:00, 303.76it/s]\n",
      "100%|██████████| 24460/24460 [00:00<00:00, 216592.41it/s]\n"
     ]
    },
    {
     "name": "stdout",
     "output_type": "stream",
     "text": [
      "12\n"
     ]
    },
    {
     "name": "stderr",
     "output_type": "stream",
     "text": [
      "100%|██████████| 24460/24460 [01:20<00:00, 303.83it/s]\n",
      "100%|██████████| 24460/24460 [00:00<00:00, 212828.45it/s]\n"
     ]
    },
    {
     "name": "stdout",
     "output_type": "stream",
     "text": [
      "12\n"
     ]
    },
    {
     "name": "stderr",
     "output_type": "stream",
     "text": [
      "100%|██████████| 24460/24460 [01:20<00:00, 304.50it/s]\n",
      "100%|██████████| 24460/24460 [00:00<00:00, 215845.53it/s]\n"
     ]
    },
    {
     "name": "stdout",
     "output_type": "stream",
     "text": [
      "12\n"
     ]
    },
    {
     "name": "stderr",
     "output_type": "stream",
     "text": [
      "100%|██████████| 24460/24460 [01:20<00:00, 303.62it/s]\n",
      "100%|██████████| 24460/24460 [00:00<00:00, 211139.05it/s]\n"
     ]
    },
    {
     "name": "stdout",
     "output_type": "stream",
     "text": [
      "13\n"
     ]
    },
    {
     "name": "stderr",
     "output_type": "stream",
     "text": [
      "100%|██████████| 24460/24460 [01:20<00:00, 304.69it/s]\n",
      "100%|██████████| 24460/24460 [00:00<00:00, 206524.87it/s]\n"
     ]
    },
    {
     "name": "stdout",
     "output_type": "stream",
     "text": [
      "13\n"
     ]
    },
    {
     "name": "stderr",
     "output_type": "stream",
     "text": [
      "100%|██████████| 24460/24460 [01:20<00:00, 303.19it/s]\n",
      "100%|██████████| 24460/24460 [00:00<00:00, 213865.29it/s]\n"
     ]
    },
    {
     "name": "stdout",
     "output_type": "stream",
     "text": [
      "13\n"
     ]
    },
    {
     "name": "stderr",
     "output_type": "stream",
     "text": [
      "100%|██████████| 24460/24460 [01:20<00:00, 302.69it/s]\n",
      "100%|██████████| 24460/24460 [00:00<00:00, 212393.56it/s]\n"
     ]
    },
    {
     "name": "stdout",
     "output_type": "stream",
     "text": [
      "13\n"
     ]
    },
    {
     "name": "stderr",
     "output_type": "stream",
     "text": [
      "100%|██████████| 24460/24460 [01:20<00:00, 302.60it/s]\n",
      "100%|██████████| 24460/24460 [00:00<00:00, 213037.05it/s]\n"
     ]
    },
    {
     "name": "stdout",
     "output_type": "stream",
     "text": [
      "13\n"
     ]
    },
    {
     "name": "stderr",
     "output_type": "stream",
     "text": [
      "100%|██████████| 24460/24460 [01:20<00:00, 303.54it/s]\n",
      "100%|██████████| 24460/24460 [00:00<00:00, 211142.53it/s]\n"
     ]
    },
    {
     "name": "stdout",
     "output_type": "stream",
     "text": [
      "13\n"
     ]
    },
    {
     "name": "stderr",
     "output_type": "stream",
     "text": [
      "100%|██████████| 24460/24460 [01:20<00:00, 302.41it/s]\n",
      "100%|██████████| 24460/24460 [00:00<00:00, 214097.37it/s]\n"
     ]
    },
    {
     "name": "stdout",
     "output_type": "stream",
     "text": [
      "13\n"
     ]
    },
    {
     "name": "stderr",
     "output_type": "stream",
     "text": [
      "100%|██████████| 24460/24460 [01:20<00:00, 303.72it/s]\n",
      "100%|██████████| 24460/24460 [00:00<00:00, 208195.86it/s]\n"
     ]
    },
    {
     "name": "stdout",
     "output_type": "stream",
     "text": [
      "13\n"
     ]
    },
    {
     "name": "stderr",
     "output_type": "stream",
     "text": [
      "100%|██████████| 24460/24460 [01:20<00:00, 304.29it/s]\n",
      "100%|██████████| 24460/24460 [00:00<00:00, 210189.54it/s]\n"
     ]
    },
    {
     "name": "stdout",
     "output_type": "stream",
     "text": [
      "14\n"
     ]
    },
    {
     "name": "stderr",
     "output_type": "stream",
     "text": [
      "100%|██████████| 24460/24460 [01:20<00:00, 303.59it/s]\n",
      "100%|██████████| 24460/24460 [00:00<00:00, 214496.65it/s]\n"
     ]
    },
    {
     "name": "stdout",
     "output_type": "stream",
     "text": [
      "14\n"
     ]
    },
    {
     "name": "stderr",
     "output_type": "stream",
     "text": [
      "100%|██████████| 24460/24460 [01:21<00:00, 301.90it/s]\n",
      "100%|██████████| 24460/24460 [00:00<00:00, 212281.06it/s]\n"
     ]
    },
    {
     "name": "stdout",
     "output_type": "stream",
     "text": [
      "14\n"
     ]
    },
    {
     "name": "stderr",
     "output_type": "stream",
     "text": [
      "100%|██████████| 24460/24460 [01:20<00:00, 302.10it/s]\n",
      "100%|██████████| 24460/24460 [00:00<00:00, 214096.92it/s]\n"
     ]
    },
    {
     "name": "stdout",
     "output_type": "stream",
     "text": [
      "14\n"
     ]
    },
    {
     "name": "stderr",
     "output_type": "stream",
     "text": [
      "100%|██████████| 24460/24460 [01:20<00:00, 302.69it/s]\n",
      "100%|██████████| 24460/24460 [00:00<00:00, 210161.13it/s]\n"
     ]
    },
    {
     "name": "stdout",
     "output_type": "stream",
     "text": [
      "14\n"
     ]
    },
    {
     "name": "stderr",
     "output_type": "stream",
     "text": [
      "100%|██████████| 24460/24460 [01:20<00:00, 302.45it/s]\n",
      "100%|██████████| 24460/24460 [00:00<00:00, 207616.12it/s]\n"
     ]
    },
    {
     "name": "stdout",
     "output_type": "stream",
     "text": [
      "14\n"
     ]
    },
    {
     "name": "stderr",
     "output_type": "stream",
     "text": [
      "100%|██████████| 24460/24460 [01:21<00:00, 301.64it/s]\n",
      "100%|██████████| 24460/24460 [00:00<00:00, 215123.63it/s]\n"
     ]
    },
    {
     "name": "stdout",
     "output_type": "stream",
     "text": [
      "14\n"
     ]
    },
    {
     "name": "stderr",
     "output_type": "stream",
     "text": [
      "100%|██████████| 24460/24460 [01:21<00:00, 301.89it/s]\n",
      "100%|██████████| 24460/24460 [00:00<00:00, 209332.22it/s]\n"
     ]
    },
    {
     "name": "stdout",
     "output_type": "stream",
     "text": [
      "14\n"
     ]
    },
    {
     "name": "stderr",
     "output_type": "stream",
     "text": [
      "100%|██████████| 24460/24460 [01:20<00:00, 303.14it/s]\n",
      "100%|██████████| 24460/24460 [00:00<00:00, 211363.07it/s]\n"
     ]
    },
    {
     "name": "stdout",
     "output_type": "stream",
     "text": [
      "15\n"
     ]
    },
    {
     "name": "stderr",
     "output_type": "stream",
     "text": [
      "100%|██████████| 24460/24460 [01:21<00:00, 301.61it/s]\n",
      "100%|██████████| 24460/24460 [00:00<00:00, 212507.51it/s]\n"
     ]
    },
    {
     "name": "stdout",
     "output_type": "stream",
     "text": [
      "15\n"
     ]
    },
    {
     "name": "stderr",
     "output_type": "stream",
     "text": [
      "100%|██████████| 24460/24460 [01:21<00:00, 301.06it/s]\n",
      "100%|██████████| 24460/24460 [00:00<00:00, 211539.14it/s]\n"
     ]
    },
    {
     "name": "stdout",
     "output_type": "stream",
     "text": [
      "15\n"
     ]
    },
    {
     "name": "stderr",
     "output_type": "stream",
     "text": [
      "100%|██████████| 24460/24460 [01:21<00:00, 301.27it/s]\n",
      "100%|██████████| 24460/24460 [00:00<00:00, 212224.41it/s]\n"
     ]
    },
    {
     "name": "stdout",
     "output_type": "stream",
     "text": [
      "15\n"
     ]
    },
    {
     "name": "stderr",
     "output_type": "stream",
     "text": [
      "100%|██████████| 24460/24460 [01:21<00:00, 301.19it/s]\n",
      "100%|██████████| 24460/24460 [00:00<00:00, 213447.48it/s]\n"
     ]
    },
    {
     "name": "stdout",
     "output_type": "stream",
     "text": [
      "15\n"
     ]
    },
    {
     "name": "stderr",
     "output_type": "stream",
     "text": [
      "100%|██████████| 24460/24460 [01:21<00:00, 300.66it/s]\n",
      "100%|██████████| 24460/24460 [00:00<00:00, 215425.38it/s]\n"
     ]
    },
    {
     "name": "stdout",
     "output_type": "stream",
     "text": [
      "15\n"
     ]
    },
    {
     "name": "stderr",
     "output_type": "stream",
     "text": [
      "100%|██████████| 24460/24460 [01:21<00:00, 300.76it/s]\n",
      "100%|██████████| 24460/24460 [00:00<00:00, 213001.22it/s]\n"
     ]
    },
    {
     "name": "stdout",
     "output_type": "stream",
     "text": [
      "15\n"
     ]
    },
    {
     "name": "stderr",
     "output_type": "stream",
     "text": [
      "100%|██████████| 24460/24460 [01:21<00:00, 300.97it/s]\n",
      "100%|██████████| 24460/24460 [00:00<00:00, 209636.35it/s]\n"
     ]
    },
    {
     "name": "stdout",
     "output_type": "stream",
     "text": [
      "15\n"
     ]
    },
    {
     "name": "stderr",
     "output_type": "stream",
     "text": [
      "100%|██████████| 24460/24460 [01:21<00:00, 301.18it/s]\n",
      "100%|██████████| 24460/24460 [00:00<00:00, 214432.99it/s]\n"
     ]
    },
    {
     "name": "stdout",
     "output_type": "stream",
     "text": [
      "16\n"
     ]
    },
    {
     "name": "stderr",
     "output_type": "stream",
     "text": [
      "100%|██████████| 24460/24460 [01:21<00:00, 300.14it/s]\n",
      "100%|██████████| 24460/24460 [00:00<00:00, 210820.59it/s]\n"
     ]
    },
    {
     "name": "stdout",
     "output_type": "stream",
     "text": [
      "16\n"
     ]
    },
    {
     "name": "stderr",
     "output_type": "stream",
     "text": [
      "100%|██████████| 24460/24460 [01:21<00:00, 301.36it/s]\n",
      "100%|██████████| 24460/24460 [00:00<00:00, 209509.20it/s]\n"
     ]
    },
    {
     "name": "stdout",
     "output_type": "stream",
     "text": [
      "16\n"
     ]
    },
    {
     "name": "stderr",
     "output_type": "stream",
     "text": [
      "100%|██████████| 24460/24460 [01:21<00:00, 300.77it/s]\n",
      "100%|██████████| 24460/24460 [00:00<00:00, 211219.90it/s]\n"
     ]
    },
    {
     "name": "stdout",
     "output_type": "stream",
     "text": [
      "16\n"
     ]
    },
    {
     "name": "stderr",
     "output_type": "stream",
     "text": [
      "100%|██████████| 24460/24460 [01:21<00:00, 301.14it/s]\n",
      "100%|██████████| 24460/24460 [00:00<00:00, 213771.26it/s]\n"
     ]
    },
    {
     "name": "stdout",
     "output_type": "stream",
     "text": [
      "16\n"
     ]
    },
    {
     "name": "stderr",
     "output_type": "stream",
     "text": [
      "100%|██████████| 24460/24460 [01:21<00:00, 300.73it/s]\n",
      "100%|██████████| 24460/24460 [00:00<00:00, 208467.04it/s]\n"
     ]
    },
    {
     "name": "stdout",
     "output_type": "stream",
     "text": [
      "16\n"
     ]
    },
    {
     "name": "stderr",
     "output_type": "stream",
     "text": [
      "100%|██████████| 24460/24460 [01:21<00:00, 300.99it/s]\n",
      "100%|██████████| 24460/24460 [00:00<00:00, 210988.38it/s]\n"
     ]
    },
    {
     "name": "stdout",
     "output_type": "stream",
     "text": [
      "16\n"
     ]
    },
    {
     "name": "stderr",
     "output_type": "stream",
     "text": [
      "100%|██████████| 24460/24460 [01:21<00:00, 301.70it/s]\n",
      "100%|██████████| 24460/24460 [00:00<00:00, 214452.26it/s]\n"
     ]
    },
    {
     "name": "stdout",
     "output_type": "stream",
     "text": [
      "16\n"
     ]
    },
    {
     "name": "stderr",
     "output_type": "stream",
     "text": [
      "100%|██████████| 24460/24460 [01:21<00:00, 299.29it/s]\n",
      "100%|██████████| 24460/24460 [00:00<00:00, 209201.18it/s]\n"
     ]
    },
    {
     "name": "stdout",
     "output_type": "stream",
     "text": [
      "17\n"
     ]
    },
    {
     "name": "stderr",
     "output_type": "stream",
     "text": [
      "100%|██████████| 24460/24460 [01:21<00:00, 299.05it/s]\n",
      "100%|██████████| 24460/24460 [00:00<00:00, 215765.18it/s]\n"
     ]
    },
    {
     "name": "stdout",
     "output_type": "stream",
     "text": [
      "17\n"
     ]
    },
    {
     "name": "stderr",
     "output_type": "stream",
     "text": [
      "100%|██████████| 24460/24460 [01:21<00:00, 298.33it/s]\n",
      "100%|██████████| 24460/24460 [00:00<00:00, 205423.64it/s]\n"
     ]
    },
    {
     "name": "stdout",
     "output_type": "stream",
     "text": [
      "17\n"
     ]
    },
    {
     "name": "stderr",
     "output_type": "stream",
     "text": [
      "100%|██████████| 24460/24460 [01:21<00:00, 299.23it/s]\n",
      "100%|██████████| 24460/24460 [00:00<00:00, 213232.76it/s]\n"
     ]
    },
    {
     "name": "stdout",
     "output_type": "stream",
     "text": [
      "17\n"
     ]
    },
    {
     "name": "stderr",
     "output_type": "stream",
     "text": [
      "100%|██████████| 24460/24460 [01:22<00:00, 298.21it/s]\n",
      "100%|██████████| 24460/24460 [00:00<00:00, 209893.26it/s]\n"
     ]
    },
    {
     "name": "stdout",
     "output_type": "stream",
     "text": [
      "17\n"
     ]
    },
    {
     "name": "stderr",
     "output_type": "stream",
     "text": [
      "100%|██████████| 24460/24460 [01:21<00:00, 298.63it/s]\n",
      "100%|██████████| 24460/24460 [00:00<00:00, 215696.68it/s]\n"
     ]
    },
    {
     "name": "stdout",
     "output_type": "stream",
     "text": [
      "17\n"
     ]
    },
    {
     "name": "stderr",
     "output_type": "stream",
     "text": [
      "100%|██████████| 24460/24460 [01:21<00:00, 301.05it/s]\n",
      "100%|██████████| 24460/24460 [00:00<00:00, 211019.62it/s]\n"
     ]
    },
    {
     "name": "stdout",
     "output_type": "stream",
     "text": [
      "17\n"
     ]
    },
    {
     "name": "stderr",
     "output_type": "stream",
     "text": [
      "100%|██████████| 24460/24460 [01:21<00:00, 298.43it/s]\n",
      "100%|██████████| 24460/24460 [00:00<00:00, 208753.36it/s]\n"
     ]
    },
    {
     "name": "stdout",
     "output_type": "stream",
     "text": [
      "17\n"
     ]
    },
    {
     "name": "stderr",
     "output_type": "stream",
     "text": [
      "100%|██████████| 24460/24460 [01:21<00:00, 298.46it/s]\n",
      "100%|██████████| 24460/24460 [00:00<00:00, 211659.60it/s]\n"
     ]
    },
    {
     "name": "stdout",
     "output_type": "stream",
     "text": [
      "18\n"
     ]
    },
    {
     "name": "stderr",
     "output_type": "stream",
     "text": [
      "100%|██████████| 24460/24460 [01:22<00:00, 297.41it/s]\n",
      "100%|██████████| 24460/24460 [00:00<00:00, 212864.22it/s]\n"
     ]
    },
    {
     "name": "stdout",
     "output_type": "stream",
     "text": [
      "18\n"
     ]
    },
    {
     "name": "stderr",
     "output_type": "stream",
     "text": [
      "100%|██████████| 24460/24460 [01:21<00:00, 299.09it/s]\n",
      "100%|██████████| 24460/24460 [00:00<00:00, 208701.98it/s]\n"
     ]
    },
    {
     "name": "stdout",
     "output_type": "stream",
     "text": [
      "18\n"
     ]
    },
    {
     "name": "stderr",
     "output_type": "stream",
     "text": [
      "100%|██████████| 24460/24460 [01:21<00:00, 298.84it/s]\n",
      "100%|██████████| 24460/24460 [00:00<00:00, 211894.35it/s]\n"
     ]
    },
    {
     "name": "stdout",
     "output_type": "stream",
     "text": [
      "18\n"
     ]
    },
    {
     "name": "stderr",
     "output_type": "stream",
     "text": [
      "100%|██████████| 24460/24460 [01:21<00:00, 299.17it/s]\n",
      "100%|██████████| 24460/24460 [00:00<00:00, 210449.10it/s]\n"
     ]
    },
    {
     "name": "stdout",
     "output_type": "stream",
     "text": [
      "18\n"
     ]
    },
    {
     "name": "stderr",
     "output_type": "stream",
     "text": [
      "100%|██████████| 24460/24460 [01:21<00:00, 300.10it/s]\n",
      "100%|██████████| 24460/24460 [00:00<00:00, 214717.97it/s]\n"
     ]
    },
    {
     "name": "stdout",
     "output_type": "stream",
     "text": [
      "18\n"
     ]
    },
    {
     "name": "stderr",
     "output_type": "stream",
     "text": [
      "100%|██████████| 24460/24460 [01:21<00:00, 300.26it/s]\n",
      "100%|██████████| 24460/24460 [00:00<00:00, 209203.74it/s]\n"
     ]
    },
    {
     "name": "stdout",
     "output_type": "stream",
     "text": [
      "18\n"
     ]
    },
    {
     "name": "stderr",
     "output_type": "stream",
     "text": [
      "100%|██████████| 24460/24460 [01:21<00:00, 299.72it/s]\n",
      "100%|██████████| 24460/24460 [00:00<00:00, 212821.38it/s]\n"
     ]
    },
    {
     "name": "stdout",
     "output_type": "stream",
     "text": [
      "18\n"
     ]
    },
    {
     "name": "stderr",
     "output_type": "stream",
     "text": [
      "100%|██████████| 24460/24460 [01:21<00:00, 299.82it/s]\n",
      "100%|██████████| 24460/24460 [00:00<00:00, 214764.27it/s]\n"
     ]
    },
    {
     "name": "stdout",
     "output_type": "stream",
     "text": [
      "19\n"
     ]
    },
    {
     "name": "stderr",
     "output_type": "stream",
     "text": [
      "100%|██████████| 24460/24460 [01:21<00:00, 298.99it/s]\n",
      "100%|██████████| 24460/24460 [00:00<00:00, 214767.86it/s]\n"
     ]
    },
    {
     "name": "stdout",
     "output_type": "stream",
     "text": [
      "19\n"
     ]
    },
    {
     "name": "stderr",
     "output_type": "stream",
     "text": [
      "100%|██████████| 24460/24460 [01:21<00:00, 298.73it/s]\n",
      "100%|██████████| 24460/24460 [00:00<00:00, 216219.01it/s]\n"
     ]
    },
    {
     "name": "stdout",
     "output_type": "stream",
     "text": [
      "19\n"
     ]
    },
    {
     "name": "stderr",
     "output_type": "stream",
     "text": [
      "100%|██████████| 24460/24460 [01:22<00:00, 298.23it/s]\n",
      "100%|██████████| 24460/24460 [00:00<00:00, 210936.32it/s]\n"
     ]
    },
    {
     "name": "stdout",
     "output_type": "stream",
     "text": [
      "19\n"
     ]
    },
    {
     "name": "stderr",
     "output_type": "stream",
     "text": [
      "100%|██████████| 24460/24460 [01:21<00:00, 298.86it/s]\n",
      "100%|██████████| 24460/24460 [00:00<00:00, 214080.39it/s]\n"
     ]
    },
    {
     "name": "stdout",
     "output_type": "stream",
     "text": [
      "19\n"
     ]
    },
    {
     "name": "stderr",
     "output_type": "stream",
     "text": [
      "100%|██████████| 24460/24460 [01:21<00:00, 299.40it/s]\n",
      "100%|██████████| 24460/24460 [00:00<00:00, 215985.04it/s]\n"
     ]
    },
    {
     "name": "stdout",
     "output_type": "stream",
     "text": [
      "19\n"
     ]
    },
    {
     "name": "stderr",
     "output_type": "stream",
     "text": [
      "100%|██████████| 24460/24460 [01:21<00:00, 299.43it/s]\n",
      "100%|██████████| 24460/24460 [00:00<00:00, 215183.64it/s]\n"
     ]
    },
    {
     "name": "stdout",
     "output_type": "stream",
     "text": [
      "19\n"
     ]
    },
    {
     "name": "stderr",
     "output_type": "stream",
     "text": [
      "100%|██████████| 24460/24460 [01:22<00:00, 298.17it/s]\n",
      "100%|██████████| 24460/24460 [00:00<00:00, 213528.78it/s]\n"
     ]
    },
    {
     "name": "stdout",
     "output_type": "stream",
     "text": [
      "19\n"
     ]
    },
    {
     "name": "stderr",
     "output_type": "stream",
     "text": [
      "100%|██████████| 24460/24460 [01:22<00:00, 297.50it/s]\n",
      "100%|██████████| 24460/24460 [00:00<00:00, 209907.86it/s]\n"
     ]
    }
   ],
   "source": [
    "for i in range(20):\n",
    "    for k in range(8):\n",
    "        print(i)\n",
    "        params = {\n",
    "            \"train_bs_funds\": (i+1)*100,\n",
    "            \"svd_k\": ((i+1)*100*(k+1))//10\n",
    "        }\n",
    "        rec_dict = rec_forward(rate_df, params[\"svd_k\"], train_bs_funds=params[\"train_bs_funds\"])\n",
    "        scores = recall_evaluate(rec_dict, test)\n",
    "        model_score_logger('MF', params, scores)"
   ]
  }
 ],
 "metadata": {
  "kernelspec": {
   "display_name": "Python 3",
   "language": "python",
   "name": "python3"
  },
  "language_info": {
   "codemirror_mode": {
    "name": "ipython",
    "version": 3
   },
   "file_extension": ".py",
   "mimetype": "text/x-python",
   "name": "python",
   "nbconvert_exporter": "python",
   "pygments_lexer": "ipython3",
   "version": "3.6.9"
  }
 },
 "nbformat": 4,
 "nbformat_minor": 4
}
