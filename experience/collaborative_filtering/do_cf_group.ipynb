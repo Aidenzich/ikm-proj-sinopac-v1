{
 "cells": [
  {
   "cell_type": "code",
   "execution_count": 1,
   "metadata": {},
   "outputs": [],
   "source": [
    "\n",
    "import json\n",
    "import pandas as pd\n",
    "from tqdm import tqdm\n",
    "\n",
    "import recs.path as path\n",
    "from recs.cf_mf import MatrixFactorization, generate_cf_predict_df\n",
    "from recs.util import id2cat, recall_evaluate, readjson2dict, save2json"
   ]
  },
  {
   "cell_type": "code",
   "execution_count": 2,
   "metadata": {},
   "outputs": [],
   "source": [
    "# Preload\n",
    "with open('data/crm_idx.json') as jf:\n",
    "    crm2idx = json.load(jf)\n",
    "\n",
    "with open('data/fund_info_idx.json') as jf:\n",
    "    fund2idx = json.load(jf)\n",
    "\n",
    "with open('data/exist_funds_2021.json') as jf:\n",
    "    exist_funds = json.load(jf)\n",
    "\n",
    "crm = pd.read_pickle('data/crm.pkl')\n",
    "\n",
    "exist_funds_idx = []\n",
    "for i in exist_funds:\n",
    "    try:\n",
    "        exist_funds_idx.append(fund2idx[i])\n",
    "    except:\n",
    "        continue\n",
    "exist_funds = exist_funds_idx\n",
    "\n",
    "trans_buy_df = pd.read_pickle('data/trans_buy.pkl')"
   ]
  },
  {
   "cell_type": "code",
   "execution_count": 3,
   "metadata": {},
   "outputs": [],
   "source": [
    "user_freq = trans_buy_df.id_number.value_counts().index.tolist()\n",
    "groups_index = []\n",
    "groups_index.append([0, 527])\n",
    "groups_index.append([528, 3760])\n",
    "groups_index.append([3761, 38181])\n",
    "groups_index.append([38182, len(user_freq)])"
   ]
  },
  {
   "cell_type": "code",
   "execution_count": 11,
   "metadata": {},
   "outputs": [],
   "source": [
    "def cf_group(predict_period, history_period, bestsel_period, target_user_date, \n",
    "        best_selling_num=150, svds_k = 100, valid_sample = 580, group=-1):\n",
    "    if (bestsel_period[1] > history_period[1]):\n",
    "        raise SystemExit(\"Error: topk_end > history_end\")\n",
    "\n",
    "    if (history_period[1] > predict_period[0]):\n",
    "        raise SystemExit(\"Error: predict_start > history_end\")\n",
    "\n",
    "    if (target_user_date > history_period[1]):\n",
    "        raise SystemExit(\"Error: target_user_date > history_end\")\n",
    "\n",
    "    trans_buy = trans_buy_df.copy()\n",
    "        \n",
    "    if group in [0, 1, 2, 3]:\n",
    "        trans_buy = trans_buy[trans_buy.id_number.isin(\n",
    "            user_freq[ groups_index[group][0] : groups_index[group][1] ]\n",
    "        )]\n",
    "        \n",
    "    # best selling top k\n",
    "    topk = trans_buy[trans_buy.isin(exist_funds)][\n",
    "        (trans_buy.buy_date > bestsel_period[0]*100) &\n",
    "        (trans_buy.buy_date < bestsel_period[1]*100)].fund_id.value_counts().index.tolist()    \n",
    "\n",
    "    target_users_id = crm[crm.yyyymm == target_user_date].id_number.unique().tolist()    \n",
    "    \n",
    "    # training\n",
    "    train_df = trans_buy[\n",
    "        (trans_buy.buy_date < history_period[1]*100) &\n",
    "        (trans_buy.buy_date > history_period[0]*100) \n",
    "    ]\n",
    "        \n",
    "    train_df = train_df.groupby([\"id_number\", \"fund_id\"]).size().reset_index(name=\"Time\")\n",
    "\n",
    "    if (best_selling_num != -1):\n",
    "        exist_funds_topk = list(set(exist_funds) & set(topk[:best_selling_num]))\n",
    "    else:\n",
    "        exist_funds_topk = list(set(exist_funds))\n",
    "\n",
    "    train_df = train_df[train_df.fund_id.isin(exist_funds_topk)]\n",
    "    cf_preds_df = generate_cf_predict_df(train_df, svds_k)    \n",
    "    cf_rec_model = MatrixFactorization(cf_preds_df)\n",
    "\n",
    "    rec_dict = {}\n",
    "    available_users = train_df.id_number.unique().tolist()\n",
    "    \n",
    "    for user in tqdm(available_users):\n",
    "        rec_dict[str(user)] = cf_rec_model.rec_items(user).fund_id.tolist()    \n",
    "\n",
    "    return rec_dict"
   ]
  },
  {
   "cell_type": "code",
   "execution_count": 13,
   "metadata": {},
   "outputs": [
    {
     "name": "stdout",
     "output_type": "stream",
     "text": [
      "Generating Needed Dataframe...\n",
      "cf_preds_df created.\n"
     ]
    },
    {
     "name": "stderr",
     "output_type": "stream",
     "text": [
      "100%|██████████| 521/521 [00:01<00:00, 439.43it/s]\n"
     ]
    },
    {
     "name": "stdout",
     "output_type": "stream",
     "text": [
      "Generating Needed Dataframe...\n",
      "cf_preds_df created.\n"
     ]
    },
    {
     "name": "stderr",
     "output_type": "stream",
     "text": [
      "100%|██████████| 3100/3100 [00:06<00:00, 463.66it/s]\n"
     ]
    },
    {
     "name": "stdout",
     "output_type": "stream",
     "text": [
      "Generating Needed Dataframe...\n",
      "cf_preds_df created.\n"
     ]
    },
    {
     "name": "stderr",
     "output_type": "stream",
     "text": [
      "100%|██████████| 24183/24183 [00:52<00:00, 462.40it/s]\n"
     ]
    },
    {
     "name": "stdout",
     "output_type": "stream",
     "text": [
      "Generating Needed Dataframe...\n",
      "cf_preds_df created.\n"
     ]
    },
    {
     "name": "stderr",
     "output_type": "stream",
     "text": [
      "100%|██████████| 1689/1689 [00:03<00:00, 460.64it/s]\n"
     ]
    }
   ],
   "source": [
    "# Baseline\n",
    "predict_period = [202001, 202007]\n",
    "history_period = [201400, 202000]\n",
    "bestsel_period = [201800, 202000]\n",
    "\n",
    "target_user_date = 201912\n",
    "g1 = cf_group(predict_period, history_period, bestsel_period, target_user_date, group=0)\n",
    "g2 = cf_group(predict_period, history_period, bestsel_period, target_user_date, group=1)\n",
    "g3 = cf_group(predict_period, history_period, bestsel_period, target_user_date, group=2)\n",
    "g4 = cf_group(predict_period, history_period, bestsel_period, target_user_date, group=3)"
   ]
  },
  {
   "cell_type": "code",
   "execution_count": 20,
   "metadata": {},
   "outputs": [
    {
     "data": {
      "text/plain": [
       "31662    4\n",
       "59141    4\n",
       "52992    4\n",
       "63549    4\n",
       "4364     4\n",
       "        ..\n",
       "22695    1\n",
       "28834    1\n",
       "69774    1\n",
       "79299    1\n",
       "8188     1\n",
       "Name: id_number, Length: 28244, dtype: int64"
      ]
     },
     "execution_count": 20,
     "metadata": {},
     "output_type": "execute_result"
    }
   ],
   "source": [
    "freq = trans_buy_df.id_number.value_counts()\n",
    "freq[freq<5]"
   ]
  },
  {
   "cell_type": "code",
   "execution_count": 22,
   "metadata": {},
   "outputs": [],
   "source": [
    "trans_buy = trans_buy_df.copy()\n",
    "\n",
    "trans_buy = trans_buy[trans_buy.id_number.isin(\n",
    "    user_freq[ groups_index[3][0] : groups_index[3][1] ]\n",
    ")]\n",
    "\n",
    "topk = trans_buy[trans_buy.isin(exist_funds)][\n",
    "        (trans_buy.buy_date > bestsel_period[0]*100) &\n",
    "        (trans_buy.buy_date < bestsel_period[1]*100)].fund_id.value_counts().index.tolist() "
   ]
  },
  {
   "cell_type": "code",
   "execution_count": 27,
   "metadata": {},
   "outputs": [
    {
     "data": {
      "text/plain": [
       "['T34', '83Y', 'T38', 'X12', '68C', 'Y57', 'L17', '79A', 'L91', 'T35']"
      ]
     },
     "execution_count": 27,
     "metadata": {},
     "output_type": "execute_result"
    }
   ],
   "source": [
    "top10_group4 = []\n",
    "for i in topk:\n",
    "    top10_group4.append(id2cat(fund2idx, i))\n",
    "top10_group4[:10]"
   ]
  },
  {
   "cell_type": "code",
   "execution_count": null,
   "metadata": {},
   "outputs": [],
   "source": [
    "target_users_id = crm[crm.yyyymm == 202012].id_number.unique().tolist() \n"
   ]
  },
  {
   "cell_type": "code",
   "execution_count": 35,
   "metadata": {},
   "outputs": [
    {
     "data": {
      "text/plain": [
       "[1482, 1616, 1073, 1074, 1362, 1140, 1147, 1564, 1214, 1151]"
      ]
     },
     "execution_count": 35,
     "metadata": {},
     "output_type": "execute_result"
    }
   ],
   "source": [
    "g1['30']\n",
    "_buy30 = trans_buy_df[trans_buy_df.id_number == 30].fund_id.tolist()\n",
    "list(set(g1['30']) & set(_buy30))"
   ]
  }
 ],
 "metadata": {
  "kernelspec": {
   "display_name": "Python 3",
   "language": "python",
   "name": "python3"
  },
  "language_info": {
   "codemirror_mode": {
    "name": "ipython",
    "version": 3
   },
   "file_extension": ".py",
   "mimetype": "text/x-python",
   "name": "python",
   "nbconvert_exporter": "python",
   "pygments_lexer": "ipython3",
   "version": "3.6.9"
  }
 },
 "nbformat": 4,
 "nbformat_minor": 4
}
