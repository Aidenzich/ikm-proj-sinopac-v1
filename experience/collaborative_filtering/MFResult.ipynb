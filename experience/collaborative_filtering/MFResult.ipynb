{
 "cells": [
  {
   "cell_type": "code",
   "execution_count": 1,
   "metadata": {},
   "outputs": [],
   "source": [
    "import os\n",
    "import sys\n",
    "sys.path.append('../../')\n",
    "import math\n",
    "import pandas as pd\n",
    "import numpy as np\n",
    "import recs.path as path\n",
    "import json\n",
    "from recs.cf_mf import MatrixFactorization, generate_cf_predict_df\n",
    "from recs.util import id2cat, recall_evaluate, readjson2dict, convert_result_json_2_csv\n",
    "import recs.path as path\n",
    "from scipy.sparse import csr_matrix\n",
    "from scipy.sparse.linalg import svds\n",
    "from tqdm import tqdm\n",
    "import time"
   ]
  },
  {
   "cell_type": "code",
   "execution_count": 2,
   "metadata": {},
   "outputs": [],
   "source": [
    "# Date Setting\n",
    "history_period = [201600, 202100]\n",
    "best_sell_period = [201900 ,202100]\n",
    "current_yyyymm = 202012\n",
    "\n",
    "# Date Validations    \n",
    "if (current_yyyymm > history_period[1]):\n",
    "    raise SystemExit(\"Error: target_user_date > history_end\")\n",
    "\n",
    "u2idx = readjson2dict(\"crm_idx\")\n",
    "i2idx = readjson2dict(\"fund_info_idx\")\n",
    "\n",
    "exist_funds_path = os.path.join(path.data_path, 'exist_funds_2021')\n",
    "crm_path = os.path.join(path.data_path, \"crm_diff.pkl\")\n",
    "trans_buy_path = os.path.join(path.data_path, \"trans_buy.pkl\")\n",
    "\n",
    "exist_funds = readjson2dict(exist_funds_path)\n",
    "exist_funds = [i2idx.get(i) for i in exist_funds]\n",
    "\n",
    "trans_buy = pd.read_pickle(trans_buy_path)\n",
    "crm = pd.read_pickle(crm_path)\n",
    "\n",
    "target_users = crm[crm.yyyymm == current_yyyymm].id_number.unique().tolist()\n",
    "\n",
    "# training\n",
    "train_df = trans_buy[\n",
    "    (trans_buy.buy_date < history_period[1]*100) &\n",
    "    (trans_buy.buy_date > history_period[0]*100) \n",
    "]"
   ]
  },
  {
   "cell_type": "code",
   "execution_count": 3,
   "metadata": {},
   "outputs": [],
   "source": [
    "\n",
    "rate_df = train_df.groupby([\"id_number\", \"fund_id\"]).size().reset_index(name=\"Rate\")"
   ]
  },
  {
   "cell_type": "code",
   "execution_count": 4,
   "metadata": {},
   "outputs": [],
   "source": [
    "best_sells = trans_buy[\n",
    "    (trans_buy.buy_date > best_sell_period[0]*100) & (trans_buy.buy_date < best_sell_period[1]*100)\n",
    "].fund_id.value_counts().rename_axis('fund_id').reset_index(name='count')\n",
    "\n",
    "\n",
    "def rec_forward(rate_df, svds_k, target_users = target_users, ignore_item=[], train_bs_funds=200):\n",
    "    rate_df = rate_df[~rate_df.fund_id.isin(ignore_item)]\n",
    "    rate_df =rate_df[\n",
    "        rate_df['fund_id'].isin(best_sells['fund_id'].tolist()[:train_bs_funds])\n",
    "    ]\n",
    "    cf_preds_matrix = generate_cf_predict_df(rate_df, svds_k)\n",
    "    CF = MatrixFactorization(cf_preds_matrix)\n",
    "    \n",
    "    rec_dict = {}\n",
    "    for u in tqdm(target_users):\n",
    "        ignore_items = train_df[train_df.id_number == u].fund_id.unique().tolist()\n",
    "        if (u in cf_preds_matrix.columns.tolist()):            \n",
    "            rec_dict[str(u)] = CF.rec_items(u, items_to_ignore=ignore_items).fund_id.tolist()\n",
    "        else:\n",
    "            best_sell_funds = best_sells[~best_sells['fund_id'].isin(ignore_items)]['fund_id'].tolist()[:10]\n",
    "            rec_dict[u] = best_sell_funds\n",
    "    return rec_dict"
   ]
  },
  {
   "cell_type": "code",
   "execution_count": 5,
   "metadata": {},
   "outputs": [
    {
     "name": "stderr",
     "output_type": "stream",
     "text": [
      "100%|██████████| 79848/79848 [04:56<00:00, 269.08it/s]\n"
     ]
    }
   ],
   "source": [
    "params = {\n",
    "    \"train_bs_funds\": 2000,\n",
    "    \"svd_k\": 53\n",
    "}\n",
    "rec_dict = rec_forward(rate_df, params[\"svd_k\"], train_bs_funds=params[\"train_bs_funds\"])"
   ]
  },
  {
   "cell_type": "code",
   "execution_count": 6,
   "metadata": {},
   "outputs": [
    {
     "data": {
      "text/plain": [
       "79848"
      ]
     },
     "execution_count": 6,
     "metadata": {},
     "output_type": "execute_result"
    }
   ],
   "source": [
    "len(rec_dict)"
   ]
  },
  {
   "cell_type": "code",
   "execution_count": 7,
   "metadata": {},
   "outputs": [
    {
     "name": "stderr",
     "output_type": "stream",
     "text": [
      "100%|██████████| 79848/79848 [04:57<00:00, 268.00it/s]\n"
     ]
    }
   ],
   "source": [
    "# All group decode\n",
    "rec_result = {}\n",
    "\n",
    "for user in tqdm(rec_dict):\n",
    "    dec_user = id2cat(u2idx, int(user))\n",
    "    dec_funds = []\n",
    "    for item in rec_dict[user]:\n",
    "        dec_funds.append(id2cat(i2idx, item))\n",
    "    rec_result[dec_user] = dec_funds\n",
    "    "
   ]
  },
  {
   "cell_type": "code",
   "execution_count": 8,
   "metadata": {},
   "outputs": [
    {
     "name": "stdout",
     "output_type": "stream",
     "text": [
      "Convert /tf/recommenders/export/result/r_2021_12_01_mf_k53_test.json to /tf/recommenders/export/result/r_2021_12_01_mf_k53_test.csv success.\n"
     ]
    }
   ],
   "source": [
    "r_name = \"r_2021_12_01_mf_k53_test\"\n",
    "json_name = r_name+\".json\"\n",
    "json_save_path = os.path.join(path.result_path, json_name) \n",
    "with open(json_save_path, 'w') as jf:\n",
    "    json.dump(rec_result, jf)\n",
    "\n",
    "\n",
    "result_path = os.path.join(path.export_path , \"result\")\n",
    "save_path = os.path.join(result_path, f\"{r_name}.csv\")\n",
    "convert_result_json_2_csv(json_save_path, save_path)"
   ]
  },
  {
   "cell_type": "code",
   "execution_count": null,
   "metadata": {},
   "outputs": [],
   "source": []
  }
 ],
 "metadata": {
  "kernelspec": {
   "display_name": "Python 3",
   "language": "python",
   "name": "python3"
  },
  "language_info": {
   "codemirror_mode": {
    "name": "ipython",
    "version": 3
   },
   "file_extension": ".py",
   "mimetype": "text/x-python",
   "name": "python",
   "nbconvert_exporter": "python",
   "pygments_lexer": "ipython3",
   "version": "3.6.9"
  }
 },
 "nbformat": 4,
 "nbformat_minor": 4
}
