{
 "cells": [
  {
   "cell_type": "code",
   "execution_count": 1,
   "metadata": {},
   "outputs": [],
   "source": [
    "import os\n",
    "import sys\n",
    "sys.path.append('../../')\n",
    "import numpy as np\n",
    "import pandas as pd\n",
    "import json\n",
    "from tqdm import tqdm\n",
    "import recs.path as path\n",
    "from recs.util import readjson2dict, id2cat\n",
    "from recs.cf_mf import CollaborativeFiltering\n",
    "from recs.clf import Classifier\n",
    "from recs.util import readjson2dict, save_model, save2json, recall_evaluate\n",
    "from sklearn.model_selection import train_test_split"
   ]
  },
  {
   "cell_type": "code",
   "execution_count": 2,
   "metadata": {},
   "outputs": [],
   "source": [
    "DIFF = True\n",
    "TEST = True\n",
    "merge_filename = \"merge\"\n",
    "crm_filename = \"crm\"\n",
    "if TEST:\n",
    "    merge_filename += \"_test\"\n",
    "if DIFF:\n",
    "    merge_filename += \"_diff\"\n",
    "    crm_filename += \"_diff\"\n",
    "\n",
    "read_path = os.path.join(path.data_path, merge_filename + \".pkl\")\n",
    "trans_buy_path = os.path.join(path.data_path, \"trans_buy.pkl\")\n",
    "trans_buy = pd.read_pickle(trans_buy_path)\n",
    "merge = pd.read_pickle(read_path)\n",
    "\n",
    "\n",
    "fund_info_path = os.path.join(path.data_path, \"fund_info.pkl\")\n",
    "crm_path = os.path.join(path.data_path, crm_filename+\".pkl\")\n",
    "# if TEST == False:\n",
    "exist_funds_path = os.path.join(path.data_path, 'exist_funds_2021.json')\n",
    "crm = pd.read_pickle(crm_path)\n",
    "fund_info = pd.read_pickle(fund_info_path)\n",
    "\n",
    "with open(exist_funds_path) as jf:\n",
    "    exist_funds = json.load(jf)\n",
    "\n",
    "i2idx = readjson2dict('fund_info_idx')\n",
    "ef_idx = []\n",
    "for i in exist_funds:\n",
    "    try:\n",
    "        ef_idx.append(i2idx[i])\n",
    "    except:\n",
    "        continue"
   ]
  },
  {
   "cell_type": "code",
   "execution_count": 3,
   "metadata": {},
   "outputs": [],
   "source": [
    "merge.columns\n",
    "merge = merge.replace(float('-inf'), 0)\n",
    "# merge['foreign_fixed_deposit_pct'].value_counts()\n"
   ]
  },
  {
   "cell_type": "code",
   "execution_count": 4,
   "metadata": {},
   "outputs": [
    {
     "data": {
      "text/html": [
       "<div>\n",
       "<style scoped>\n",
       "    .dataframe tbody tr th:only-of-type {\n",
       "        vertical-align: middle;\n",
       "    }\n",
       "\n",
       "    .dataframe tbody tr th {\n",
       "        vertical-align: top;\n",
       "    }\n",
       "\n",
       "    .dataframe thead th {\n",
       "        text-align: right;\n",
       "    }\n",
       "</style>\n",
       "<table border=\"1\" class=\"dataframe\">\n",
       "  <thead>\n",
       "    <tr style=\"text-align: right;\">\n",
       "      <th></th>\n",
       "      <th>id_number</th>\n",
       "      <th>fund_id</th>\n",
       "      <th>buy_date</th>\n",
       "      <th>yyyymm</th>\n",
       "      <th>y</th>\n",
       "      <th>local_foreign_total</th>\n",
       "      <th>local_total</th>\n",
       "      <th>local_demand_deposit</th>\n",
       "      <th>local_fixed_deposit</th>\n",
       "      <th>foreign_total</th>\n",
       "      <th>...</th>\n",
       "      <th>count_currency_EUR</th>\n",
       "      <th>count_currency_GBP</th>\n",
       "      <th>count_currency_HKD</th>\n",
       "      <th>count_currency_JPY</th>\n",
       "      <th>count_currency_NZD</th>\n",
       "      <th>count_currency_SEK</th>\n",
       "      <th>count_currency_SGD</th>\n",
       "      <th>count_currency_TWD</th>\n",
       "      <th>count_currency_USD</th>\n",
       "      <th>count_currency_ZAR</th>\n",
       "    </tr>\n",
       "  </thead>\n",
       "  <tbody>\n",
       "    <tr>\n",
       "      <th>1</th>\n",
       "      <td>13651</td>\n",
       "      <td>748</td>\n",
       "      <td>20190709</td>\n",
       "      <td>201906</td>\n",
       "      <td>1</td>\n",
       "      <td>16.179238</td>\n",
       "      <td>16.069354</td>\n",
       "      <td>16.069354</td>\n",
       "      <td>0.0</td>\n",
       "      <td>13.916462</td>\n",
       "      <td>...</td>\n",
       "      <td>0</td>\n",
       "      <td>0</td>\n",
       "      <td>0</td>\n",
       "      <td>0</td>\n",
       "      <td>0</td>\n",
       "      <td>0</td>\n",
       "      <td>0</td>\n",
       "      <td>0</td>\n",
       "      <td>1</td>\n",
       "      <td>0</td>\n",
       "    </tr>\n",
       "    <tr>\n",
       "      <th>2</th>\n",
       "      <td>13651</td>\n",
       "      <td>2053</td>\n",
       "      <td>20170926</td>\n",
       "      <td>201708</td>\n",
       "      <td>1</td>\n",
       "      <td>15.772270</td>\n",
       "      <td>15.712601</td>\n",
       "      <td>15.712601</td>\n",
       "      <td>0.0</td>\n",
       "      <td>12.923644</td>\n",
       "      <td>...</td>\n",
       "      <td>0</td>\n",
       "      <td>0</td>\n",
       "      <td>0</td>\n",
       "      <td>0</td>\n",
       "      <td>0</td>\n",
       "      <td>0</td>\n",
       "      <td>0</td>\n",
       "      <td>0</td>\n",
       "      <td>1</td>\n",
       "      <td>0</td>\n",
       "    </tr>\n",
       "    <tr>\n",
       "      <th>3</th>\n",
       "      <td>13651</td>\n",
       "      <td>2339</td>\n",
       "      <td>20200121</td>\n",
       "      <td>201912</td>\n",
       "      <td>1</td>\n",
       "      <td>15.137757</td>\n",
       "      <td>13.303332</td>\n",
       "      <td>13.303332</td>\n",
       "      <td>0.0</td>\n",
       "      <td>14.963754</td>\n",
       "      <td>...</td>\n",
       "      <td>0</td>\n",
       "      <td>0</td>\n",
       "      <td>0</td>\n",
       "      <td>0</td>\n",
       "      <td>0</td>\n",
       "      <td>0</td>\n",
       "      <td>0</td>\n",
       "      <td>0</td>\n",
       "      <td>1</td>\n",
       "      <td>0</td>\n",
       "    </tr>\n",
       "    <tr>\n",
       "      <th>31952</th>\n",
       "      <td>13651</td>\n",
       "      <td>1512</td>\n",
       "      <td>20171121</td>\n",
       "      <td>201710</td>\n",
       "      <td>1</td>\n",
       "      <td>16.281395</td>\n",
       "      <td>15.652095</td>\n",
       "      <td>15.652095</td>\n",
       "      <td>0.0</td>\n",
       "      <td>15.520045</td>\n",
       "      <td>...</td>\n",
       "      <td>0</td>\n",
       "      <td>0</td>\n",
       "      <td>0</td>\n",
       "      <td>0</td>\n",
       "      <td>0</td>\n",
       "      <td>0</td>\n",
       "      <td>0</td>\n",
       "      <td>0</td>\n",
       "      <td>1</td>\n",
       "      <td>0</td>\n",
       "    </tr>\n",
       "    <tr>\n",
       "      <th>31953</th>\n",
       "      <td>13651</td>\n",
       "      <td>2648</td>\n",
       "      <td>20170821</td>\n",
       "      <td>201707</td>\n",
       "      <td>1</td>\n",
       "      <td>15.821352</td>\n",
       "      <td>15.765447</td>\n",
       "      <td>15.765447</td>\n",
       "      <td>0.0</td>\n",
       "      <td>12.909423</td>\n",
       "      <td>...</td>\n",
       "      <td>0</td>\n",
       "      <td>0</td>\n",
       "      <td>0</td>\n",
       "      <td>0</td>\n",
       "      <td>0</td>\n",
       "      <td>0</td>\n",
       "      <td>0</td>\n",
       "      <td>1</td>\n",
       "      <td>0</td>\n",
       "      <td>0</td>\n",
       "    </tr>\n",
       "    <tr>\n",
       "      <th>...</th>\n",
       "      <td>...</td>\n",
       "      <td>...</td>\n",
       "      <td>...</td>\n",
       "      <td>...</td>\n",
       "      <td>...</td>\n",
       "      <td>...</td>\n",
       "      <td>...</td>\n",
       "      <td>...</td>\n",
       "      <td>...</td>\n",
       "      <td>...</td>\n",
       "      <td>...</td>\n",
       "      <td>...</td>\n",
       "      <td>...</td>\n",
       "      <td>...</td>\n",
       "      <td>...</td>\n",
       "      <td>...</td>\n",
       "      <td>...</td>\n",
       "      <td>...</td>\n",
       "      <td>...</td>\n",
       "      <td>...</td>\n",
       "      <td>...</td>\n",
       "    </tr>\n",
       "    <tr>\n",
       "      <th>239793</th>\n",
       "      <td>13651</td>\n",
       "      <td>1991</td>\n",
       "      <td>20190807</td>\n",
       "      <td>201907</td>\n",
       "      <td>0</td>\n",
       "      <td>16.372836</td>\n",
       "      <td>16.275772</td>\n",
       "      <td>16.275772</td>\n",
       "      <td>0.0</td>\n",
       "      <td>13.992309</td>\n",
       "      <td>...</td>\n",
       "      <td>1</td>\n",
       "      <td>0</td>\n",
       "      <td>0</td>\n",
       "      <td>0</td>\n",
       "      <td>0</td>\n",
       "      <td>0</td>\n",
       "      <td>0</td>\n",
       "      <td>0</td>\n",
       "      <td>0</td>\n",
       "      <td>0</td>\n",
       "    </tr>\n",
       "    <tr>\n",
       "      <th>239794</th>\n",
       "      <td>13651</td>\n",
       "      <td>178</td>\n",
       "      <td>20170602</td>\n",
       "      <td>201705</td>\n",
       "      <td>0</td>\n",
       "      <td>16.063885</td>\n",
       "      <td>15.610443</td>\n",
       "      <td>15.610443</td>\n",
       "      <td>0.0</td>\n",
       "      <td>15.054828</td>\n",
       "      <td>...</td>\n",
       "      <td>0</td>\n",
       "      <td>0</td>\n",
       "      <td>0</td>\n",
       "      <td>0</td>\n",
       "      <td>0</td>\n",
       "      <td>0</td>\n",
       "      <td>0</td>\n",
       "      <td>0</td>\n",
       "      <td>0</td>\n",
       "      <td>0</td>\n",
       "    </tr>\n",
       "    <tr>\n",
       "      <th>239795</th>\n",
       "      <td>13651</td>\n",
       "      <td>2384</td>\n",
       "      <td>20180607</td>\n",
       "      <td>201805</td>\n",
       "      <td>0</td>\n",
       "      <td>15.472325</td>\n",
       "      <td>15.349427</td>\n",
       "      <td>15.349427</td>\n",
       "      <td>0.0</td>\n",
       "      <td>13.315102</td>\n",
       "      <td>...</td>\n",
       "      <td>1</td>\n",
       "      <td>0</td>\n",
       "      <td>0</td>\n",
       "      <td>0</td>\n",
       "      <td>0</td>\n",
       "      <td>0</td>\n",
       "      <td>0</td>\n",
       "      <td>0</td>\n",
       "      <td>0</td>\n",
       "      <td>0</td>\n",
       "    </tr>\n",
       "    <tr>\n",
       "      <th>239796</th>\n",
       "      <td>13651</td>\n",
       "      <td>2233</td>\n",
       "      <td>20170703</td>\n",
       "      <td>201706</td>\n",
       "      <td>0</td>\n",
       "      <td>15.940613</td>\n",
       "      <td>15.892077</td>\n",
       "      <td>15.892077</td>\n",
       "      <td>0.0</td>\n",
       "      <td>12.891001</td>\n",
       "      <td>...</td>\n",
       "      <td>0</td>\n",
       "      <td>0</td>\n",
       "      <td>0</td>\n",
       "      <td>0</td>\n",
       "      <td>0</td>\n",
       "      <td>0</td>\n",
       "      <td>0</td>\n",
       "      <td>1</td>\n",
       "      <td>0</td>\n",
       "      <td>0</td>\n",
       "    </tr>\n",
       "    <tr>\n",
       "      <th>239797</th>\n",
       "      <td>13651</td>\n",
       "      <td>1712</td>\n",
       "      <td>20170904</td>\n",
       "      <td>201708</td>\n",
       "      <td>0</td>\n",
       "      <td>15.772270</td>\n",
       "      <td>15.712601</td>\n",
       "      <td>15.712601</td>\n",
       "      <td>0.0</td>\n",
       "      <td>12.923644</td>\n",
       "      <td>...</td>\n",
       "      <td>0</td>\n",
       "      <td>0</td>\n",
       "      <td>0</td>\n",
       "      <td>0</td>\n",
       "      <td>0</td>\n",
       "      <td>0</td>\n",
       "      <td>0</td>\n",
       "      <td>0</td>\n",
       "      <td>1</td>\n",
       "      <td>0</td>\n",
       "    </tr>\n",
       "  </tbody>\n",
       "</table>\n",
       "<p>180 rows × 93 columns</p>\n",
       "</div>"
      ],
      "text/plain": [
       "        id_number  fund_id  buy_date  yyyymm  y  local_foreign_total  \\\n",
       "1           13651      748  20190709  201906  1            16.179238   \n",
       "2           13651     2053  20170926  201708  1            15.772270   \n",
       "3           13651     2339  20200121  201912  1            15.137757   \n",
       "31952       13651     1512  20171121  201710  1            16.281395   \n",
       "31953       13651     2648  20170821  201707  1            15.821352   \n",
       "...           ...      ...       ...     ... ..                  ...   \n",
       "239793      13651     1991  20190807  201907  0            16.372836   \n",
       "239794      13651      178  20170602  201705  0            16.063885   \n",
       "239795      13651     2384  20180607  201805  0            15.472325   \n",
       "239796      13651     2233  20170703  201706  0            15.940613   \n",
       "239797      13651     1712  20170904  201708  0            15.772270   \n",
       "\n",
       "        local_total  local_demand_deposit  local_fixed_deposit  foreign_total  \\\n",
       "1         16.069354             16.069354                  0.0      13.916462   \n",
       "2         15.712601             15.712601                  0.0      12.923644   \n",
       "3         13.303332             13.303332                  0.0      14.963754   \n",
       "31952     15.652095             15.652095                  0.0      15.520045   \n",
       "31953     15.765447             15.765447                  0.0      12.909423   \n",
       "...             ...                   ...                  ...            ...   \n",
       "239793    16.275772             16.275772                  0.0      13.992309   \n",
       "239794    15.610443             15.610443                  0.0      15.054828   \n",
       "239795    15.349427             15.349427                  0.0      13.315102   \n",
       "239796    15.892077             15.892077                  0.0      12.891001   \n",
       "239797    15.712601             15.712601                  0.0      12.923644   \n",
       "\n",
       "        ...  count_currency_EUR  count_currency_GBP  count_currency_HKD  \\\n",
       "1       ...                   0                   0                   0   \n",
       "2       ...                   0                   0                   0   \n",
       "3       ...                   0                   0                   0   \n",
       "31952   ...                   0                   0                   0   \n",
       "31953   ...                   0                   0                   0   \n",
       "...     ...                 ...                 ...                 ...   \n",
       "239793  ...                   1                   0                   0   \n",
       "239794  ...                   0                   0                   0   \n",
       "239795  ...                   1                   0                   0   \n",
       "239796  ...                   0                   0                   0   \n",
       "239797  ...                   0                   0                   0   \n",
       "\n",
       "        count_currency_JPY  count_currency_NZD  count_currency_SEK  \\\n",
       "1                        0                   0                   0   \n",
       "2                        0                   0                   0   \n",
       "3                        0                   0                   0   \n",
       "31952                    0                   0                   0   \n",
       "31953                    0                   0                   0   \n",
       "...                    ...                 ...                 ...   \n",
       "239793                   0                   0                   0   \n",
       "239794                   0                   0                   0   \n",
       "239795                   0                   0                   0   \n",
       "239796                   0                   0                   0   \n",
       "239797                   0                   0                   0   \n",
       "\n",
       "        count_currency_SGD  count_currency_TWD  count_currency_USD  \\\n",
       "1                        0                   0                   1   \n",
       "2                        0                   0                   1   \n",
       "3                        0                   0                   1   \n",
       "31952                    0                   0                   1   \n",
       "31953                    0                   1                   0   \n",
       "...                    ...                 ...                 ...   \n",
       "239793                   0                   0                   0   \n",
       "239794                   0                   0                   0   \n",
       "239795                   0                   0                   0   \n",
       "239796                   0                   1                   0   \n",
       "239797                   0                   0                   1   \n",
       "\n",
       "        count_currency_ZAR  \n",
       "1                        0  \n",
       "2                        0  \n",
       "3                        0  \n",
       "31952                    0  \n",
       "31953                    0  \n",
       "...                    ...  \n",
       "239793                   0  \n",
       "239794                   0  \n",
       "239795                   0  \n",
       "239796                   0  \n",
       "239797                   0  \n",
       "\n",
       "[180 rows x 93 columns]"
      ]
     },
     "execution_count": 4,
     "metadata": {},
     "output_type": "execute_result"
    }
   ],
   "source": [
    "merge[(merge.id_number == 13651)]\n",
    "# merge"
   ]
  },
  {
   "cell_type": "code",
   "execution_count": 5,
   "metadata": {},
   "outputs": [],
   "source": [
    "predict_result = merge[['id_number', 'fund_id']]\n",
    "x = merge.drop(columns=['y', 'buy_date', 'yyyymm', 'id_number', 'fund_id'])\n",
    "y = merge['y']\n",
    "x_train, x_test, y_train, y_test = train_test_split(x, y, test_size=0.2, random_state=42)"
   ]
  },
  {
   "cell_type": "code",
   "execution_count": 6,
   "metadata": {},
   "outputs": [
    {
     "data": {
      "text/plain": [
       "0    338141\n",
       "1    169068\n",
       "Name: y, dtype: int64"
      ]
     },
     "execution_count": 6,
     "metadata": {},
     "output_type": "execute_result"
    }
   ],
   "source": [
    "y_train.value_counts()"
   ]
  },
  {
   "cell_type": "code",
   "execution_count": 64,
   "metadata": {
    "scrolled": true
   },
   "outputs": [
    {
     "name": "stdout",
     "output_type": "stream",
     "text": [
      "Start Gradient Boosting Training...\n",
      "      Iter       Train Loss   Remaining Time \n",
      "         1           1.1970            8.70m\n",
      "         2           1.1387            8.70m\n",
      "         3           1.0811            8.68m\n",
      "         4           1.0702            8.55m\n",
      "         5           1.0482            8.55m\n",
      "         6           1.0218            8.56m\n",
      "         7           1.0103            8.49m\n",
      "         8           1.0011            8.41m\n",
      "         9           0.9926            8.34m\n",
      "        10           0.9832            8.24m\n",
      "        20           0.9334            7.61m\n",
      "        30           0.9136            7.01m\n",
      "        40           0.9006            6.33m\n",
      "        50           0.8878            5.71m\n",
      "        60           0.8771            5.10m\n",
      "        70           0.8675            4.50m\n",
      "        80           0.8621            3.91m\n",
      "        90           0.8580            3.34m\n",
      "       100           0.8541            2.77m\n"
     ]
    }
   ],
   "source": [
    "c = Classifier(x_train, x_test, y_train, y_test)\n",
    "c.do_gradient_boosting(lr=1.0, n_estimators=150, max_depth=3)\n",
    "\n",
    "# model_path = os.path.join(path.model_path, 'model_diff_3')\n",
    "# save_model(c.model)"
   ]
  },
  {
   "cell_type": "code",
   "execution_count": 29,
   "metadata": {},
   "outputs": [
    {
     "data": {
      "text/plain": [
       "{'model_score': 0.8012318393403902,\n",
       " 'accuracy_score': 0.8003122954504232,\n",
       " 'f1_score': 0.6788834920675181,\n",
       " 'precision_score': 0.7314713598600787,\n",
       " 'recall_score': 0.6333498970682189}"
      ]
     },
     "execution_count": 29,
     "metadata": {},
     "output_type": "execute_result"
    }
   ],
   "source": [
    "c.check_score()\n",
    "c.score_result"
   ]
  },
  {
   "cell_type": "code",
   "execution_count": 30,
   "metadata": {},
   "outputs": [
    {
     "data": {
      "text/plain": [
       "Index(['local_foreign_total', 'local_total', 'local_demand_deposit',\n",
       "       'local_fixed_deposit', 'foreign_total', 'foreign_fixed_deposit',\n",
       "       'foreign_demand_deposit', 'invest_type', 'age', 'monthly_trade_vol',\n",
       "       'stock_inventory_val', 'KPI', 'local_foreign_total_diff',\n",
       "       'local_total_diff', 'local_demand_deposit_diff',\n",
       "       'local_fixed_deposit_diff', 'foreign_total_diff',\n",
       "       'foreign_fixed_deposit_diff', 'foreign_demand_deposit_diff',\n",
       "       'monthly_trade_vol_diff', 'stock_inventory_val_diff',\n",
       "       'local_foreign_total_pct', 'local_total_pct',\n",
       "       'local_demand_deposit_pct', 'local_fixed_deposit_pct',\n",
       "       'foreign_total_pct', 'foreign_fixed_deposit_pct',\n",
       "       'foreign_demand_deposit_pct', 'monthly_trade_vol_pct',\n",
       "       'stock_inventory_val_pct', 'age_group', 'fund_type', 'local_or_foreign',\n",
       "       'chosen', 'guaranteed', 'fund_type_web', 'invest_targets',\n",
       "       'invest_region', 'currency', 'AUM_B', 'AUM_E', 'AUM_F', 'AUM_FT',\n",
       "       'AUM_I', 'AUM_M', 'AUM_O', 'AUM_W', 'region_AE  ', 'region_AU  ',\n",
       "       'region_BE  ', 'region_BR  ', 'region_CA  ', 'region_CH  ',\n",
       "       'region_CN  ', 'region_DE  ', 'region_FR  ', 'region_GB  ',\n",
       "       'region_HK  ', 'region_ID  ', 'region_IE  ', 'region_IN  ',\n",
       "       'region_IT  ', 'region_JP  ', 'region_KR  ', 'region_LU  ',\n",
       "       'region_MY  ', 'region_PH  ', 'region_RU  ', 'region_SG  ',\n",
       "       'region_TH  ', 'region_TW  ', 'region_US  ', 'region_VN  ',\n",
       "       'region_ZA  ', 'count_currency_AUD', 'count_currency_CAD',\n",
       "       'count_currency_CHF', 'count_currency_CNY', 'count_currency_EUR',\n",
       "       'count_currency_GBP', 'count_currency_HKD', 'count_currency_JPY',\n",
       "       'count_currency_NZD', 'count_currency_SEK', 'count_currency_SGD',\n",
       "       'count_currency_TWD', 'count_currency_USD', 'count_currency_ZAR'],\n",
       "      dtype='object')"
      ]
     },
     "execution_count": 30,
     "metadata": {},
     "output_type": "execute_result"
    }
   ],
   "source": [
    "x_test.columns"
   ]
  },
  {
   "cell_type": "code",
   "execution_count": 31,
   "metadata": {},
   "outputs": [
    {
     "data": {
      "text/plain": [
       "True     3266\n",
       "False       1\n",
       "Name: fund_id, dtype: int64"
      ]
     },
     "execution_count": 31,
     "metadata": {},
     "output_type": "execute_result"
    }
   ],
   "source": [
    "fund_info.fund_id.isin(ef_idx).value_counts()"
   ]
  },
  {
   "cell_type": "code",
   "execution_count": 45,
   "metadata": {},
   "outputs": [],
   "source": [
    "# best_sel = trans_buy[trans_buy.yyyymm  > 201900].fund_id.value_counts().tolist()[:100]\n",
    "# len(best_sel)\n",
    "# trans_buy[trans_buy.yyyymm  > 201900].fund_id.value_counts()[:100]"
   ]
  },
  {
   "cell_type": "code",
   "execution_count": 61,
   "metadata": {},
   "outputs": [
    {
     "name": "stdout",
     "output_type": "stream",
     "text": [
      "69839\n",
      "3267\n"
     ]
    },
    {
     "name": "stderr",
     "output_type": "stream",
     "text": [
      "/usr/local/lib/python3.6/dist-packages/ipykernel_launcher.py:10: SettingWithCopyWarning: \n",
      "A value is trying to be set on a copy of a slice from a DataFrame.\n",
      "Try using .loc[row_indexer,col_indexer] = value instead\n",
      "\n",
      "See the caveats in the documentation: https://pandas.pydata.org/pandas-docs/stable/user_guide/indexing.html#returning-a-view-versus-a-copy\n",
      "  # Remove the CWD from sys.path while we load stuff.\n"
     ]
    }
   ],
   "source": [
    "targets = crm[crm.yyyymm == 202012]\n",
    "if TEST:\n",
    "    targets = crm[crm.yyyymm == 201912]\n",
    "# funds = fund_info[\n",
    "#     (fund_info.fund_id.isin(ef_idx)) & \n",
    "#     (fund_info.fund_id.isin(best_sel)\n",
    "# ]\n",
    "funds = fund_info\n",
    "     \n",
    "targets['k'] = 0\n",
    "funds['k'] = 0\n",
    "print(len(targets))\n",
    "print(len(funds))"
   ]
  },
  {
   "cell_type": "code",
   "execution_count": 62,
   "metadata": {},
   "outputs": [],
   "source": [
    "pred_input = targets.merge(funds, how='outer')"
   ]
  },
  {
   "cell_type": "code",
   "execution_count": 63,
   "metadata": {},
   "outputs": [],
   "source": [
    "pred_input.invest_type.value_counts()\n",
    "pred_input.isnull().sum()\n",
    "pred_input.fillna(0)\n",
    "pred_input = pred_input.replace(np.inf, 0)\n",
    "pred_input = pred_input.replace(float(\"-inf\"), 0)\n",
    "if DIFF:\n",
    "    pred_input['local_demand_deposit_pct'].value_counts()"
   ]
  },
  {
   "cell_type": "code",
   "execution_count": 49,
   "metadata": {},
   "outputs": [],
   "source": [
    "x_predict = pred_input[x_test.columns]\n",
    "x_user_fund = pred_input[['id_number', 'fund_id']]"
   ]
  },
  {
   "cell_type": "code",
   "execution_count": 50,
   "metadata": {},
   "outputs": [
    {
     "data": {
      "text/plain": [
       "array([[0.90820828, 0.09179172],\n",
       "       [0.90820828, 0.09179172],\n",
       "       [0.97953733, 0.02046267],\n",
       "       ...,\n",
       "       [0.99593452, 0.00406548],\n",
       "       [0.85846058, 0.14153942],\n",
       "       [0.98344257, 0.01655743]])"
      ]
     },
     "execution_count": 50,
     "metadata": {},
     "output_type": "execute_result"
    }
   ],
   "source": [
    "predict_prob = c.model.predict_proba(x_predict)\n",
    "predict_prob"
   ]
  },
  {
   "cell_type": "code",
   "execution_count": 38,
   "metadata": {},
   "outputs": [
    {
     "data": {
      "text/plain": [
       "array([1, 0, 0, ..., 0, 0, 0])"
      ]
     },
     "execution_count": 38,
     "metadata": {},
     "output_type": "execute_result"
    }
   ],
   "source": [
    "predict_y = c.model.predict(x_predict)\n",
    "predict_y"
   ]
  },
  {
   "cell_type": "code",
   "execution_count": 53,
   "metadata": {},
   "outputs": [
    {
     "name": "stdout",
     "output_type": "stream",
     "text": [
      "1\n",
      "20462827\n",
      "[[0.90820828 0.09179172]\n",
      " [0.90820828 0.09179172]\n",
      " [0.97953733 0.02046267]\n",
      " ...\n",
      " [0.99593452 0.00406548]\n",
      " [0.85846058 0.14153942]\n",
      " [0.98344257 0.01655743]]\n",
      "          id_number  fund_id      prob\n",
      "0             38831        1  0.091792\n",
      "1             38831        2  0.091792\n",
      "2             38831        3  0.020463\n",
      "3             38831        4  0.052241\n",
      "4             38831        5  0.052241\n",
      "...             ...      ...       ...\n",
      "20462822      56616     1102  0.193106\n",
      "20462823      56616     1274  0.095333\n",
      "20462824      56616     1524  0.004065\n",
      "20462825      56616     2296  0.141539\n",
      "20462826      56616     2458  0.016557\n",
      "\n",
      "[20462827 rows x 3 columns]\n"
     ]
    },
    {
     "name": "stderr",
     "output_type": "stream",
     "text": [
      "/usr/local/lib/python3.6/dist-packages/ipykernel_launcher.py:5: SettingWithCopyWarning: \n",
      "A value is trying to be set on a copy of a slice from a DataFrame.\n",
      "Try using .loc[row_indexer,col_indexer] = value instead\n",
      "\n",
      "See the caveats in the documentation: https://pandas.pydata.org/pandas-docs/stable/user_guide/indexing.html#returning-a-view-versus-a-copy\n",
      "  \"\"\"\n"
     ]
    }
   ],
   "source": [
    "numpy_prob = np.array(predict_prob)\n",
    "print(predict_y[3593566])\n",
    "print(len(predict_prob))\n",
    "print(numpy_prob)\n",
    "x_user_fund['prob'] = numpy_prob[:, 1]\n",
    "print(x_user_fund)"
   ]
  },
  {
   "cell_type": "code",
   "execution_count": 54,
   "metadata": {},
   "outputs": [
    {
     "data": {
      "text/plain": [
       "2830    69839\n",
       "119     69839\n",
       "99      69839\n",
       "100     69839\n",
       "101     69839\n",
       "        ...  \n",
       "313     69839\n",
       "314     69839\n",
       "316     69839\n",
       "317     69839\n",
       "1       69839\n",
       "Name: fund_id, Length: 293, dtype: int64"
      ]
     },
     "execution_count": 54,
     "metadata": {},
     "output_type": "execute_result"
    }
   ],
   "source": [
    "x_user_fund.fund_id.value_counts()"
   ]
  },
  {
   "cell_type": "code",
   "execution_count": 55,
   "metadata": {},
   "outputs": [
    {
     "name": "stdout",
     "output_type": "stream",
     "text": [
      "          id_number  fund_id      prob\n",
      "14588750      65136      671  0.850191\n",
      "14588554      65136     1123  0.850191\n",
      "14588673      65136      255  0.825342\n",
      "14588520      65136      170  0.825342\n",
      "14588635      65136     1321  0.816140\n",
      "14588505      65136      147  0.805587\n",
      "14588734      65136      285  0.790115\n",
      "14588539      65136      347  0.776319\n",
      "14588672      65136      247  0.771641\n",
      "14588607      65136      205  0.732651\n",
      "-----\n",
      "         id_number  fund_id      prob\n",
      "9563031          0       41  0.818925\n",
      "9563204          0      417  0.818925\n",
      "9563205          0      418  0.818925\n",
      "9563152          0      634  0.818925\n",
      "9563006          0      548  0.818925\n",
      "9563214          0      671  0.817583\n",
      "9563018          0     1123  0.817583\n",
      "9562953          0       20  0.815929\n",
      "9563128          0       99  0.732864\n",
      "9563071          0      205  0.726329\n"
     ]
    }
   ],
   "source": [
    "print(x_user_fund[x_user_fund['id_number'] == 65136].sort_values(by=['prob'], ascending=False)[:10])\n",
    "print(\"-----\")\n",
    "print(x_user_fund[x_user_fund['id_number'] == 0].sort_values(by=['prob'], ascending=False)[:10])"
   ]
  },
  {
   "cell_type": "code",
   "execution_count": 56,
   "metadata": {},
   "outputs": [
    {
     "name": "stderr",
     "output_type": "stream",
     "text": [
      "100%|██████████| 69839/69839 [12:18<00:00, 94.54it/s]\n"
     ]
    }
   ],
   "source": [
    "# raise SystemExit()\n",
    "rec_result = {}\n",
    "count = 0\n",
    "for user in tqdm(x_user_fund.id_number.unique()):\n",
    "    if TEST:\n",
    "        ignore_item = trans_buy[(trans_buy.id_number == user) & (trans_buy.buy_date < 202000)].fund_id.unique().tolist()\n",
    "    else:\n",
    "        ignore_item = trans_buy[(trans_buy.id_number == user)].fund_id.unique().tolist()\n",
    "    tmp = x_user_fund[x_user_fund.id_number==user]\n",
    "    rec_fund = tmp[~tmp.fund_id.isin(ignore_item)].sort_values(by=['prob'], ascending=False).fund_id.astype(str).tolist()[:10]    \n",
    "    rec_result[user] = rec_fund    "
   ]
  },
  {
   "cell_type": "code",
   "execution_count": 57,
   "metadata": {},
   "outputs": [
    {
     "data": {
      "text/plain": [
       "['347', '1123', '671', '20', '170', '255', '205', '1321', '147', '247']"
      ]
     },
     "execution_count": 57,
     "metadata": {},
     "output_type": "execute_result"
    }
   ],
   "source": [
    "rec_result[49721]"
   ]
  },
  {
   "cell_type": "code",
   "execution_count": 22,
   "metadata": {},
   "outputs": [
    {
     "name": "stderr",
     "output_type": "stream",
     "text": [
      "100%|██████████| 18698/18698 [00:54<00:00, 340.74it/s]\n"
     ]
    }
   ],
   "source": [
    "def backtest_ans(trans_df: pd.DataFrame, target_users: pd.Series, \n",
    "                start: int = 201200, end: int = 202000):\n",
    "    DATE_KEY = \"buy_date\"\n",
    "    USER_ID = \"id_number\"\n",
    "    ITEM_ID = \"fund_id\"\n",
    "    \n",
    "    ans_df = trans_df[\n",
    "        (trans_df[DATE_KEY] > start) &\n",
    "        (trans_df[DATE_KEY] <= end)\n",
    "    ]\n",
    "\n",
    "    ans_users = ans_df[ans_df[USER_ID].isin(target_users)][USER_ID].unique().tolist()\n",
    "    \n",
    "    ans_dict = {}\n",
    "    for u in tqdm(ans_users):\n",
    "        ignore_items = trans_df[\n",
    "            (trans_df[USER_ID] == u) &\n",
    "            (trans_df[DATE_KEY] < start)\n",
    "        ][ITEM_ID].unique().tolist()\n",
    "        \n",
    "        ans_dict[u] = ans_df[\n",
    "            ~(ans_df[ITEM_ID].isin(ignore_items)) &\n",
    "            (ans_df[USER_ID] == u)\n",
    "        ][ITEM_ID].unique().astype(str).tolist()\n",
    "\n",
    "    return ans_dict\n",
    "\n",
    "if TEST:\n",
    "    ans_dict = backtest_ans(trans_buy, targets.id_number, start= 20200000, end= 20210000)"
   ]
  },
  {
   "cell_type": "code",
   "execution_count": null,
   "metadata": {},
   "outputs": [],
   "source": [
    "ans_dict[46487]"
   ]
  },
  {
   "cell_type": "code",
   "execution_count": 58,
   "metadata": {},
   "outputs": [
    {
     "name": "stderr",
     "output_type": "stream",
     "text": [
      "100%|██████████| 18698/18698 [00:00<00:00, 155875.04it/s]\n"
     ]
    },
    {
     "data": {
      "text/plain": [
       "{'recall@3': 0.002980385261456224,\n",
       " 'recall@5': 0.004642450508723121,\n",
       " 'recall@10': 0.00821765370125063}"
      ]
     },
     "execution_count": 58,
     "metadata": {},
     "output_type": "execute_result"
    }
   ],
   "source": [
    "recall_evaluate(rec_result, ans_dict)"
   ]
  },
  {
   "cell_type": "code",
   "execution_count": 25,
   "metadata": {},
   "outputs": [
    {
     "name": "stdout",
     "output_type": "stream",
     "text": [
      "['347', '1321', '548', '418', '417', '634', '432', '1123', '671', '619']\n",
      "['921', '1916', '2516', '2936', '1995', '3065']\n"
     ]
    }
   ],
   "source": [
    "print(rec_result[13627])\n",
    "print(ans_dict[13627])"
   ]
  },
  {
   "cell_type": "code",
   "execution_count": 26,
   "metadata": {},
   "outputs": [
    {
     "name": "stderr",
     "output_type": "stream",
     "text": [
      " 12%|█▏        | 8191/69839 [08:36<1:04:48, 15.85it/s]\n"
     ]
    },
    {
     "ename": "KeyboardInterrupt",
     "evalue": "",
     "output_type": "error",
     "traceback": [
      "\u001b[0;31m\u001b[0m",
      "\u001b[0;31mKeyboardInterrupt\u001b[0mTraceback (most recent call last)",
      "\u001b[0;32m<ipython-input-26-281df64242ca>\u001b[0m in \u001b[0;36m<module>\u001b[0;34m\u001b[0m\n\u001b[1;32m      4\u001b[0m \u001b[0;34m\u001b[0m\u001b[0m\n\u001b[1;32m      5\u001b[0m \u001b[0;32mfor\u001b[0m \u001b[0muser\u001b[0m \u001b[0;32min\u001b[0m \u001b[0mtqdm\u001b[0m\u001b[0;34m(\u001b[0m\u001b[0mrec_result\u001b[0m\u001b[0;34m)\u001b[0m\u001b[0;34m:\u001b[0m\u001b[0;34m\u001b[0m\u001b[0;34m\u001b[0m\u001b[0m\n\u001b[0;32m----> 6\u001b[0;31m     \u001b[0mdec_user\u001b[0m \u001b[0;34m=\u001b[0m \u001b[0mid2cat\u001b[0m\u001b[0;34m(\u001b[0m\u001b[0mu2idx\u001b[0m\u001b[0;34m,\u001b[0m \u001b[0muser\u001b[0m\u001b[0;34m)\u001b[0m\u001b[0;34m\u001b[0m\u001b[0;34m\u001b[0m\u001b[0m\n\u001b[0m\u001b[1;32m      7\u001b[0m     \u001b[0mdec_funds\u001b[0m \u001b[0;34m=\u001b[0m \u001b[0;34m[\u001b[0m\u001b[0;34m]\u001b[0m\u001b[0;34m\u001b[0m\u001b[0;34m\u001b[0m\u001b[0m\n\u001b[1;32m      8\u001b[0m     \u001b[0;32mfor\u001b[0m \u001b[0mitem\u001b[0m \u001b[0;32min\u001b[0m \u001b[0mrec_result\u001b[0m\u001b[0;34m[\u001b[0m\u001b[0muser\u001b[0m\u001b[0;34m]\u001b[0m\u001b[0;34m:\u001b[0m\u001b[0;34m\u001b[0m\u001b[0;34m\u001b[0m\u001b[0m\n",
      "\u001b[0;32m/tf/recommenders/recs/util.py\u001b[0m in \u001b[0;36mid2cat\u001b[0;34m(cat_dict, idx)\u001b[0m\n\u001b[1;32m     29\u001b[0m \u001b[0;34m\u001b[0m\u001b[0m\n\u001b[1;32m     30\u001b[0m \u001b[0;32mdef\u001b[0m \u001b[0mid2cat\u001b[0m\u001b[0;34m(\u001b[0m\u001b[0mcat_dict\u001b[0m\u001b[0;34m,\u001b[0m \u001b[0midx\u001b[0m\u001b[0;34m)\u001b[0m\u001b[0;34m:\u001b[0m\u001b[0;34m\u001b[0m\u001b[0;34m\u001b[0m\u001b[0m\n\u001b[0;32m---> 31\u001b[0;31m     \u001b[0;32mreturn\u001b[0m \u001b[0mlist\u001b[0m\u001b[0;34m(\u001b[0m\u001b[0mcat_dict\u001b[0m\u001b[0;34m.\u001b[0m\u001b[0mkeys\u001b[0m\u001b[0;34m(\u001b[0m\u001b[0;34m)\u001b[0m\u001b[0;34m)\u001b[0m\u001b[0;34m[\u001b[0m\u001b[0mlist\u001b[0m\u001b[0;34m(\u001b[0m\u001b[0mcat_dict\u001b[0m\u001b[0;34m.\u001b[0m\u001b[0mvalues\u001b[0m\u001b[0;34m(\u001b[0m\u001b[0;34m)\u001b[0m\u001b[0;34m)\u001b[0m\u001b[0;34m.\u001b[0m\u001b[0mindex\u001b[0m\u001b[0;34m(\u001b[0m\u001b[0midx\u001b[0m\u001b[0;34m)\u001b[0m\u001b[0;34m]\u001b[0m\u001b[0;34m\u001b[0m\u001b[0;34m\u001b[0m\u001b[0m\n\u001b[0m\u001b[1;32m     32\u001b[0m \u001b[0;34m\u001b[0m\u001b[0m\n\u001b[1;32m     33\u001b[0m \u001b[0;32mdef\u001b[0m \u001b[0mtimer\u001b[0m\u001b[0;34m(\u001b[0m\u001b[0mfunc\u001b[0m\u001b[0;34m)\u001b[0m\u001b[0;34m:\u001b[0m\u001b[0;34m\u001b[0m\u001b[0;34m\u001b[0m\u001b[0m\n",
      "\u001b[0;31mKeyboardInterrupt\u001b[0m: "
     ]
    }
   ],
   "source": [
    "dec_rec_result = {}\n",
    "u2idx = readjson2dict(\"crm_idx\")\n",
    "i2idx = readjson2dict(\"fund_info_idx\")\n",
    "\n",
    "for user in tqdm(rec_result):\n",
    "    dec_user = id2cat(u2idx, user)\n",
    "    dec_funds = []\n",
    "    for item in rec_result[user]:\n",
    "        dec_funds.append(id2cat(i2idx, int(item)))\n",
    "    dec_rec_result[dec_user] = dec_funds\n",
    "#     break"
   ]
  },
  {
   "cell_type": "code",
   "execution_count": null,
   "metadata": {},
   "outputs": [],
   "source": [
    "# dec_rec_result"
   ]
  },
  {
   "cell_type": "code",
   "execution_count": null,
   "metadata": {},
   "outputs": [],
   "source": [
    "model_save_path = os.path.join(path.export_path, \"r_20211101_model_diff_2.json\") \n",
    "with open(model_save_path, 'w') as jf:\n",
    "    json.dump(dec_rec_result, jf)"
   ]
  },
  {
   "cell_type": "code",
   "execution_count": null,
   "metadata": {},
   "outputs": [],
   "source": [
    "for i in dec_rec_result:\n",
    "    print(dec_rec_result[i])\n",
    "    break"
   ]
  }
 ],
 "metadata": {
  "kernelspec": {
   "display_name": "Python 3",
   "language": "python",
   "name": "python3"
  },
  "language_info": {
   "codemirror_mode": {
    "name": "ipython",
    "version": 3
   },
   "file_extension": ".py",
   "mimetype": "text/x-python",
   "name": "python",
   "nbconvert_exporter": "python",
   "pygments_lexer": "ipython3",
   "version": "3.6.9"
  }
 },
 "nbformat": 4,
 "nbformat_minor": 4
}
