{
 "cells": [
  {
   "cell_type": "code",
   "execution_count": 1,
   "metadata": {},
   "outputs": [],
   "source": [
    "import os\n",
    "import sys\n",
    "sys.path.append('../../')\n",
    "from recs.backtest import get_backtest_answer\n",
    "from recs.utils.path import *\n",
    "import __init__\n",
    "from recs.utils.common import predict_ranking, readjson2dict, recall_evaluate\n",
    "import recs\n",
    "from tqdm import tqdm\n",
    "import pandas as pd\n",
    "tqdm.pandas()"
   ]
  },
  {
   "cell_type": "code",
   "execution_count": 2,
   "metadata": {},
   "outputs": [
    {
     "name": "stderr",
     "output_type": "stream",
     "text": [
      "100%|██████████| 28496/28496 [01:14<00:00, 380.94it/s]\n"
     ]
    }
   ],
   "source": [
    "tran_data = pd.read_pickle(DATA_PATH / \"trans_buy.pkl\")\n",
    "real = get_backtest_answer(tran_data, start=20200000, end=20210000)"
   ]
  },
  {
   "cell_type": "code",
   "execution_count": 3,
   "metadata": {},
   "outputs": [
    {
     "name": "stdout",
     "output_type": "stream",
     "text": [
      "Index(['yyyymm', 'id_number', 'local_foreign_total', 'local_total',\n",
      "       'local_demand_deposit', 'local_fixed_deposit', 'foreign_total',\n",
      "       'foreign_fixed_deposit', 'foreign_demand_deposit', 'invest_type', 'age',\n",
      "       'monthly_trade_vol', 'stock_inventory_val', 'KPI',\n",
      "       'local_foreign_total_diff', 'local_total_diff',\n",
      "       'local_demand_deposit_diff', 'local_fixed_deposit_diff',\n",
      "       'foreign_total_diff', 'foreign_fixed_deposit_diff',\n",
      "       'foreign_demand_deposit_diff', 'monthly_trade_vol_diff',\n",
      "       'stock_inventory_val_diff', 'age_group'],\n",
      "      dtype='object')\n"
     ]
    },
    {
     "data": {
      "text/html": [
       "<div>\n",
       "<style scoped>\n",
       "    .dataframe tbody tr th:only-of-type {\n",
       "        vertical-align: middle;\n",
       "    }\n",
       "\n",
       "    .dataframe tbody tr th {\n",
       "        vertical-align: top;\n",
       "    }\n",
       "\n",
       "    .dataframe thead th {\n",
       "        text-align: right;\n",
       "    }\n",
       "</style>\n",
       "<table border=\"1\" class=\"dataframe\">\n",
       "  <thead>\n",
       "    <tr style=\"text-align: right;\">\n",
       "      <th></th>\n",
       "      <th>id_number</th>\n",
       "      <th>fund_id</th>\n",
       "      <th>buy_date</th>\n",
       "      <th>yyyymm</th>\n",
       "    </tr>\n",
       "  </thead>\n",
       "  <tbody>\n",
       "    <tr>\n",
       "      <th>1</th>\n",
       "      <td>13627</td>\n",
       "      <td>930</td>\n",
       "      <td>20170327</td>\n",
       "      <td>201702</td>\n",
       "    </tr>\n",
       "    <tr>\n",
       "      <th>5</th>\n",
       "      <td>13651</td>\n",
       "      <td>748</td>\n",
       "      <td>20190709</td>\n",
       "      <td>201906</td>\n",
       "    </tr>\n",
       "    <tr>\n",
       "      <th>8</th>\n",
       "      <td>13651</td>\n",
       "      <td>2053</td>\n",
       "      <td>20170926</td>\n",
       "      <td>201708</td>\n",
       "    </tr>\n",
       "    <tr>\n",
       "      <th>11</th>\n",
       "      <td>13653</td>\n",
       "      <td>2518</td>\n",
       "      <td>20170616</td>\n",
       "      <td>201705</td>\n",
       "    </tr>\n",
       "    <tr>\n",
       "      <th>12</th>\n",
       "      <td>13654</td>\n",
       "      <td>2091</td>\n",
       "      <td>20160322</td>\n",
       "      <td>201602</td>\n",
       "    </tr>\n",
       "    <tr>\n",
       "      <th>...</th>\n",
       "      <td>...</td>\n",
       "      <td>...</td>\n",
       "      <td>...</td>\n",
       "      <td>...</td>\n",
       "    </tr>\n",
       "    <tr>\n",
       "      <th>395706</th>\n",
       "      <td>67934</td>\n",
       "      <td>3041</td>\n",
       "      <td>20180116</td>\n",
       "      <td>201712</td>\n",
       "    </tr>\n",
       "    <tr>\n",
       "      <th>395707</th>\n",
       "      <td>67951</td>\n",
       "      <td>2108</td>\n",
       "      <td>20191114</td>\n",
       "      <td>201910</td>\n",
       "    </tr>\n",
       "    <tr>\n",
       "      <th>395708</th>\n",
       "      <td>67969</td>\n",
       "      <td>482</td>\n",
       "      <td>20180509</td>\n",
       "      <td>201804</td>\n",
       "    </tr>\n",
       "    <tr>\n",
       "      <th>395709</th>\n",
       "      <td>67971</td>\n",
       "      <td>2058</td>\n",
       "      <td>20180515</td>\n",
       "      <td>201804</td>\n",
       "    </tr>\n",
       "    <tr>\n",
       "      <th>395711</th>\n",
       "      <td>67978</td>\n",
       "      <td>306</td>\n",
       "      <td>20170421</td>\n",
       "      <td>201703</td>\n",
       "    </tr>\n",
       "  </tbody>\n",
       "</table>\n",
       "<p>233507 rows × 4 columns</p>\n",
       "</div>"
      ],
      "text/plain": [
       "        id_number  fund_id  buy_date  yyyymm\n",
       "1           13627      930  20170327  201702\n",
       "5           13651      748  20190709  201906\n",
       "8           13651     2053  20170926  201708\n",
       "11          13653     2518  20170616  201705\n",
       "12          13654     2091  20160322  201602\n",
       "...           ...      ...       ...     ...\n",
       "395706      67934     3041  20180116  201712\n",
       "395707      67951     2108  20191114  201910\n",
       "395708      67969      482  20180509  201804\n",
       "395709      67971     2058  20180515  201804\n",
       "395711      67978      306  20170421  201703\n",
       "\n",
       "[233507 rows x 4 columns]"
      ]
     },
     "execution_count": 3,
     "metadata": {},
     "output_type": "execute_result"
    }
   ],
   "source": [
    "target_date = 202000\n",
    "trans_buy = tran_data[tran_data.buy_date < (target_date)*100]\n",
    "crm = pd.read_pickle(DATA_PATH / \"crm_diff.pkl\")\n",
    "print(crm.columns)\n",
    "target_users = crm[crm.yyyymm == 201912].id_number.unique().tolist()\n",
    "best_sells = trans_buy[\n",
    "    (trans_buy.buy_date > 20171200 )\n",
    "].fund_id.value_counts().rename_axis('fund_id').reset_index(name='count')\n",
    "trans_buy"
   ]
  },
  {
   "cell_type": "code",
   "execution_count": 4,
   "metadata": {},
   "outputs": [],
   "source": [
    "### for VAE\n",
    "# vaecf = recs.models.VAECF(\n",
    "#     k=10,\n",
    "#     autoencoder_structure=[20],\n",
    "#     act_fn=\"tanh\",\n",
    "#     likelihood=\"mult\",\n",
    "#     n_epochs=100,\n",
    "#     batch_size=100,\n",
    "#     learning_rate=0.001,\n",
    "#     beta=1.0,\n",
    "#     seed=123,\n",
    "#     use_gpu=True,\n",
    "#     verbose=True,\n",
    "# )\n",
    "# trans_buy['t_weight'] = trans_buy.buy_date.progress_apply(lambda x: pow((x - trans_buy.buy_date.min() + 1) / (trans_buy.buy_date.max() - trans_buy.buy_date.min()), 2))\n",
    "# rate_df = trans_buy.groupby([\"id_number\", \"fund_id\"]).agg({'t_weight':'sum'}).reset_index().rename(columns={\"t_weight\": \"rating\"})\n",
    "# uir_data = rate_df[['id_number', 'fund_id', 'rating']].values\n",
    "# train_set = recs.datasets.Dataset.from_uir(uir_data, seed=41)\n",
    "# df = pd.DataFrame(columns=['userId', 'itemId', 'rating'], data=uir_data)\n",
    "\n",
    "# vaecf.fit(train_set)\n",
    "# pred = predict_ranking(vaecf, df, 'userId', 'itemId', 'rating', False)\n",
    "# pred.sort_values(by='rating', ascending=False, inplace=True)\n",
    "# pred\n",
    "\n"
   ]
  },
  {
   "cell_type": "code",
   "execution_count": 5,
   "metadata": {},
   "outputs": [],
   "source": [
    "### for VAE\n",
    "# rec_dict = {}\n",
    "# for u in tqdm(target_users):\n",
    "#     temp = pred[pred.userId == u]\n",
    "#     if len(temp) == 0:\n",
    "# #         ignore_items = trans_buy[trans_buy.id_number == u].fund_id.unique().tolist()        \n",
    "# #         rec_dict[u] = best_sells[~best_sells['fund_id'].isin(ignore_items)]['fund_id'].tolist()[:10]\n",
    "#         rec_dict[u] = best_sells['fund_id'].tolist()[:10]\n",
    "#     else:\n",
    "#         rec_dict[u] = temp.itemId.unique().tolist()[:10]\n",
    "# for i in tqdm(rec_dict):\n",
    "#     rec_dict[i] = [int(x) for x in rec_dict[i]]"
   ]
  },
  {
   "cell_type": "code",
   "execution_count": 19,
   "metadata": {},
   "outputs": [],
   "source": [
    "# import json\n",
    "# from recs.utils.common import convert_result_json_2_csv\n",
    "# r_name = \"rb_2020_vaecf\"\n",
    "# json_name = r_name+\".json\"\n",
    "# json_save_path = RESULT_PATH / json_name \n",
    "# # with open(json_save_path, 'w') as jf:\n",
    "# #     json.dump(rec_dict, jf)\n",
    "\n",
    "# csv_name = f\"{r_name}.csv\"\n",
    "# save_path = RESULT_PATH / csv_name\n",
    "# # convert_result_json_2_csv(str(json_save_path), str(save_path))\n",
    "\n",
    "# vaecf_data = pd.read_csv(save_path)"
   ]
  },
  {
   "cell_type": "code",
   "execution_count": 26,
   "metadata": {},
   "outputs": [
    {
     "name": "stderr",
     "output_type": "stream",
     "text": [
      "/usr/local/lib/python3.6/dist-packages/ipykernel_launcher.py:27: SettingWithCopyWarning: \n",
      "A value is trying to be set on a copy of a slice from a DataFrame.\n",
      "Try using .loc[row_indexer,col_indexer] = value instead\n",
      "\n",
      "See the caveats in the documentation: https://pandas.pydata.org/pandas-docs/stable/user_guide/indexing.html#returning-a-view-versus-a-copy\n"
     ]
    },
    {
     "data": {
      "text/plain": [
       "Index(['yyyymm', 'id_number', 'local_foreign_total', 'local_total',\n",
       "       'local_demand_deposit', 'local_fixed_deposit', 'foreign_total',\n",
       "       'foreign_fixed_deposit', 'foreign_demand_deposit', 'invest_type', 'age',\n",
       "       'monthly_trade_vol', 'stock_inventory_val', 'KPI',\n",
       "       'local_foreign_total_diff', 'local_total_diff',\n",
       "       'local_demand_deposit_diff', 'local_fixed_deposit_diff',\n",
       "       'foreign_total_diff', 'foreign_fixed_deposit_diff',\n",
       "       'foreign_demand_deposit_diff', 'monthly_trade_vol_diff',\n",
       "       'stock_inventory_val_diff', 'age_group'],\n",
       "      dtype='object')"
      ]
     },
     "execution_count": 26,
     "metadata": {},
     "output_type": "execute_result"
    }
   ],
   "source": [
    "from sklearn.manifold import TSNE\n",
    "import matplotlib.pyplot as plt\n",
    "from matplotlib.pyplot import figure\n",
    "from sklearn.cluster import Birch\n",
    "import itertools\n",
    "import numpy as np\n",
    "import umap\n",
    "def normalized(x):\n",
    "    return (x - x.mean()) / x.std()\n",
    "\n",
    "n_cluster = 100\n",
    "\n",
    "user_data = crm[crm.yyyymm == 201912]\n",
    "udata = user_data[['local_foreign_total', 'local_total',\n",
    "       'local_demand_deposit', 'local_fixed_deposit', 'foreign_total',\n",
    "       'foreign_fixed_deposit', 'foreign_demand_deposit', 'invest_type', 'age',\n",
    "       'monthly_trade_vol', 'stock_inventory_val', 'KPI','local_foreign_total_diff', 'local_total_diff',\n",
    "       'local_demand_deposit_diff', 'local_fixed_deposit_diff',\n",
    "       'foreign_total_diff', 'foreign_fixed_deposit_diff',\n",
    "       'foreign_demand_deposit_diff', 'monthly_trade_vol_diff',\n",
    "       'stock_inventory_val_diff', 'age_group']] \n",
    "for i in ['local_foreign_total_diff', 'local_total_diff',\n",
    "       'local_demand_deposit_diff', 'local_fixed_deposit_diff',\n",
    "       'foreign_total_diff', 'foreign_fixed_deposit_diff',\n",
    "       'foreign_demand_deposit_diff', 'monthly_trade_vol_diff',\n",
    "       'stock_inventory_val_diff']:\n",
    "    udata[i] = normalized(udata[i])\n",
    "udata = udata.replace(-np.inf, -1)\n",
    "udata.fillna(0, inplace=True)\n",
    "# x_embedded = TSNE(n_components=3, init='random', random_state=47, n_jobs=30).fit_transform(udata.values)\n",
    "# x_embedded = np.array(x_embedded)\n",
    "\n",
    "\n",
    "x_embedded = umap.UMAP(n_neighbors=20, n_components=10, metric='cosine').fit_transform(udata.values)\n",
    "user_data.columns"
   ]
  },
  {
   "cell_type": "code",
   "execution_count": 27,
   "metadata": {},
   "outputs": [
    {
     "name": "stderr",
     "output_type": "stream",
     "text": [
      "/usr/local/lib/python3.6/dist-packages/ipykernel_launcher.py:5: SettingWithCopyWarning: \n",
      "A value is trying to be set on a copy of a slice from a DataFrame.\n",
      "Try using .loc[row_indexer,col_indexer] = value instead\n",
      "\n",
      "See the caveats in the documentation: https://pandas.pydata.org/pandas-docs/stable/user_guide/indexing.html#returning-a-view-versus-a-copy\n",
      "  \"\"\"\n",
      "100%|██████████| 100/100 [00:00<00:00, 101.06it/s]\n"
     ]
    }
   ],
   "source": [
    "# x_embedded = udata.values\n",
    "brc = Birch(n_clusters=n_cluster)\n",
    "brc.fit(x_embedded)\n",
    "brc_x = np.array(brc.predict(x_embedded))\n",
    "user_data['cluster'] = brc_x\n",
    "\n",
    "tran_data = trans_buy.copy()\n",
    "\n",
    "\n",
    "cluster_rec = {}\n",
    "for i in tqdm(range(n_cluster)):\n",
    "    userlen = len(user_data[user_data['cluster'] == i])\n",
    "    tranlen = len(tran_data[tran_data['id_number'].isin( user_data[user_data['cluster'] == i]['id_number'])])\n",
    "    temp = tran_data[tran_data['id_number'].isin( user_data[user_data['cluster'] == i]['id_number'])]['fund_id'].value_counts().index.tolist()[:10]\n",
    "    cluster_rec[i] = temp"
   ]
  },
  {
   "cell_type": "code",
   "execution_count": 10,
   "metadata": {},
   "outputs": [],
   "source": [
    "# cluster_rec_vae = {}\n",
    "# for i in tqdm(range(n_cluster)):\n",
    "#     count_dict = {}\n",
    "\n",
    "#     temp = vaecf_data[vaecf_data['uid'].isin(user_data[user_data['cluster'] == i]['id_number'])]\n",
    "\n",
    "#     for j in range(10):\n",
    "#         temp_count_dict = temp[f\"fundid{j}\"].value_counts().to_dict()\n",
    "#         for k in temp_count_dict.keys():\n",
    "#             if count_dict.get(k):\n",
    "#                 count_dict[k] += int(temp_count_dict[k])\n",
    "#             else:\n",
    "#                 count_dict[k] = int(temp_count_dict[k])\n",
    "\n",
    "\n",
    "#     result = dict(sorted(count_dict.items(), key=lambda item: item[1], reverse=True))    \n",
    "#     cluster_rec_vae[i] = list(result.keys())[0:10]"
   ]
  },
  {
   "cell_type": "code",
   "execution_count": 28,
   "metadata": {},
   "outputs": [
    {
     "name": "stderr",
     "output_type": "stream",
     "text": [
      "100%|██████████| 69839/69839 [00:36<00:00, 1912.16it/s]\n"
     ]
    }
   ],
   "source": [
    "cluster_rec_dict = {}\n",
    "cvae_rec_dict = {}\n",
    "for u in tqdm(target_users):\n",
    "    temp = user_data[user_data['id_number']==u]\n",
    "    t_cluster = temp.cluster.tolist()[0]    \n",
    "    cluster_rec_dict[u] = cluster_rec[t_cluster]\n",
    "#     cvae_rec_dict[u] = cluster_rec_vae[t_cluster]\n",
    "    "
   ]
  },
  {
   "cell_type": "code",
   "execution_count": 18,
   "metadata": {},
   "outputs": [
    {
     "name": "stderr",
     "output_type": "stream",
     "text": [
      "100%|██████████| 28496/28496 [00:42<00:00, 673.69it/s]\n"
     ]
    }
   ],
   "source": [
    "tran_data = pd.read_pickle(DATA_PATH / \"trans_buy.pkl\")\n",
    "user2020 = list(tran_data[tran_data.buy_date > 20200000].id_number.unique())\n",
    "user2017 =list(tran_data[tran_data.buy_date < 20200000].id_number.unique())\n",
    "new_user = list(set(user2020) - set(user2017))\n",
    "\n",
    "new_real = {}\n",
    "for i in tqdm(real):\n",
    "    if i in new_user:\n",
    "        new_real[i] = real[i]"
   ]
  },
  {
   "cell_type": "code",
   "execution_count": 24,
   "metadata": {},
   "outputs": [
    {
     "name": "stderr",
     "output_type": "stream",
     "text": [
      "100%|██████████| 11056/11056 [00:00<00:00, 269425.82it/s]\n"
     ]
    },
    {
     "name": "stdout",
     "output_type": "stream",
     "text": [
      "{'recall@3': 0.009295343916816422, 'recall@5': 0.011968245364138999, 'recall@10': 0.018394368937060684, 'recall@all': 0.018394368937060684}\n"
     ]
    },
    {
     "name": "stderr",
     "output_type": "stream",
     "text": [
      "100%|██████████| 11056/11056 [00:00<00:00, 305156.72it/s]\n"
     ]
    },
    {
     "name": "stdout",
     "output_type": "stream",
     "text": [
      "{'recall@3': 0.0, 'recall@5': 0.0, 'recall@10': 0.0, 'recall@all': 0.0}\n"
     ]
    },
    {
     "name": "stderr",
     "output_type": "stream",
     "text": [
      "100%|██████████| 11056/11056 [00:00<00:00, 45053.73it/s]"
     ]
    },
    {
     "name": "stdout",
     "output_type": "stream",
     "text": [
      "{'recall@3': 0.00816423360969309, 'recall@5': 0.010793052772520937, 'recall@10': 0.013169624776164578, 'recall@all': 0.013169624776164578}\n"
     ]
    },
    {
     "name": "stderr",
     "output_type": "stream",
     "text": [
      "\n"
     ]
    }
   ],
   "source": [
    "# umap 2\n",
    "\n",
    "temp_dict = {}\n",
    "for i in cluster_rec_dict:\n",
    "    temp_dict[int(i)] = best_sells['fund_id'][:10]\n",
    "    \n",
    "print(recall_evaluate(cluster_rec_dict, new_real))\n",
    "print(recall_evaluate(cvae_rec_dict, new_real))\n",
    "print(recall_evaluate(temp_dict, new_real))"
   ]
  },
  {
   "cell_type": "code",
   "execution_count": 20,
   "metadata": {},
   "outputs": [
    {
     "name": "stderr",
     "output_type": "stream",
     "text": [
      "100%|██████████| 11056/11056 [00:00<00:00, 277420.51it/s]\n"
     ]
    },
    {
     "name": "stdout",
     "output_type": "stream",
     "text": [
      "{'recall@3': 0.008932903354484397, 'recall@5': 0.011904391937857932, 'recall@10': 0.018104787508278826, 'recall@all': 0.018104787508278826}\n"
     ]
    },
    {
     "name": "stderr",
     "output_type": "stream",
     "text": [
      "100%|██████████| 11056/11056 [00:00<00:00, 312586.62it/s]\n"
     ]
    },
    {
     "name": "stdout",
     "output_type": "stream",
     "text": [
      "{'recall@3': 0.0, 'recall@5': 0.0, 'recall@10': 0.0, 'recall@all': 0.0}\n"
     ]
    },
    {
     "name": "stderr",
     "output_type": "stream",
     "text": [
      "100%|██████████| 11056/11056 [00:00<00:00, 45586.45it/s]"
     ]
    },
    {
     "name": "stdout",
     "output_type": "stream",
     "text": [
      "{'recall@3': 0.00816423360969309, 'recall@5': 0.010793052772520937, 'recall@10': 0.013169624776164578, 'recall@all': 0.013169624776164578}\n"
     ]
    },
    {
     "name": "stderr",
     "output_type": "stream",
     "text": [
      "\n"
     ]
    }
   ],
   "source": [
    "# tsne 3\n",
    "\n",
    "temp_dict = {}\n",
    "for i in cluster_rec_dict:\n",
    "    temp_dict[int(i)] = best_sells['fund_id'][:10]\n",
    "    \n",
    "print(recall_evaluate(cluster_rec_dict, new_real))\n",
    "print(recall_evaluate(cvae_rec_dict, new_real))\n",
    "print(recall_evaluate(temp_dict, new_real))"
   ]
  },
  {
   "cell_type": "code",
   "execution_count": 25,
   "metadata": {},
   "outputs": [
    {
     "name": "stderr",
     "output_type": "stream",
     "text": [
      "100%|██████████| 11056/11056 [00:00<00:00, 269981.11it/s]\n"
     ]
    },
    {
     "name": "stdout",
     "output_type": "stream",
     "text": [
      "{'recall@3': 0.009762264739200343, 'recall@5': 0.01177751362040436, 'recall@10': 0.01905557710098231, 'recall@all': 0.01905557710098231}\n"
     ]
    },
    {
     "name": "stderr",
     "output_type": "stream",
     "text": [
      "100%|██████████| 11056/11056 [00:00<00:00, 313289.86it/s]\n"
     ]
    },
    {
     "name": "stdout",
     "output_type": "stream",
     "text": [
      "{'recall@3': 0.0, 'recall@5': 0.0, 'recall@10': 0.0, 'recall@all': 0.0}\n"
     ]
    },
    {
     "name": "stderr",
     "output_type": "stream",
     "text": [
      "100%|██████████| 11056/11056 [00:00<00:00, 44072.02it/s]"
     ]
    },
    {
     "name": "stdout",
     "output_type": "stream",
     "text": [
      "{'recall@3': 0.00816423360969309, 'recall@5': 0.010793052772520937, 'recall@10': 0.013169624776164578, 'recall@all': 0.013169624776164578}\n"
     ]
    },
    {
     "name": "stderr",
     "output_type": "stream",
     "text": [
      "\n"
     ]
    }
   ],
   "source": [
    "# umap 5\n",
    "\n",
    "temp_dict = {}\n",
    "for i in cluster_rec_dict:\n",
    "    temp_dict[int(i)] = best_sells['fund_id'][:10]\n",
    "    \n",
    "print(recall_evaluate(cluster_rec_dict, new_real))\n",
    "print(recall_evaluate(cvae_rec_dict, new_real))\n",
    "print(recall_evaluate(temp_dict, new_real))"
   ]
  },
  {
   "cell_type": "code",
   "execution_count": 29,
   "metadata": {},
   "outputs": [
    {
     "name": "stderr",
     "output_type": "stream",
     "text": [
      "100%|██████████| 11056/11056 [00:00<00:00, 282550.73it/s]\n"
     ]
    },
    {
     "name": "stdout",
     "output_type": "stream",
     "text": [
      "{'recall@3': 0.009250622096588088, 'recall@5': 0.012124944670621227, 'recall@10': 0.01837847190596829, 'recall@all': 0.01837847190596829}\n"
     ]
    },
    {
     "name": "stderr",
     "output_type": "stream",
     "text": [
      "100%|██████████| 11056/11056 [00:00<00:00, 307869.48it/s]\n"
     ]
    },
    {
     "name": "stdout",
     "output_type": "stream",
     "text": [
      "{'recall@3': 0.0, 'recall@5': 0.0, 'recall@10': 0.0, 'recall@all': 0.0}\n"
     ]
    },
    {
     "name": "stderr",
     "output_type": "stream",
     "text": [
      "100%|██████████| 11056/11056 [00:00<00:00, 41511.03it/s]"
     ]
    },
    {
     "name": "stdout",
     "output_type": "stream",
     "text": [
      "{'recall@3': 0.00816423360969309, 'recall@5': 0.010793052772520937, 'recall@10': 0.013169624776164578, 'recall@all': 0.013169624776164578}\n"
     ]
    },
    {
     "name": "stderr",
     "output_type": "stream",
     "text": [
      "\n"
     ]
    }
   ],
   "source": [
    "# umap 10\n",
    "\n",
    "temp_dict = {}\n",
    "for i in cluster_rec_dict:\n",
    "    temp_dict[int(i)] = best_sells['fund_id'][:10]\n",
    "    \n",
    "print(recall_evaluate(cluster_rec_dict, new_real))\n",
    "print(recall_evaluate(cvae_rec_dict, new_real))\n",
    "print(recall_evaluate(temp_dict, new_real))"
   ]
  },
  {
   "cell_type": "code",
   "execution_count": 39,
   "metadata": {},
   "outputs": [
    {
     "data": {
      "text/plain": [
       "'38831'"
      ]
     },
     "execution_count": 39,
     "metadata": {},
     "output_type": "execute_result"
    }
   ],
   "source": [
    "list(rec_dict.keys())[0]"
   ]
  },
  {
   "cell_type": "code",
   "execution_count": 40,
   "metadata": {},
   "outputs": [
    {
     "data": {
      "text/plain": [
       "[2936.0,\n",
       " 3215.0,\n",
       " 2940.0,\n",
       " 2717.0,\n",
       " 3197.0,\n",
       " 3041.0,\n",
       " 2416.0,\n",
       " 2518.0,\n",
       " 1108.0,\n",
       " 3072.0]"
      ]
     },
     "execution_count": 40,
     "metadata": {},
     "output_type": "execute_result"
    }
   ],
   "source": [
    "rec_dict['38831']"
   ]
  }
 ],
 "metadata": {
  "kernelspec": {
   "display_name": "Python 3",
   "language": "python",
   "name": "python3"
  },
  "language_info": {
   "codemirror_mode": {
    "name": "ipython",
    "version": 3
   },
   "file_extension": ".py",
   "mimetype": "text/x-python",
   "name": "python",
   "nbconvert_exporter": "python",
   "pygments_lexer": "ipython3",
   "version": "3.6.9"
  }
 },
 "nbformat": 4,
 "nbformat_minor": 4
}
