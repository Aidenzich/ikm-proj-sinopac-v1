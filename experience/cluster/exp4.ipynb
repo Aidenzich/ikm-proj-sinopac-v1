{
 "cells": [
  {
   "cell_type": "code",
   "execution_count": 2,
   "metadata": {},
   "outputs": [],
   "source": [
    "import os\n",
    "import sys\n",
    "sys.path.append('../../')\n",
    "from recs.backtest import get_backtest_answer\n",
    "from recs.utils.path import *\n",
    "import __init__\n",
    "from recs.utils.common import predict_ranking, readjson2dict, recall_evaluate, id2cat\n",
    "import recs\n",
    "from tqdm import tqdm\n",
    "import pandas as pd\n",
    "tqdm.pandas()"
   ]
  },
  {
   "cell_type": "code",
   "execution_count": 3,
   "metadata": {},
   "outputs": [
    {
     "name": "stderr",
     "output_type": "stream",
     "text": [
      "100%|██████████| 28496/28496 [01:15<00:00, 379.09it/s]\n"
     ]
    }
   ],
   "source": [
    "u2idx = readjson2dict(\"crm_idx\")\n",
    "tran_data = pd.read_pickle(DATA_PATH / \"trans_buy.pkl\")\n",
    "real = get_backtest_answer(tran_data, start=20200000, end=20210000)"
   ]
  },
  {
   "cell_type": "code",
   "execution_count": 4,
   "metadata": {},
   "outputs": [
    {
     "name": "stderr",
     "output_type": "stream",
     "text": [
      "/usr/local/lib/python3.6/dist-packages/IPython/core/interactiveshell.py:3063: DtypeWarning: Columns (29) have mixed types.Specify dtype option on import or set low_memory=False.\n",
      "  interactivity=interactivity, compiler=compiler, result=result)\n"
     ]
    },
    {
     "data": {
      "text/html": [
       "<div>\n",
       "<style scoped>\n",
       "    .dataframe tbody tr th:only-of-type {\n",
       "        vertical-align: middle;\n",
       "    }\n",
       "\n",
       "    .dataframe tbody tr th {\n",
       "        vertical-align: top;\n",
       "    }\n",
       "\n",
       "    .dataframe thead th {\n",
       "        text-align: right;\n",
       "    }\n",
       "</style>\n",
       "<table border=\"1\" class=\"dataframe\">\n",
       "  <thead>\n",
       "    <tr style=\"text-align: right;\">\n",
       "      <th></th>\n",
       "      <th>id_number</th>\n",
       "      <th>fund_id</th>\n",
       "      <th>buy_date</th>\n",
       "      <th>yyyymm</th>\n",
       "    </tr>\n",
       "  </thead>\n",
       "  <tbody>\n",
       "    <tr>\n",
       "      <th>1</th>\n",
       "      <td>13627</td>\n",
       "      <td>930</td>\n",
       "      <td>20170327</td>\n",
       "      <td>201702</td>\n",
       "    </tr>\n",
       "    <tr>\n",
       "      <th>5</th>\n",
       "      <td>13651</td>\n",
       "      <td>748</td>\n",
       "      <td>20190709</td>\n",
       "      <td>201906</td>\n",
       "    </tr>\n",
       "    <tr>\n",
       "      <th>8</th>\n",
       "      <td>13651</td>\n",
       "      <td>2053</td>\n",
       "      <td>20170926</td>\n",
       "      <td>201708</td>\n",
       "    </tr>\n",
       "    <tr>\n",
       "      <th>11</th>\n",
       "      <td>13653</td>\n",
       "      <td>2518</td>\n",
       "      <td>20170616</td>\n",
       "      <td>201705</td>\n",
       "    </tr>\n",
       "    <tr>\n",
       "      <th>12</th>\n",
       "      <td>13654</td>\n",
       "      <td>2091</td>\n",
       "      <td>20160322</td>\n",
       "      <td>201602</td>\n",
       "    </tr>\n",
       "    <tr>\n",
       "      <th>...</th>\n",
       "      <td>...</td>\n",
       "      <td>...</td>\n",
       "      <td>...</td>\n",
       "      <td>...</td>\n",
       "    </tr>\n",
       "    <tr>\n",
       "      <th>395706</th>\n",
       "      <td>67934</td>\n",
       "      <td>3041</td>\n",
       "      <td>20180116</td>\n",
       "      <td>201712</td>\n",
       "    </tr>\n",
       "    <tr>\n",
       "      <th>395707</th>\n",
       "      <td>67951</td>\n",
       "      <td>2108</td>\n",
       "      <td>20191114</td>\n",
       "      <td>201910</td>\n",
       "    </tr>\n",
       "    <tr>\n",
       "      <th>395708</th>\n",
       "      <td>67969</td>\n",
       "      <td>482</td>\n",
       "      <td>20180509</td>\n",
       "      <td>201804</td>\n",
       "    </tr>\n",
       "    <tr>\n",
       "      <th>395709</th>\n",
       "      <td>67971</td>\n",
       "      <td>2058</td>\n",
       "      <td>20180515</td>\n",
       "      <td>201804</td>\n",
       "    </tr>\n",
       "    <tr>\n",
       "      <th>395711</th>\n",
       "      <td>67978</td>\n",
       "      <td>306</td>\n",
       "      <td>20170421</td>\n",
       "      <td>201703</td>\n",
       "    </tr>\n",
       "  </tbody>\n",
       "</table>\n",
       "<p>233507 rows × 4 columns</p>\n",
       "</div>"
      ],
      "text/plain": [
       "        id_number  fund_id  buy_date  yyyymm\n",
       "1           13627      930  20170327  201702\n",
       "5           13651      748  20190709  201906\n",
       "8           13651     2053  20170926  201708\n",
       "11          13653     2518  20170616  201705\n",
       "12          13654     2091  20160322  201602\n",
       "...           ...      ...       ...     ...\n",
       "395706      67934     3041  20180116  201712\n",
       "395707      67951     2108  20191114  201910\n",
       "395708      67969      482  20180509  201804\n",
       "395709      67971     2058  20180515  201804\n",
       "395711      67978      306  20170421  201703\n",
       "\n",
       "[233507 rows x 4 columns]"
      ]
     },
     "execution_count": 4,
     "metadata": {},
     "output_type": "execute_result"
    }
   ],
   "source": [
    "target_date = 202000\n",
    "trans_buy_train = tran_data[tran_data.buy_date < (target_date)*100]\n",
    "crm = pd.read_csv(DATA_PATH / \"crm_for_clustering_2019.csv\")\n",
    "crm = crm[crm.yyyymm == 201912]\n",
    "crm['身分證字號'] = crm['身分證字號'].apply(lambda x: int(u2idx.get(x, -1)))\n",
    "crm = crm[crm['身分證字號'] > -1].drop(columns='index')\n",
    "\n",
    "# print(crm.columns)\n",
    "target_users = crm[crm.yyyymm == 201912]['身分證字號'].unique().tolist()\n",
    "best_sells = trans_buy_train[\n",
    "    (trans_buy_train.buy_date > 20171200 )\n",
    "].fund_id.value_counts().rename_axis('fund_id').reset_index(name='count')\n",
    "trans_buy_train"
   ]
  },
  {
   "cell_type": "code",
   "execution_count": 5,
   "metadata": {},
   "outputs": [
    {
     "data": {
      "text/html": [
       "<div>\n",
       "<style scoped>\n",
       "    .dataframe tbody tr th:only-of-type {\n",
       "        vertical-align: middle;\n",
       "    }\n",
       "\n",
       "    .dataframe tbody tr th {\n",
       "        vertical-align: top;\n",
       "    }\n",
       "\n",
       "    .dataframe thead th {\n",
       "        text-align: right;\n",
       "    }\n",
       "</style>\n",
       "<table border=\"1\" class=\"dataframe\">\n",
       "  <thead>\n",
       "    <tr style=\"text-align: right;\">\n",
       "      <th></th>\n",
       "      <th>儲蓄型保險AUM</th>\n",
       "      <th>SNAUM</th>\n",
       "      <th>總投資理財AUM</th>\n",
       "      <th>黃金AUM</th>\n",
       "      <th>基金申購註記</th>\n",
       "      <th>當年度債券AP</th>\n",
       "      <th>外幣定存AUM</th>\n",
       "      <th>持有信用卡註記</th>\n",
       "      <th>存款AUM</th>\n",
       "      <th>投資經驗註記</th>\n",
       "      <th>...</th>\n",
       "      <th>職業_37_旅遊業</th>\n",
       "      <th>職業_38_社工/義工</th>\n",
       "      <th>職業_39_保全業</th>\n",
       "      <th>職業_41_網路拍賣</th>\n",
       "      <th>職業_42_虛擬貨幣業</th>\n",
       "      <th>職業_99_其他</th>\n",
       "      <th>職業_ND</th>\n",
       "      <th>性別_0.0</th>\n",
       "      <th>性別_1.0</th>\n",
       "      <th>性別_2.0</th>\n",
       "    </tr>\n",
       "  </thead>\n",
       "  <tbody>\n",
       "    <tr>\n",
       "      <th>0</th>\n",
       "      <td>0.0</td>\n",
       "      <td>0.0</td>\n",
       "      <td>13.244581</td>\n",
       "      <td>0.000000</td>\n",
       "      <td>0</td>\n",
       "      <td>0.0</td>\n",
       "      <td>0.0</td>\n",
       "      <td>1</td>\n",
       "      <td>13.071854</td>\n",
       "      <td>0</td>\n",
       "      <td>...</td>\n",
       "      <td>0</td>\n",
       "      <td>0</td>\n",
       "      <td>0</td>\n",
       "      <td>0</td>\n",
       "      <td>0</td>\n",
       "      <td>0</td>\n",
       "      <td>0</td>\n",
       "      <td>0</td>\n",
       "      <td>1</td>\n",
       "      <td>0</td>\n",
       "    </tr>\n",
       "    <tr>\n",
       "      <th>2</th>\n",
       "      <td>0.0</td>\n",
       "      <td>0.0</td>\n",
       "      <td>13.124358</td>\n",
       "      <td>12.638764</td>\n",
       "      <td>0</td>\n",
       "      <td>0.0</td>\n",
       "      <td>0.0</td>\n",
       "      <td>0</td>\n",
       "      <td>14.633031</td>\n",
       "      <td>0</td>\n",
       "      <td>...</td>\n",
       "      <td>0</td>\n",
       "      <td>0</td>\n",
       "      <td>0</td>\n",
       "      <td>0</td>\n",
       "      <td>0</td>\n",
       "      <td>0</td>\n",
       "      <td>0</td>\n",
       "      <td>0</td>\n",
       "      <td>0</td>\n",
       "      <td>1</td>\n",
       "    </tr>\n",
       "    <tr>\n",
       "      <th>3</th>\n",
       "      <td>0.0</td>\n",
       "      <td>0.0</td>\n",
       "      <td>14.355737</td>\n",
       "      <td>0.000000</td>\n",
       "      <td>0</td>\n",
       "      <td>0.0</td>\n",
       "      <td>0.0</td>\n",
       "      <td>1</td>\n",
       "      <td>10.533806</td>\n",
       "      <td>0</td>\n",
       "      <td>...</td>\n",
       "      <td>0</td>\n",
       "      <td>0</td>\n",
       "      <td>0</td>\n",
       "      <td>0</td>\n",
       "      <td>0</td>\n",
       "      <td>0</td>\n",
       "      <td>0</td>\n",
       "      <td>0</td>\n",
       "      <td>0</td>\n",
       "      <td>1</td>\n",
       "    </tr>\n",
       "    <tr>\n",
       "      <th>4</th>\n",
       "      <td>0.0</td>\n",
       "      <td>0.0</td>\n",
       "      <td>0.000000</td>\n",
       "      <td>0.000000</td>\n",
       "      <td>0</td>\n",
       "      <td>0.0</td>\n",
       "      <td>0.0</td>\n",
       "      <td>1</td>\n",
       "      <td>15.279810</td>\n",
       "      <td>0</td>\n",
       "      <td>...</td>\n",
       "      <td>0</td>\n",
       "      <td>0</td>\n",
       "      <td>0</td>\n",
       "      <td>0</td>\n",
       "      <td>0</td>\n",
       "      <td>0</td>\n",
       "      <td>0</td>\n",
       "      <td>0</td>\n",
       "      <td>1</td>\n",
       "      <td>0</td>\n",
       "    </tr>\n",
       "    <tr>\n",
       "      <th>5</th>\n",
       "      <td>0.0</td>\n",
       "      <td>0.0</td>\n",
       "      <td>11.273798</td>\n",
       "      <td>10.382699</td>\n",
       "      <td>0</td>\n",
       "      <td>0.0</td>\n",
       "      <td>0.0</td>\n",
       "      <td>1</td>\n",
       "      <td>14.069649</td>\n",
       "      <td>0</td>\n",
       "      <td>...</td>\n",
       "      <td>0</td>\n",
       "      <td>0</td>\n",
       "      <td>0</td>\n",
       "      <td>0</td>\n",
       "      <td>0</td>\n",
       "      <td>0</td>\n",
       "      <td>0</td>\n",
       "      <td>0</td>\n",
       "      <td>0</td>\n",
       "      <td>1</td>\n",
       "    </tr>\n",
       "    <tr>\n",
       "      <th>...</th>\n",
       "      <td>...</td>\n",
       "      <td>...</td>\n",
       "      <td>...</td>\n",
       "      <td>...</td>\n",
       "      <td>...</td>\n",
       "      <td>...</td>\n",
       "      <td>...</td>\n",
       "      <td>...</td>\n",
       "      <td>...</td>\n",
       "      <td>...</td>\n",
       "      <td>...</td>\n",
       "      <td>...</td>\n",
       "      <td>...</td>\n",
       "      <td>...</td>\n",
       "      <td>...</td>\n",
       "      <td>...</td>\n",
       "      <td>...</td>\n",
       "      <td>...</td>\n",
       "      <td>...</td>\n",
       "      <td>...</td>\n",
       "      <td>...</td>\n",
       "    </tr>\n",
       "    <tr>\n",
       "      <th>157276</th>\n",
       "      <td>0.0</td>\n",
       "      <td>0.0</td>\n",
       "      <td>0.000000</td>\n",
       "      <td>0.000000</td>\n",
       "      <td>0</td>\n",
       "      <td>0.0</td>\n",
       "      <td>0.0</td>\n",
       "      <td>0</td>\n",
       "      <td>0.000000</td>\n",
       "      <td>0</td>\n",
       "      <td>...</td>\n",
       "      <td>0</td>\n",
       "      <td>0</td>\n",
       "      <td>0</td>\n",
       "      <td>0</td>\n",
       "      <td>0</td>\n",
       "      <td>0</td>\n",
       "      <td>0</td>\n",
       "      <td>1</td>\n",
       "      <td>0</td>\n",
       "      <td>0</td>\n",
       "    </tr>\n",
       "    <tr>\n",
       "      <th>157277</th>\n",
       "      <td>0.0</td>\n",
       "      <td>0.0</td>\n",
       "      <td>0.000000</td>\n",
       "      <td>0.000000</td>\n",
       "      <td>0</td>\n",
       "      <td>0.0</td>\n",
       "      <td>0.0</td>\n",
       "      <td>0</td>\n",
       "      <td>0.000000</td>\n",
       "      <td>0</td>\n",
       "      <td>...</td>\n",
       "      <td>0</td>\n",
       "      <td>0</td>\n",
       "      <td>0</td>\n",
       "      <td>0</td>\n",
       "      <td>0</td>\n",
       "      <td>0</td>\n",
       "      <td>0</td>\n",
       "      <td>1</td>\n",
       "      <td>0</td>\n",
       "      <td>0</td>\n",
       "    </tr>\n",
       "    <tr>\n",
       "      <th>157278</th>\n",
       "      <td>0.0</td>\n",
       "      <td>0.0</td>\n",
       "      <td>0.000000</td>\n",
       "      <td>0.000000</td>\n",
       "      <td>0</td>\n",
       "      <td>0.0</td>\n",
       "      <td>0.0</td>\n",
       "      <td>0</td>\n",
       "      <td>0.000000</td>\n",
       "      <td>0</td>\n",
       "      <td>...</td>\n",
       "      <td>0</td>\n",
       "      <td>0</td>\n",
       "      <td>0</td>\n",
       "      <td>0</td>\n",
       "      <td>0</td>\n",
       "      <td>0</td>\n",
       "      <td>0</td>\n",
       "      <td>1</td>\n",
       "      <td>0</td>\n",
       "      <td>0</td>\n",
       "    </tr>\n",
       "    <tr>\n",
       "      <th>157279</th>\n",
       "      <td>0.0</td>\n",
       "      <td>0.0</td>\n",
       "      <td>0.000000</td>\n",
       "      <td>0.000000</td>\n",
       "      <td>0</td>\n",
       "      <td>0.0</td>\n",
       "      <td>0.0</td>\n",
       "      <td>0</td>\n",
       "      <td>0.000000</td>\n",
       "      <td>0</td>\n",
       "      <td>...</td>\n",
       "      <td>0</td>\n",
       "      <td>0</td>\n",
       "      <td>0</td>\n",
       "      <td>0</td>\n",
       "      <td>0</td>\n",
       "      <td>0</td>\n",
       "      <td>0</td>\n",
       "      <td>1</td>\n",
       "      <td>0</td>\n",
       "      <td>0</td>\n",
       "    </tr>\n",
       "    <tr>\n",
       "      <th>157280</th>\n",
       "      <td>0.0</td>\n",
       "      <td>0.0</td>\n",
       "      <td>0.000000</td>\n",
       "      <td>0.000000</td>\n",
       "      <td>0</td>\n",
       "      <td>0.0</td>\n",
       "      <td>0.0</td>\n",
       "      <td>0</td>\n",
       "      <td>0.000000</td>\n",
       "      <td>0</td>\n",
       "      <td>...</td>\n",
       "      <td>0</td>\n",
       "      <td>0</td>\n",
       "      <td>0</td>\n",
       "      <td>0</td>\n",
       "      <td>0</td>\n",
       "      <td>0</td>\n",
       "      <td>0</td>\n",
       "      <td>1</td>\n",
       "      <td>0</td>\n",
       "      <td>0</td>\n",
       "    </tr>\n",
       "  </tbody>\n",
       "</table>\n",
       "<p>69838 rows × 93 columns</p>\n",
       "</div>"
      ],
      "text/plain": [
       "        儲蓄型保險AUM  SNAUM   總投資理財AUM      黃金AUM  基金申購註記  當年度債券AP  外幣定存AUM  \\\n",
       "0            0.0    0.0  13.244581   0.000000       0      0.0      0.0   \n",
       "2            0.0    0.0  13.124358  12.638764       0      0.0      0.0   \n",
       "3            0.0    0.0  14.355737   0.000000       0      0.0      0.0   \n",
       "4            0.0    0.0   0.000000   0.000000       0      0.0      0.0   \n",
       "5            0.0    0.0  11.273798  10.382699       0      0.0      0.0   \n",
       "...          ...    ...        ...        ...     ...      ...      ...   \n",
       "157276       0.0    0.0   0.000000   0.000000       0      0.0      0.0   \n",
       "157277       0.0    0.0   0.000000   0.000000       0      0.0      0.0   \n",
       "157278       0.0    0.0   0.000000   0.000000       0      0.0      0.0   \n",
       "157279       0.0    0.0   0.000000   0.000000       0      0.0      0.0   \n",
       "157280       0.0    0.0   0.000000   0.000000       0      0.0      0.0   \n",
       "\n",
       "        持有信用卡註記      存款AUM  投資經驗註記  ...  職業_37_旅遊業  職業_38_社工/義工  職業_39_保全業  \\\n",
       "0             1  13.071854       0  ...          0            0          0   \n",
       "2             0  14.633031       0  ...          0            0          0   \n",
       "3             1  10.533806       0  ...          0            0          0   \n",
       "4             1  15.279810       0  ...          0            0          0   \n",
       "5             1  14.069649       0  ...          0            0          0   \n",
       "...         ...        ...     ...  ...        ...          ...        ...   \n",
       "157276        0   0.000000       0  ...          0            0          0   \n",
       "157277        0   0.000000       0  ...          0            0          0   \n",
       "157278        0   0.000000       0  ...          0            0          0   \n",
       "157279        0   0.000000       0  ...          0            0          0   \n",
       "157280        0   0.000000       0  ...          0            0          0   \n",
       "\n",
       "        職業_41_網路拍賣  職業_42_虛擬貨幣業  職業_99_其他  職業_ND  性別_0.0  性別_1.0  性別_2.0  \n",
       "0                0            0         0      0       0       1       0  \n",
       "2                0            0         0      0       0       0       1  \n",
       "3                0            0         0      0       0       0       1  \n",
       "4                0            0         0      0       0       1       0  \n",
       "5                0            0         0      0       0       0       1  \n",
       "...            ...          ...       ...    ...     ...     ...     ...  \n",
       "157276           0            0         0      0       1       0       0  \n",
       "157277           0            0         0      0       1       0       0  \n",
       "157278           0            0         0      0       1       0       0  \n",
       "157279           0            0         0      0       1       0       0  \n",
       "157280           0            0         0      0       1       0       0  \n",
       "\n",
       "[69838 rows x 93 columns]"
      ]
     },
     "execution_count": 5,
     "metadata": {},
     "output_type": "execute_result"
    }
   ],
   "source": [
    "crm"
   ]
  },
  {
   "cell_type": "code",
   "execution_count": 6,
   "metadata": {},
   "outputs": [
    {
     "name": "stdout",
     "output_type": "stream",
     "text": [
      "11056\n"
     ]
    },
    {
     "name": "stderr",
     "output_type": "stream",
     "text": [
      "100%|██████████| 28496/28496 [00:43<00:00, 655.88it/s]\n"
     ]
    }
   ],
   "source": [
    "# valid data\n",
    "tran_data = pd.read_pickle(DATA_PATH / \"trans_buy.pkl\")\n",
    "user2020 = list(tran_data[tran_data.buy_date > 20200000].id_number.unique())\n",
    "user2017 =list(tran_data[tran_data.buy_date < 20200000].id_number.unique())\n",
    "new_user = list(set(user2020) - set(user2017))\n",
    "print(len(new_user))\n",
    "new_real = {}\n",
    "for i in tqdm(real):\n",
    "    if i in new_user:\n",
    "        new_real[i] = real[i]"
   ]
  },
  {
   "cell_type": "code",
   "execution_count": 9,
   "metadata": {},
   "outputs": [
    {
     "name": "stdout",
     "output_type": "stream",
     "text": [
      "2112\n"
     ]
    },
    {
     "name": "stderr",
     "output_type": "stream",
     "text": [
      "100%|██████████| 2112/2112 [00:00<00:00, 10438.99it/s]\n"
     ]
    },
    {
     "data": {
      "text/plain": [
       "{'recall@3': 0.04273852594165095,\n",
       " 'recall@5': 0.05649999595312094,\n",
       " 'recall@10': 0.06894099030552822,\n",
       " 'recall@all': 0.06894099030552822}"
      ]
     },
     "execution_count": 9,
     "metadata": {},
     "output_type": "execute_result"
    }
   ],
   "source": [
    "new_users_in_2019 = list(set(target_users) & set(new_user))\n",
    "\n",
    "new_new_real = {}\n",
    "for i in new_users_in_2019:\n",
    "    \n",
    "    new_new_real[i] = new_real[i]\n",
    "    \n",
    "print(len(new_new_real))\n",
    "\n",
    "best_sell_rec = {}\n",
    "for i in new_users_in_2019:\n",
    "    best_sell_rec[i] =  best_sells['fund_id'][:10]\n",
    "recall_evaluate(best_sell_rec, new_new_real)"
   ]
  },
  {
   "cell_type": "code",
   "execution_count": 30,
   "metadata": {},
   "outputs": [],
   "source": [
    "from sklearn.manifold import TSNE\n",
    "import matplotlib.pyplot as plt\n",
    "from matplotlib.pyplot import figure\n",
    "from sklearn.cluster import Birch, DBSCAN\n",
    "import itertools\n",
    "import numpy as np\n",
    "import umap\n",
    "\n",
    "\n",
    "n_cluster = 50\n",
    "n_comp = 10\n",
    "mx = 0\n",
    "mx_ncl = 0\n",
    "mx_nco = 0\n",
    "\n",
    "def feature_selecter(udata, method, n_components):\n",
    "    if method not in [\"tsne\", \"umap\"]:\n",
    "        raise ValueError(\"feature select method not allowed\")                    \n",
    "    \n",
    "    if method == \"tsne\":\n",
    "        x_embedded = TSNE(n_components=n_components, init='random', random_state=47, n_jobs=30).fit_transform(udata.values)\n",
    "        x_embedded = np.array(x_embedded)\n",
    "    \n",
    "    if method == \"umap\":\n",
    "        x_embedded = umap.UMAP(n_components=n_components, random_state=47).fit_transform(udata.values)\n",
    "        \n",
    "    return x_embedded\n",
    "\n",
    "def clustering(user_data, x_embedded, method, n_clusters=None, eps=None, min_samples=None):\n",
    "    \"\"\"\n",
    "    quick annotation\n",
    "    n_clusters for birch\n",
    "    eps, min_samples for dbscan\n",
    "    \"\"\"\n",
    "    if method not in [\"birch\", \"dbscan\"]:\n",
    "        raise ValueError(\"clustering method not allowed\")\n",
    "    \n",
    "    if method == \"birch\":\n",
    "        brc = Birch(n_clusters=n_clusters)\n",
    "        brc.fit(x_embedded)\n",
    "        brc_x = np.array(brc.predict(x_embedded))\n",
    "        user_data['cluster'] = brc_x                        \n",
    "    \n",
    "    if method == \"dbscan\":\n",
    "        dbscan = DBSCAN(\n",
    "            eps=eps,\n",
    "            min_samples=min_samples\n",
    "        ).fit(x_embedded)         \n",
    "        user_data['cluster'] = dbscan.labels_\n",
    "    \n",
    "    return user_data\n",
    "\n",
    "def recommender_method(tran_data, user_data):\n",
    "    clusters_top10 = {}\n",
    "    clusters = user_data.cluster.value_counts().index.tolist()\n",
    "    for i in clusters:\n",
    "        userlen = len(user_data[user_data['cluster'] == i])\n",
    "        tranlen = len(tran_data[tran_data['id_number'].isin( user_data[user_data['cluster'] == i]['身分證字號'])])\n",
    "        cluster_top10 = tran_data[tran_data['id_number'].isin( \n",
    "            user_data[user_data['cluster'] == i]['身分證字號']\n",
    "        )]['fund_id'].value_counts().index.tolist()[:10]\n",
    "        clusters_top10[i] = cluster_top10\n",
    "    \n",
    "    return clusters_top10\n",
    "    \n",
    "def backtest(user_data, x_embedded, trans_buy_train, cluster_method=\"dbscan\", n_clusters=50, eps=0.5, min_samples=5):\n",
    "    c_user_data = clustering(user_data, x_embedded, cluster_method, n_clusters, eps, min_samples)\n",
    "    cluster_top10 = recommender_method(trans_buy_train, c_user_data)\n",
    "\n",
    "    result_by_cluster = {}\n",
    "    new_users_in_2019 = list(set(target_users) & set(new_user))\n",
    "\n",
    "    for u in tqdm(new_users_in_2019):\n",
    "        temp = user_data[user_data['身分證字號']==u]\n",
    "        t_cluster = temp.cluster.tolist()[0]        \n",
    "        result_by_cluster[u] = cluster_top10[t_cluster]\n",
    "\n",
    "    r = recall_evaluate(result_by_cluster, new_new_real)\n",
    "    print(r)\n",
    "    return r\n",
    "    \n",
    "def findbest2(embedding_method, cluster_method, n_components=10):\n",
    "    user_data = crm[crm.yyyymm == 201912]\n",
    "    u_data = user_data.drop(columns=['身分證字號', 'CIFAOCODE'])\n",
    "    u_data = u_data.replace(-np.inf, -1)\n",
    "    u_data.fillna(0, inplace=True)        \n",
    "    \n",
    "    x_embedded = feature_selecter(u_data, embedding_method, n_components)\n",
    "    c_user_data = clustering(user_data, x_embedded, cluster_method)\n",
    "        \n",
    "    cluster_top10 = recommender_method(trans_buy_train, c_user_data)\n",
    "    \n",
    "    result_by_cluster = {}\n",
    "    for u in tqdm(target_users):\n",
    "        temp = user_data[user_data['身分證字號'] == u]\n",
    "        t_cluster = temp.cluster.tolist()[0]    \n",
    "        result_by_cluster[u] = cluster_top10[t_cluster]\n",
    "\n",
    "    temp_dict = {}\n",
    "    for i in cluster_rec_dict:\n",
    "        temp_dict[int(i)] = best_sells['fund_id'][:10]\n",
    "\n",
    "    \n",
    "    r = recall_evaluate(cluster_rec_dict, new_real)\n",
    "    return r\n",
    "        \n",
    "    \n",
    "\n",
    "\n"
   ]
  },
  {
   "cell_type": "code",
   "execution_count": 7,
   "metadata": {},
   "outputs": [
    {
     "data": {
      "text/html": [
       "<div>\n",
       "<style scoped>\n",
       "    .dataframe tbody tr th:only-of-type {\n",
       "        vertical-align: middle;\n",
       "    }\n",
       "\n",
       "    .dataframe tbody tr th {\n",
       "        vertical-align: top;\n",
       "    }\n",
       "\n",
       "    .dataframe thead th {\n",
       "        text-align: right;\n",
       "    }\n",
       "</style>\n",
       "<table border=\"1\" class=\"dataframe\">\n",
       "  <thead>\n",
       "    <tr style=\"text-align: right;\">\n",
       "      <th></th>\n",
       "      <th>儲蓄型保險AUM</th>\n",
       "      <th>SNAUM</th>\n",
       "      <th>總投資理財AUM</th>\n",
       "      <th>黃金AUM</th>\n",
       "      <th>基金申購註記</th>\n",
       "      <th>當年度債券AP</th>\n",
       "      <th>外幣定存AUM</th>\n",
       "      <th>持有信用卡註記</th>\n",
       "      <th>存款AUM</th>\n",
       "      <th>投資經驗註記</th>\n",
       "      <th>...</th>\n",
       "      <th>職業_37_旅遊業</th>\n",
       "      <th>職業_38_社工/義工</th>\n",
       "      <th>職業_39_保全業</th>\n",
       "      <th>職業_41_網路拍賣</th>\n",
       "      <th>職業_42_虛擬貨幣業</th>\n",
       "      <th>職業_99_其他</th>\n",
       "      <th>職業_ND</th>\n",
       "      <th>性別_0.0</th>\n",
       "      <th>性別_1.0</th>\n",
       "      <th>性別_2.0</th>\n",
       "    </tr>\n",
       "  </thead>\n",
       "  <tbody>\n",
       "    <tr>\n",
       "      <th>71142</th>\n",
       "      <td>0.000000</td>\n",
       "      <td>0.0</td>\n",
       "      <td>14.446656</td>\n",
       "      <td>0.0</td>\n",
       "      <td>0</td>\n",
       "      <td>0.0</td>\n",
       "      <td>0.000000</td>\n",
       "      <td>1</td>\n",
       "      <td>13.726159</td>\n",
       "      <td>0</td>\n",
       "      <td>...</td>\n",
       "      <td>0</td>\n",
       "      <td>0</td>\n",
       "      <td>0</td>\n",
       "      <td>0</td>\n",
       "      <td>0</td>\n",
       "      <td>0</td>\n",
       "      <td>0</td>\n",
       "      <td>0</td>\n",
       "      <td>1</td>\n",
       "      <td>0</td>\n",
       "    </tr>\n",
       "    <tr>\n",
       "      <th>71143</th>\n",
       "      <td>0.000000</td>\n",
       "      <td>0.0</td>\n",
       "      <td>14.539413</td>\n",
       "      <td>0.0</td>\n",
       "      <td>0</td>\n",
       "      <td>0.0</td>\n",
       "      <td>0.000000</td>\n",
       "      <td>0</td>\n",
       "      <td>11.508482</td>\n",
       "      <td>1</td>\n",
       "      <td>...</td>\n",
       "      <td>0</td>\n",
       "      <td>0</td>\n",
       "      <td>0</td>\n",
       "      <td>0</td>\n",
       "      <td>0</td>\n",
       "      <td>0</td>\n",
       "      <td>0</td>\n",
       "      <td>0</td>\n",
       "      <td>1</td>\n",
       "      <td>0</td>\n",
       "    </tr>\n",
       "    <tr>\n",
       "      <th>71144</th>\n",
       "      <td>0.000000</td>\n",
       "      <td>0.0</td>\n",
       "      <td>11.289782</td>\n",
       "      <td>0.0</td>\n",
       "      <td>0</td>\n",
       "      <td>0.0</td>\n",
       "      <td>0.000000</td>\n",
       "      <td>1</td>\n",
       "      <td>10.488981</td>\n",
       "      <td>0</td>\n",
       "      <td>...</td>\n",
       "      <td>0</td>\n",
       "      <td>0</td>\n",
       "      <td>0</td>\n",
       "      <td>0</td>\n",
       "      <td>0</td>\n",
       "      <td>0</td>\n",
       "      <td>0</td>\n",
       "      <td>0</td>\n",
       "      <td>1</td>\n",
       "      <td>0</td>\n",
       "    </tr>\n",
       "    <tr>\n",
       "      <th>72951</th>\n",
       "      <td>0.000000</td>\n",
       "      <td>0.0</td>\n",
       "      <td>13.910821</td>\n",
       "      <td>0.0</td>\n",
       "      <td>0</td>\n",
       "      <td>0.0</td>\n",
       "      <td>0.000000</td>\n",
       "      <td>0</td>\n",
       "      <td>12.349744</td>\n",
       "      <td>0</td>\n",
       "      <td>...</td>\n",
       "      <td>0</td>\n",
       "      <td>0</td>\n",
       "      <td>0</td>\n",
       "      <td>0</td>\n",
       "      <td>0</td>\n",
       "      <td>0</td>\n",
       "      <td>0</td>\n",
       "      <td>0</td>\n",
       "      <td>1</td>\n",
       "      <td>0</td>\n",
       "    </tr>\n",
       "    <tr>\n",
       "      <th>72968</th>\n",
       "      <td>13.815511</td>\n",
       "      <td>0.0</td>\n",
       "      <td>12.887999</td>\n",
       "      <td>0.0</td>\n",
       "      <td>0</td>\n",
       "      <td>0.0</td>\n",
       "      <td>10.971546</td>\n",
       "      <td>0</td>\n",
       "      <td>12.616151</td>\n",
       "      <td>0</td>\n",
       "      <td>...</td>\n",
       "      <td>0</td>\n",
       "      <td>0</td>\n",
       "      <td>0</td>\n",
       "      <td>0</td>\n",
       "      <td>0</td>\n",
       "      <td>0</td>\n",
       "      <td>0</td>\n",
       "      <td>0</td>\n",
       "      <td>0</td>\n",
       "      <td>1</td>\n",
       "    </tr>\n",
       "    <tr>\n",
       "      <th>...</th>\n",
       "      <td>...</td>\n",
       "      <td>...</td>\n",
       "      <td>...</td>\n",
       "      <td>...</td>\n",
       "      <td>...</td>\n",
       "      <td>...</td>\n",
       "      <td>...</td>\n",
       "      <td>...</td>\n",
       "      <td>...</td>\n",
       "      <td>...</td>\n",
       "      <td>...</td>\n",
       "      <td>...</td>\n",
       "      <td>...</td>\n",
       "      <td>...</td>\n",
       "      <td>...</td>\n",
       "      <td>...</td>\n",
       "      <td>...</td>\n",
       "      <td>...</td>\n",
       "      <td>...</td>\n",
       "      <td>...</td>\n",
       "      <td>...</td>\n",
       "    </tr>\n",
       "    <tr>\n",
       "      <th>157135</th>\n",
       "      <td>0.000000</td>\n",
       "      <td>0.0</td>\n",
       "      <td>0.000000</td>\n",
       "      <td>0.0</td>\n",
       "      <td>0</td>\n",
       "      <td>0.0</td>\n",
       "      <td>0.000000</td>\n",
       "      <td>0</td>\n",
       "      <td>0.000000</td>\n",
       "      <td>0</td>\n",
       "      <td>...</td>\n",
       "      <td>0</td>\n",
       "      <td>0</td>\n",
       "      <td>0</td>\n",
       "      <td>0</td>\n",
       "      <td>0</td>\n",
       "      <td>0</td>\n",
       "      <td>0</td>\n",
       "      <td>1</td>\n",
       "      <td>0</td>\n",
       "      <td>0</td>\n",
       "    </tr>\n",
       "    <tr>\n",
       "      <th>157221</th>\n",
       "      <td>0.000000</td>\n",
       "      <td>0.0</td>\n",
       "      <td>0.000000</td>\n",
       "      <td>0.0</td>\n",
       "      <td>0</td>\n",
       "      <td>0.0</td>\n",
       "      <td>0.000000</td>\n",
       "      <td>0</td>\n",
       "      <td>0.000000</td>\n",
       "      <td>0</td>\n",
       "      <td>...</td>\n",
       "      <td>0</td>\n",
       "      <td>0</td>\n",
       "      <td>0</td>\n",
       "      <td>0</td>\n",
       "      <td>0</td>\n",
       "      <td>0</td>\n",
       "      <td>0</td>\n",
       "      <td>1</td>\n",
       "      <td>0</td>\n",
       "      <td>0</td>\n",
       "    </tr>\n",
       "    <tr>\n",
       "      <th>157247</th>\n",
       "      <td>0.000000</td>\n",
       "      <td>0.0</td>\n",
       "      <td>0.000000</td>\n",
       "      <td>0.0</td>\n",
       "      <td>0</td>\n",
       "      <td>0.0</td>\n",
       "      <td>0.000000</td>\n",
       "      <td>0</td>\n",
       "      <td>0.000000</td>\n",
       "      <td>0</td>\n",
       "      <td>...</td>\n",
       "      <td>0</td>\n",
       "      <td>0</td>\n",
       "      <td>0</td>\n",
       "      <td>0</td>\n",
       "      <td>0</td>\n",
       "      <td>0</td>\n",
       "      <td>0</td>\n",
       "      <td>1</td>\n",
       "      <td>0</td>\n",
       "      <td>0</td>\n",
       "    </tr>\n",
       "    <tr>\n",
       "      <th>157257</th>\n",
       "      <td>0.000000</td>\n",
       "      <td>0.0</td>\n",
       "      <td>0.000000</td>\n",
       "      <td>0.0</td>\n",
       "      <td>0</td>\n",
       "      <td>0.0</td>\n",
       "      <td>0.000000</td>\n",
       "      <td>0</td>\n",
       "      <td>0.000000</td>\n",
       "      <td>0</td>\n",
       "      <td>...</td>\n",
       "      <td>0</td>\n",
       "      <td>0</td>\n",
       "      <td>0</td>\n",
       "      <td>0</td>\n",
       "      <td>0</td>\n",
       "      <td>0</td>\n",
       "      <td>0</td>\n",
       "      <td>1</td>\n",
       "      <td>0</td>\n",
       "      <td>0</td>\n",
       "    </tr>\n",
       "    <tr>\n",
       "      <th>157259</th>\n",
       "      <td>0.000000</td>\n",
       "      <td>0.0</td>\n",
       "      <td>0.000000</td>\n",
       "      <td>0.0</td>\n",
       "      <td>0</td>\n",
       "      <td>0.0</td>\n",
       "      <td>0.000000</td>\n",
       "      <td>0</td>\n",
       "      <td>0.000000</td>\n",
       "      <td>0</td>\n",
       "      <td>...</td>\n",
       "      <td>0</td>\n",
       "      <td>0</td>\n",
       "      <td>0</td>\n",
       "      <td>0</td>\n",
       "      <td>0</td>\n",
       "      <td>0</td>\n",
       "      <td>0</td>\n",
       "      <td>1</td>\n",
       "      <td>0</td>\n",
       "      <td>0</td>\n",
       "    </tr>\n",
       "  </tbody>\n",
       "</table>\n",
       "<p>2112 rows × 93 columns</p>\n",
       "</div>"
      ],
      "text/plain": [
       "         儲蓄型保險AUM  SNAUM   總投資理財AUM  黃金AUM  基金申購註記  當年度債券AP    外幣定存AUM  \\\n",
       "71142    0.000000    0.0  14.446656    0.0       0      0.0   0.000000   \n",
       "71143    0.000000    0.0  14.539413    0.0       0      0.0   0.000000   \n",
       "71144    0.000000    0.0  11.289782    0.0       0      0.0   0.000000   \n",
       "72951    0.000000    0.0  13.910821    0.0       0      0.0   0.000000   \n",
       "72968   13.815511    0.0  12.887999    0.0       0      0.0  10.971546   \n",
       "...           ...    ...        ...    ...     ...      ...        ...   \n",
       "157135   0.000000    0.0   0.000000    0.0       0      0.0   0.000000   \n",
       "157221   0.000000    0.0   0.000000    0.0       0      0.0   0.000000   \n",
       "157247   0.000000    0.0   0.000000    0.0       0      0.0   0.000000   \n",
       "157257   0.000000    0.0   0.000000    0.0       0      0.0   0.000000   \n",
       "157259   0.000000    0.0   0.000000    0.0       0      0.0   0.000000   \n",
       "\n",
       "        持有信用卡註記      存款AUM  投資經驗註記  ...  職業_37_旅遊業  職業_38_社工/義工  職業_39_保全業  \\\n",
       "71142         1  13.726159       0  ...          0            0          0   \n",
       "71143         0  11.508482       1  ...          0            0          0   \n",
       "71144         1  10.488981       0  ...          0            0          0   \n",
       "72951         0  12.349744       0  ...          0            0          0   \n",
       "72968         0  12.616151       0  ...          0            0          0   \n",
       "...         ...        ...     ...  ...        ...          ...        ...   \n",
       "157135        0   0.000000       0  ...          0            0          0   \n",
       "157221        0   0.000000       0  ...          0            0          0   \n",
       "157247        0   0.000000       0  ...          0            0          0   \n",
       "157257        0   0.000000       0  ...          0            0          0   \n",
       "157259        0   0.000000       0  ...          0            0          0   \n",
       "\n",
       "        職業_41_網路拍賣  職業_42_虛擬貨幣業  職業_99_其他  職業_ND  性別_0.0  性別_1.0  性別_2.0  \n",
       "71142            0            0         0      0       0       1       0  \n",
       "71143            0            0         0      0       0       1       0  \n",
       "71144            0            0         0      0       0       1       0  \n",
       "72951            0            0         0      0       0       1       0  \n",
       "72968            0            0         0      0       0       0       1  \n",
       "...            ...          ...       ...    ...     ...     ...     ...  \n",
       "157135           0            0         0      0       1       0       0  \n",
       "157221           0            0         0      0       1       0       0  \n",
       "157247           0            0         0      0       1       0       0  \n",
       "157257           0            0         0      0       1       0       0  \n",
       "157259           0            0         0      0       1       0       0  \n",
       "\n",
       "[2112 rows x 93 columns]"
      ]
     },
     "execution_count": 7,
     "metadata": {},
     "output_type": "execute_result"
    }
   ],
   "source": [
    "crm[crm['身分證字號'].isin(new_user)]"
   ]
  },
  {
   "cell_type": "code",
   "execution_count": 16,
   "metadata": {},
   "outputs": [
    {
     "name": "stderr",
     "output_type": "stream",
     "text": [
      "/usr/local/lib/python3.6/dist-packages/sklearn/manifold/_spectral_embedding.py:236: UserWarning: Graph is not fully connected, spectral embedding may not work as expected.\n",
      "  warnings.warn(\"Graph is not fully connected, spectral embedding\"\n"
     ]
    }
   ],
   "source": [
    "embedding_method=\"umap\"\n",
    "n_components=10\n",
    "\n",
    "user_data = crm[crm.yyyymm == 201912]\n",
    "u_data = user_data.drop(columns=['身分證字號', 'CIFAOCODE'])\n",
    "u_data = u_data.replace(-np.inf, -1)\n",
    "u_data.fillna(0, inplace=True)        \n",
    "\n",
    "x_embedded = feature_selecter(u_data, embedding_method, n_components)"
   ]
  },
  {
   "cell_type": "code",
   "execution_count": null,
   "metadata": {},
   "outputs": [],
   "source": [
    "# umap dbscan default 'recall@3': 0.04323324245199246, 'recall@5': 0.05881050636022228, 'recall@10': 0.09080525340057341, 'recall@all': 0.09080525340057341\n",
    "# umap birch default 'recall@3': 0.05260426783864283, 'recall@5': 0.06474051122488622, 'recall@10': 0.09673095385752385, 'recall@all': 0.09673095385752385\n",
    "# umap dbscan eps=6.5 min_sample=5 'recall@3': 0.04927221216283717, 'recall@5': 0.06522885652857245, 'recall@10': 0.09996868834525836, 'recall@all': 0.09996868834525836"
   ]
  },
  {
   "cell_type": "code",
   "execution_count": 31,
   "metadata": {},
   "outputs": [
    {
     "name": "stderr",
     "output_type": "stream",
     "text": [
      "/usr/local/lib/python3.6/dist-packages/sklearn/manifold/_spectral_embedding.py:236: UserWarning: Graph is not fully connected, spectral embedding may not work as expected.\n",
      "  warnings.warn(\"Graph is not fully connected, spectral embedding\"\n",
      "100%|██████████| 2112/2112 [00:01<00:00, 1911.42it/s]\n",
      "100%|██████████| 2112/2112 [00:00<00:00, 213573.07it/s]\n"
     ]
    },
    {
     "name": "stdout",
     "output_type": "stream",
     "text": [
      "{'recall@3': 0.05329551813926814, 'recall@5': 0.06658785369722872, 'recall@10': 0.09102921924953926, 'recall@all': 0.09102921924953926}\n"
     ]
    },
    {
     "name": "stderr",
     "output_type": "stream",
     "text": [
      "/usr/local/lib/python3.6/dist-packages/sklearn/manifold/_spectral_embedding.py:236: UserWarning: Graph is not fully connected, spectral embedding may not work as expected.\n",
      "  warnings.warn(\"Graph is not fully connected, spectral embedding\"\n",
      "100%|██████████| 2112/2112 [00:01<00:00, 1929.06it/s]\n",
      "100%|██████████| 2112/2112 [00:00<00:00, 198475.76it/s]\n"
     ]
    },
    {
     "name": "stdout",
     "output_type": "stream",
     "text": [
      "{'recall@3': 0.04876321595071596, 'recall@5': 0.06688079255550848, 'recall@10': 0.09803604344386344, 'recall@all': 0.09803604344386344}\n"
     ]
    },
    {
     "name": "stderr",
     "output_type": "stream",
     "text": [
      "/usr/local/lib/python3.6/dist-packages/sklearn/manifold/_spectral_embedding.py:236: UserWarning: Graph is not fully connected, spectral embedding may not work as expected.\n",
      "  warnings.warn(\"Graph is not fully connected, spectral embedding\"\n",
      "100%|██████████| 2112/2112 [00:01<00:00, 1930.11it/s]\n",
      "100%|██████████| 2112/2112 [00:00<00:00, 196042.36it/s]\n"
     ]
    },
    {
     "name": "stdout",
     "output_type": "stream",
     "text": [
      "{'recall@3': 0.05082419027731528, 'recall@5': 0.06615602846725754, 'recall@10': 0.09880752312159312, 'recall@all': 0.09880752312159312}\n"
     ]
    },
    {
     "name": "stderr",
     "output_type": "stream",
     "text": [
      "/usr/local/lib/python3.6/dist-packages/sklearn/manifold/_spectral_embedding.py:236: UserWarning: Graph is not fully connected, spectral embedding may not work as expected.\n",
      "  warnings.warn(\"Graph is not fully connected, spectral embedding\"\n",
      "100%|██████████| 2112/2112 [00:01<00:00, 1936.15it/s]\n",
      "100%|██████████| 2112/2112 [00:00<00:00, 217234.05it/s]\n"
     ]
    },
    {
     "name": "stdout",
     "output_type": "stream",
     "text": [
      "{'recall@3': 0.05142844713157213, 'recall@5': 0.06647494839966432, 'recall@10': 0.09841170640176325, 'recall@all': 0.09841170640176325}\n"
     ]
    },
    {
     "name": "stderr",
     "output_type": "stream",
     "text": [
      "/usr/local/lib/python3.6/dist-packages/sklearn/manifold/_spectral_embedding.py:236: UserWarning: Graph is not fully connected, spectral embedding may not work as expected.\n",
      "  warnings.warn(\"Graph is not fully connected, spectral embedding\"\n",
      "100%|██████████| 2112/2112 [00:01<00:00, 1909.14it/s]\n",
      "100%|██████████| 2112/2112 [00:00<00:00, 193342.43it/s]\n"
     ]
    },
    {
     "name": "stdout",
     "output_type": "stream",
     "text": [
      "{'recall@3': 0.05057920956358456, 'recall@5': 0.06631712011683605, 'recall@10': 0.1024586173976874, 'recall@all': 0.1024586173976874}\n"
     ]
    },
    {
     "name": "stderr",
     "output_type": "stream",
     "text": [
      "/usr/local/lib/python3.6/dist-packages/sklearn/manifold/_spectral_embedding.py:236: UserWarning: Graph is not fully connected, spectral embedding may not work as expected.\n",
      "  warnings.warn(\"Graph is not fully connected, spectral embedding\"\n",
      "100%|██████████| 2112/2112 [00:01<00:00, 1925.92it/s]\n",
      "100%|██████████| 2112/2112 [00:00<00:00, 197343.83it/s]\n"
     ]
    },
    {
     "name": "stdout",
     "output_type": "stream",
     "text": [
      "{'recall@3': 0.04866948734136234, 'recall@5': 0.06872400142996736, 'recall@10': 0.09546933627189313, 'recall@all': 0.09546933627189313}\n"
     ]
    },
    {
     "name": "stderr",
     "output_type": "stream",
     "text": [
      "/usr/local/lib/python3.6/dist-packages/sklearn/manifold/_spectral_embedding.py:236: UserWarning: Graph is not fully connected, spectral embedding may not work as expected.\n",
      "  warnings.warn(\"Graph is not fully connected, spectral embedding\"\n",
      "100%|██████████| 2112/2112 [00:01<00:00, 1934.34it/s]\n",
      "100%|██████████| 2112/2112 [00:00<00:00, 214213.48it/s]\n"
     ]
    },
    {
     "name": "stdout",
     "output_type": "stream",
     "text": [
      "{'recall@3': 0.046554588351463345, 'recall@5': 0.06396439556742031, 'recall@10': 0.09966803279595729, 'recall@all': 0.09966803279595729}\n"
     ]
    },
    {
     "name": "stderr",
     "output_type": "stream",
     "text": [
      "/usr/local/lib/python3.6/dist-packages/sklearn/manifold/_spectral_embedding.py:236: UserWarning: Graph is not fully connected, spectral embedding may not work as expected.\n",
      "  warnings.warn(\"Graph is not fully connected, spectral embedding\"\n",
      "100%|██████████| 2112/2112 [00:01<00:00, 1940.11it/s]\n",
      "100%|██████████| 2112/2112 [00:00<00:00, 213136.28it/s]\n"
     ]
    },
    {
     "name": "stdout",
     "output_type": "stream",
     "text": [
      "{'recall@3': 0.045638620638620654, 'recall@5': 0.06272464777436369, 'recall@10': 0.09957411763818762, 'recall@all': 0.09957411763818762}\n"
     ]
    },
    {
     "name": "stderr",
     "output_type": "stream",
     "text": [
      "/usr/local/lib/python3.6/dist-packages/sklearn/manifold/_spectral_embedding.py:236: UserWarning: Graph is not fully connected, spectral embedding may not work as expected.\n",
      "  warnings.warn(\"Graph is not fully connected, spectral embedding\"\n",
      "100%|██████████| 2112/2112 [00:01<00:00, 1944.65it/s]\n",
      "100%|██████████| 2112/2112 [00:00<00:00, 206080.49it/s]\n"
     ]
    },
    {
     "name": "stdout",
     "output_type": "stream",
     "text": [
      "{'recall@3': 0.04748126584064084, 'recall@5': 0.06348222353193946, 'recall@10': 0.09753024137556139, 'recall@all': 0.09753024137556139}\n"
     ]
    },
    {
     "name": "stderr",
     "output_type": "stream",
     "text": [
      "/usr/local/lib/python3.6/dist-packages/sklearn/manifold/_spectral_embedding.py:236: UserWarning: Graph is not fully connected, spectral embedding may not work as expected.\n",
      "  warnings.warn(\"Graph is not fully connected, spectral embedding\"\n",
      "100%|██████████| 2112/2112 [00:01<00:00, 1917.57it/s]\n",
      "100%|██████████| 2112/2112 [00:00<00:00, 202527.95it/s]\n"
     ]
    },
    {
     "name": "stdout",
     "output_type": "stream",
     "text": [
      "{'recall@3': 0.04716448193010694, 'recall@5': 0.06420034221880813, 'recall@10': 0.09405350977382979, 'recall@all': 0.09405350977382979}\n"
     ]
    },
    {
     "name": "stderr",
     "output_type": "stream",
     "text": [
      "/usr/local/lib/python3.6/dist-packages/sklearn/manifold/_spectral_embedding.py:236: UserWarning: Graph is not fully connected, spectral embedding may not work as expected.\n",
      "  warnings.warn(\"Graph is not fully connected, spectral embedding\"\n",
      "100%|██████████| 2112/2112 [00:01<00:00, 1884.01it/s]\n",
      "100%|██████████| 2112/2112 [00:00<00:00, 188299.68it/s]\n"
     ]
    },
    {
     "name": "stdout",
     "output_type": "stream",
     "text": [
      "{'recall@3': 0.046690997081622096, 'recall@5': 0.061255717399183326, 'recall@10': 0.09673715425434926, 'recall@all': 0.09673715425434926}\n"
     ]
    },
    {
     "name": "stderr",
     "output_type": "stream",
     "text": [
      "/usr/local/lib/python3.6/dist-packages/sklearn/manifold/_spectral_embedding.py:236: UserWarning: Graph is not fully connected, spectral embedding may not work as expected.\n",
      "  warnings.warn(\"Graph is not fully connected, spectral embedding\"\n",
      "100%|██████████| 2112/2112 [00:01<00:00, 1926.11it/s]\n",
      "100%|██████████| 2112/2112 [00:00<00:00, 195393.73it/s]\n"
     ]
    },
    {
     "name": "stdout",
     "output_type": "stream",
     "text": [
      "{'recall@3': 0.043686998765123775, 'recall@5': 0.061588284138000056, 'recall@10': 0.09667139246983747, 'recall@all': 0.09667139246983747}\n"
     ]
    },
    {
     "name": "stderr",
     "output_type": "stream",
     "text": [
      "/usr/local/lib/python3.6/dist-packages/sklearn/manifold/_spectral_embedding.py:236: UserWarning: Graph is not fully connected, spectral embedding may not work as expected.\n",
      "  warnings.warn(\"Graph is not fully connected, spectral embedding\"\n",
      "100%|██████████| 2112/2112 [00:01<00:00, 1920.37it/s]\n",
      "100%|██████████| 2112/2112 [00:00<00:00, 195212.88it/s]\n"
     ]
    },
    {
     "name": "stdout",
     "output_type": "stream",
     "text": [
      "{'recall@3': 0.0438645555833056, 'recall@5': 0.06146991292587884, 'recall@10': 0.09382653767185768, 'recall@all': 0.09382653767185768}\n"
     ]
    },
    {
     "name": "stderr",
     "output_type": "stream",
     "text": [
      "/usr/local/lib/python3.6/dist-packages/sklearn/manifold/_spectral_embedding.py:236: UserWarning: Graph is not fully connected, spectral embedding may not work as expected.\n",
      "  warnings.warn(\"Graph is not fully connected, spectral embedding\"\n",
      "100%|██████████| 2112/2112 [00:01<00:00, 1933.10it/s]\n",
      "100%|██████████| 2112/2112 [00:00<00:00, 191135.59it/s]\n"
     ]
    },
    {
     "name": "stdout",
     "output_type": "stream",
     "text": [
      "{'recall@3': 0.04457478285603287, 'recall@5': 0.061706655350121264, 'recall@10': 0.09439021011053012, 'recall@all': 0.09439021011053012}\n"
     ]
    },
    {
     "name": "stderr",
     "output_type": "stream",
     "text": [
      "/usr/local/lib/python3.6/dist-packages/sklearn/manifold/_spectral_embedding.py:236: UserWarning: Graph is not fully connected, spectral embedding may not work as expected.\n",
      "  warnings.warn(\"Graph is not fully connected, spectral embedding\"\n",
      "100%|██████████| 2112/2112 [00:01<00:00, 1912.61it/s]\n",
      "100%|██████████| 2112/2112 [00:00<00:00, 201932.39it/s]\n"
     ]
    },
    {
     "name": "stdout",
     "output_type": "stream",
     "text": [
      "{'recall@3': 0.04374618437118438, 'recall@5': 0.061588284138000056, 'recall@10': 0.09461680643087643, 'recall@all': 0.09461680643087643}\n"
     ]
    },
    {
     "name": "stderr",
     "output_type": "stream",
     "text": [
      "/usr/local/lib/python3.6/dist-packages/sklearn/manifold/_spectral_embedding.py:236: UserWarning: Graph is not fully connected, spectral embedding may not work as expected.\n",
      "  warnings.warn(\"Graph is not fully connected, spectral embedding\"\n",
      "100%|██████████| 2112/2112 [00:01<00:00, 1942.99it/s]\n",
      "100%|██████████| 2112/2112 [00:00<00:00, 194386.12it/s]\n"
     ]
    },
    {
     "name": "stdout",
     "output_type": "stream",
     "text": [
      "{'recall@3': 0.043075414169164175, 'recall@5': 0.061533044239010154, 'recall@10': 0.09483212930244932, 'recall@all': 0.09483212930244932}\n"
     ]
    },
    {
     "name": "stderr",
     "output_type": "stream",
     "text": [
      "/usr/local/lib/python3.6/dist-packages/sklearn/manifold/_spectral_embedding.py:236: UserWarning: Graph is not fully connected, spectral embedding may not work as expected.\n",
      "  warnings.warn(\"Graph is not fully connected, spectral embedding\"\n",
      "100%|██████████| 2112/2112 [00:01<00:00, 1919.45it/s]\n",
      "100%|██████████| 2112/2112 [00:00<00:00, 199607.25it/s]\n"
     ]
    },
    {
     "name": "stdout",
     "output_type": "stream",
     "text": [
      "{'recall@3': 0.04339107073482074, 'recall@5': 0.060404572016787936, 'recall@10': 0.09256503875410876, 'recall@all': 0.09256503875410876}\n"
     ]
    },
    {
     "name": "stderr",
     "output_type": "stream",
     "text": [
      "/usr/local/lib/python3.6/dist-packages/sklearn/manifold/_spectral_embedding.py:236: UserWarning: Graph is not fully connected, spectral embedding may not work as expected.\n",
      "  warnings.warn(\"Graph is not fully connected, spectral embedding\"\n",
      "100%|██████████| 2112/2112 [00:01<00:00, 1943.91it/s]\n",
      "100%|██████████| 2112/2112 [00:00<00:00, 195419.59it/s]\n"
     ]
    },
    {
     "name": "stdout",
     "output_type": "stream",
     "text": [
      "{'recall@3': 0.042985978142228154, 'recall@5': 0.05924094713157212, 'recall@10': 0.09338612160644162, 'recall@all': 0.09338612160644162}\n"
     ]
    },
    {
     "name": "stderr",
     "output_type": "stream",
     "text": [
      "/usr/local/lib/python3.6/dist-packages/sklearn/manifold/_spectral_embedding.py:236: UserWarning: Graph is not fully connected, spectral embedding may not work as expected.\n",
      "  warnings.warn(\"Graph is not fully connected, spectral embedding\"\n",
      "100%|██████████| 2112/2112 [00:01<00:00, 1928.19it/s]\n",
      "100%|██████████| 2112/2112 [00:00<00:00, 194745.09it/s]\n"
     ]
    },
    {
     "name": "stdout",
     "output_type": "stream",
     "text": [
      "{'recall@3': 0.04283867174492175, 'recall@5': 0.060152046764262675, 'recall@10': 0.09431129596911599, 'recall@all': 0.09431129596911599}\n"
     ]
    },
    {
     "name": "stderr",
     "output_type": "stream",
     "text": [
      "/usr/local/lib/python3.6/dist-packages/sklearn/manifold/_spectral_embedding.py:236: UserWarning: Graph is not fully connected, spectral embedding may not work as expected.\n",
      "  warnings.warn(\"Graph is not fully connected, spectral embedding\"\n",
      "100%|██████████| 2112/2112 [00:01<00:00, 1929.34it/s]\n",
      "100%|██████████| 2112/2112 [00:00<00:00, 207757.64it/s]"
     ]
    },
    {
     "name": "stdout",
     "output_type": "stream",
     "text": [
      "{'recall@3': 0.04315432831057832, 'recall@5': 0.060467703329919235, 'recall@10': 0.09360670542077544, 'recall@all': 0.09360670542077544}\n"
     ]
    },
    {
     "name": "stderr",
     "output_type": "stream",
     "text": [
      "\n"
     ]
    }
   ],
   "source": [
    "mx = 0\n",
    "mx_n_components = 0\n",
    "for i in range(20):\n",
    "    x_embedded = feature_selecter(u_data, \"umap\", 5*(i+1))\n",
    "    r = backtest(user_data, x_embedded, trans_buy_train, cluster_method=\"dbscan\", eps=6.5, min_samples=5)\n",
    "    if r['recall@all'] > mx:\n",
    "        mx = r['recall@all']\n",
    "        mx_n_components = 5*(i+1)"
   ]
  },
  {
   "cell_type": "code",
   "execution_count": 33,
   "metadata": {},
   "outputs": [
    {
     "name": "stdout",
     "output_type": "stream",
     "text": [
      "0.1024586173976874 25\n"
     ]
    }
   ],
   "source": [
    "print(mx, mx_n_components)"
   ]
  },
  {
   "cell_type": "code",
   "execution_count": 24,
   "metadata": {},
   "outputs": [
    {
     "name": "stderr",
     "output_type": "stream",
     "text": [
      "100%|██████████| 2112/2112 [00:01<00:00, 1896.02it/s]\n",
      "100%|██████████| 2112/2112 [00:00<00:00, 196403.12it/s]\n"
     ]
    },
    {
     "name": "stdout",
     "output_type": "stream",
     "text": [
      "{'recall@3': 0.042759757603507614, 'recall@5': 0.057968755518471436, 'recall@10': 0.08915932987964989, 'recall@all': 0.08915932987964989}\n"
     ]
    },
    {
     "name": "stderr",
     "output_type": "stream",
     "text": [
      "100%|██████████| 2112/2112 [00:01<00:00, 1925.56it/s]\n",
      "100%|██████████| 2112/2112 [00:00<00:00, 210167.98it/s]\n"
     ]
    },
    {
     "name": "stdout",
     "output_type": "stream",
     "text": [
      "{'recall@3': 0.04283867174492175, 'recall@5': 0.059520733632949546, 'recall@10': 0.09025285441067442, 'recall@all': 0.09025285441067442}\n"
     ]
    },
    {
     "name": "stderr",
     "output_type": "stream",
     "text": [
      "100%|██████████| 2112/2112 [00:01<00:00, 1911.52it/s]\n",
      "100%|██████████| 2112/2112 [00:00<00:00, 190547.66it/s]\n"
     ]
    },
    {
     "name": "stdout",
     "output_type": "stream",
     "text": [
      "{'recall@3': 0.04283867174492175, 'recall@5': 0.059520733632949546, 'recall@10': 0.09025285441067442, 'recall@all': 0.09025285441067442}\n"
     ]
    },
    {
     "name": "stderr",
     "output_type": "stream",
     "text": [
      "100%|██████████| 2112/2112 [00:01<00:00, 1940.68it/s]\n",
      "100%|██████████| 2112/2112 [00:00<00:00, 200053.52it/s]\n"
     ]
    },
    {
     "name": "stdout",
     "output_type": "stream",
     "text": [
      "{'recall@3': 0.04252301517926519, 'recall@5': 0.05920507706729298, 'recall@10': 0.09001611198643199, 'recall@all': 0.09001611198643199}\n"
     ]
    },
    {
     "name": "stderr",
     "output_type": "stream",
     "text": [
      "100%|██████████| 2112/2112 [00:01<00:00, 1954.02it/s]\n",
      "100%|██████████| 2112/2112 [00:00<00:00, 203313.52it/s]\n"
     ]
    },
    {
     "name": "stdout",
     "output_type": "stream",
     "text": [
      "{'recall@3': 0.04252301517926519, 'recall@5': 0.059141945754161665, 'recall@10': 0.09167330895612898, 'recall@all': 0.09167330895612898}\n"
     ]
    },
    {
     "name": "stderr",
     "output_type": "stream",
     "text": [
      "100%|██████████| 2112/2112 [00:01<00:00, 1938.14it/s]\n",
      "100%|██████████| 2112/2112 [00:00<00:00, 196003.32it/s]\n"
     ]
    },
    {
     "name": "stdout",
     "output_type": "stream",
     "text": [
      "{'recall@3': 0.04252301517926519, 'recall@5': 0.059141945754161665, 'recall@10': 0.09167330895612898, 'recall@all': 0.09167330895612898}\n"
     ]
    },
    {
     "name": "stderr",
     "output_type": "stream",
     "text": [
      "100%|██████████| 2112/2112 [00:01<00:00, 1940.82it/s]\n",
      "100%|██████████| 2112/2112 [00:00<00:00, 192497.94it/s]\n"
     ]
    },
    {
     "name": "stdout",
     "output_type": "stream",
     "text": [
      "{'recall@3': 0.042759757603507614, 'recall@5': 0.05937868817840409, 'recall@10': 0.09214679380461382, 'recall@all': 0.09214679380461382}\n"
     ]
    },
    {
     "name": "stderr",
     "output_type": "stream",
     "text": [
      "100%|██████████| 2112/2112 [00:01<00:00, 1946.22it/s]\n",
      "100%|██████████| 2112/2112 [00:00<00:00, 190163.15it/s]\n"
     ]
    },
    {
     "name": "stdout",
     "output_type": "stream",
     "text": [
      "{'recall@3': 0.04297586094461096, 'recall@5': 0.06026252656224247, 'recall@10': 0.09373522273679274, 'recall@all': 0.09373522273679274}\n"
     ]
    },
    {
     "name": "stderr",
     "output_type": "stream",
     "text": [
      "100%|██████████| 2112/2112 [00:01<00:00, 1948.90it/s]\n",
      "100%|██████████| 2112/2112 [00:00<00:00, 196103.12it/s]\n"
     ]
    },
    {
     "name": "stdout",
     "output_type": "stream",
     "text": [
      "{'recall@3': 0.04323627761127762, 'recall@5': 0.06144623868345459, 'recall@10': 0.09581066465598467, 'recall@all': 0.09581066465598467}\n"
     ]
    },
    {
     "name": "stderr",
     "output_type": "stream",
     "text": [
      "100%|██████████| 2112/2112 [00:01<00:00, 1941.14it/s]\n",
      "100%|██████████| 2112/2112 [00:00<00:00, 204950.49it/s]\n"
     ]
    },
    {
     "name": "stdout",
     "output_type": "stream",
     "text": [
      "{'recall@3': 0.04319378538128539, 'recall@5': 0.06225905434002026, 'recall@10': 0.09800447778729779, 'recall@all': 0.09800447778729779}\n"
     ]
    },
    {
     "name": "stderr",
     "output_type": "stream",
     "text": [
      "100%|██████████| 2112/2112 [00:01<00:00, 1939.68it/s]\n",
      "100%|██████████| 2112/2112 [00:00<00:00, 204746.79it/s]\n"
     ]
    },
    {
     "name": "stdout",
     "output_type": "stream",
     "text": [
      "{'recall@3': 0.04516382055444556, 'recall@5': 0.06311132706729299, 'recall@10': 0.09829307807589809, 'recall@all': 0.09829307807589809}\n"
     ]
    },
    {
     "name": "stderr",
     "output_type": "stream",
     "text": [
      "100%|██████████| 2112/2112 [00:01<00:00, 1940.10it/s]\n",
      "100%|██████████| 2112/2112 [00:00<00:00, 191797.73it/s]\n"
     ]
    },
    {
     "name": "stdout",
     "output_type": "stream",
     "text": [
      "{'recall@3': 0.04777982434232435, 'recall@5': 0.06400305686527277, 'recall@10': 0.09697859394891395, 'recall@all': 0.09697859394891395}\n"
     ]
    },
    {
     "name": "stderr",
     "output_type": "stream",
     "text": [
      "100%|██████████| 2112/2112 [00:01<00:00, 1935.79it/s]\n",
      "100%|██████████| 2112/2112 [00:00<00:00, 211502.76it/s]\n"
     ]
    },
    {
     "name": "stdout",
     "output_type": "stream",
     "text": [
      "{'recall@3': 0.04927221216283717, 'recall@5': 0.06522885652857245, 'recall@10': 0.09996868834525836, 'recall@all': 0.09996868834525836}\n"
     ]
    },
    {
     "name": "stderr",
     "output_type": "stream",
     "text": [
      "100%|██████████| 2112/2112 [00:01<00:00, 1944.03it/s]\n",
      "100%|██████████| 2112/2112 [00:00<00:00, 204100.50it/s]\n"
     ]
    },
    {
     "name": "stdout",
     "output_type": "stream",
     "text": [
      "{'recall@3': 0.04994298236485737, 'recall@5': 0.06616004339725934, 'recall@10': 0.09882255438662439, 'recall@all': 0.09882255438662439}\n"
     ]
    },
    {
     "name": "stderr",
     "output_type": "stream",
     "text": [
      "100%|██████████| 2112/2112 [00:01<00:00, 1947.48it/s]\n",
      "100%|██████████| 2112/2112 [00:00<00:00, 211841.64it/s]\n"
     ]
    },
    {
     "name": "stdout",
     "output_type": "stream",
     "text": [
      "{'recall@3': 0.049245907449032456, 'recall@5': 0.06700179423901018, 'recall@10': 0.09874251290033291, 'recall@all': 0.09874251290033291}\n"
     ]
    },
    {
     "name": "stderr",
     "output_type": "stream",
     "text": [
      "100%|██████████| 2112/2112 [00:01<00:00, 1943.94it/s]\n",
      "100%|██████████| 2112/2112 [00:00<00:00, 211482.56it/s]\n"
     ]
    },
    {
     "name": "stdout",
     "output_type": "stream",
     "text": [
      "{'recall@3': 0.05372954591704592, 'recall@5': 0.06571023279119871, 'recall@10': 0.09019874185656188, 'recall@all': 0.09019874185656188}\n"
     ]
    },
    {
     "name": "stderr",
     "output_type": "stream",
     "text": [
      "100%|██████████| 2112/2112 [00:01<00:00, 1942.33it/s]\n",
      "100%|██████████| 2112/2112 [00:00<00:00, 203486.32it/s]\n"
     ]
    },
    {
     "name": "stdout",
     "output_type": "stream",
     "text": [
      "{'recall@3': 0.0550795414076664, 'recall@5': 0.06735615631212225, 'recall@10': 0.08737236958117645, 'recall@all': 0.08737236958117645}\n"
     ]
    },
    {
     "name": "stderr",
     "output_type": "stream",
     "text": [
      "100%|██████████| 2112/2112 [00:01<00:00, 1928.75it/s]\n",
      "100%|██████████| 2112/2112 [00:00<00:00, 220187.67it/s]\n"
     ]
    },
    {
     "name": "stdout",
     "output_type": "stream",
     "text": [
      "{'recall@3': 0.0550795414076664, 'recall@5': 0.0670010426757586, 'recall@10': 0.08696201604582292, 'recall@all': 0.08696201604582292}\n"
     ]
    },
    {
     "name": "stderr",
     "output_type": "stream",
     "text": [
      "100%|██████████| 2112/2112 [00:01<00:00, 1933.53it/s]\n",
      "100%|██████████| 2112/2112 [00:00<00:00, 215994.59it/s]\n"
     ]
    },
    {
     "name": "stdout",
     "output_type": "stream",
     "text": [
      "{'recall@3': 0.0550795414076664, 'recall@5': 0.0670010426757586, 'recall@10': 0.08696201604582292, 'recall@all': 0.08696201604582292}\n"
     ]
    },
    {
     "name": "stderr",
     "output_type": "stream",
     "text": [
      "100%|██████████| 2112/2112 [00:01<00:00, 1948.24it/s]\n",
      "100%|██████████| 2112/2112 [00:00<00:00, 216395.59it/s]"
     ]
    },
    {
     "name": "stdout",
     "output_type": "stream",
     "text": [
      "{'recall@3': 0.0550795414076664, 'recall@5': 0.0670010426757586, 'recall@10': 0.08696201604582292, 'recall@all': 0.08696201604582292}\n"
     ]
    },
    {
     "name": "stderr",
     "output_type": "stream",
     "text": [
      "\n"
     ]
    }
   ],
   "source": [
    "# find best eps for dbscan\n",
    "mx = 0\n",
    "mx_eps = 0\n",
    "\n",
    "for i in range(20):    \n",
    "    r = backtest(user_data, x_embedded, trans_buy_train, cluster_method=\"dbscan\", eps=0.5*(i+1), min_samples=5)\n",
    "    if r['recall@all'] > mx:\n",
    "        mx = r['recall@all']\n",
    "        mx_eps = 0.5*(i+1)"
   ]
  },
  {
   "cell_type": "code",
   "execution_count": 26,
   "metadata": {},
   "outputs": [
    {
     "name": "stdout",
     "output_type": "stream",
     "text": [
      "0.09996868834525836 6.5\n"
     ]
    }
   ],
   "source": [
    "print(mx, mx_eps)"
   ]
  },
  {
   "cell_type": "code",
   "execution_count": 28,
   "metadata": {},
   "outputs": [
    {
     "name": "stderr",
     "output_type": "stream",
     "text": [
      "100%|██████████| 2112/2112 [00:01<00:00, 1931.96it/s]\n",
      "100%|██████████| 2112/2112 [00:00<00:00, 208304.80it/s]\n"
     ]
    },
    {
     "name": "stdout",
     "output_type": "stream",
     "text": [
      "{'recall@3': 0.04927221216283717, 'recall@5': 0.06522885652857245, 'recall@10': 0.09996868834525836, 'recall@all': 0.09996868834525836}\n"
     ]
    },
    {
     "name": "stderr",
     "output_type": "stream",
     "text": [
      "100%|██████████| 2112/2112 [00:01<00:00, 1927.50it/s]\n",
      "100%|██████████| 2112/2112 [00:00<00:00, 214311.95it/s]\n"
     ]
    },
    {
     "name": "stdout",
     "output_type": "stream",
     "text": [
      "{'recall@3': 0.049745697011322025, 'recall@5': 0.06522885652857245, 'recall@10': 0.09949520349677352, 'recall@all': 0.09949520349677352}\n"
     ]
    },
    {
     "name": "stderr",
     "output_type": "stream",
     "text": [
      "100%|██████████| 2112/2112 [00:01<00:00, 1937.97it/s]\n",
      "100%|██████████| 2112/2112 [00:00<00:00, 203159.65it/s]\n"
     ]
    },
    {
     "name": "stdout",
     "output_type": "stream",
     "text": [
      "{'recall@3': 0.049745697011322025, 'recall@5': 0.06522885652857245, 'recall@10': 0.09878497622404624, 'recall@all': 0.09878497622404624}\n"
     ]
    },
    {
     "name": "stderr",
     "output_type": "stream",
     "text": [
      "100%|██████████| 2112/2112 [00:01<00:00, 1941.29it/s]\n",
      "100%|██████████| 2112/2112 [00:00<00:00, 212599.18it/s]\n"
     ]
    },
    {
     "name": "stdout",
     "output_type": "stream",
     "text": [
      "{'recall@3': 0.049745697011322025, 'recall@5': 0.06522885652857245, 'recall@10': 0.09878497622404624, 'recall@all': 0.09878497622404624}\n"
     ]
    },
    {
     "name": "stderr",
     "output_type": "stream",
     "text": [
      "100%|██████████| 2112/2112 [00:01<00:00, 1936.26it/s]\n",
      "100%|██████████| 2112/2112 [00:00<00:00, 208236.25it/s]\n"
     ]
    },
    {
     "name": "stdout",
     "output_type": "stream",
     "text": [
      "{'recall@3': 0.049903525294150305, 'recall@5': 0.06522885652857245, 'recall@10': 0.09949520349677352, 'recall@all': 0.09949520349677352}\n"
     ]
    },
    {
     "name": "stderr",
     "output_type": "stream",
     "text": [
      "100%|██████████| 2112/2112 [00:01<00:00, 1940.69it/s]\n",
      "100%|██████████| 2112/2112 [00:00<00:00, 198805.38it/s]\n"
     ]
    },
    {
     "name": "stdout",
     "output_type": "stream",
     "text": [
      "{'recall@3': 0.04978515408202909, 'recall@5': 0.06511048531645124, 'recall@10': 0.09949520349677352, 'recall@all': 0.09949520349677352}\n"
     ]
    },
    {
     "name": "stderr",
     "output_type": "stream",
     "text": [
      "100%|██████████| 2112/2112 [00:01<00:00, 1934.81it/s]\n",
      "100%|██████████| 2112/2112 [00:00<00:00, 206181.22it/s]\n"
     ]
    },
    {
     "name": "stdout",
     "output_type": "stream",
     "text": [
      "{'recall@3': 0.049903525294150305, 'recall@5': 0.06522885652857245, 'recall@10': 0.099542551981622, 'recall@all': 0.099542551981622}\n"
     ]
    },
    {
     "name": "stderr",
     "output_type": "stream",
     "text": [
      "100%|██████████| 2112/2112 [00:01<00:00, 1951.66it/s]\n",
      "100%|██████████| 2112/2112 [00:00<00:00, 214873.38it/s]\n"
     ]
    },
    {
     "name": "stdout",
     "output_type": "stream",
     "text": [
      "{'recall@3': 0.049903525294150305, 'recall@5': 0.06428188683160274, 'recall@10': 0.09881315984597985, 'recall@all': 0.09881315984597985}\n"
     ]
    },
    {
     "ename": "KeyboardInterrupt",
     "evalue": "",
     "output_type": "error",
     "traceback": [
      "\u001b[0;31m\u001b[0m",
      "\u001b[0;31mKeyboardInterrupt\u001b[0mTraceback (most recent call last)",
      "\u001b[0;32m<ipython-input-28-b3b760c14cd0>\u001b[0m in \u001b[0;36m<module>\u001b[0;34m\u001b[0m\n\u001b[1;32m      3\u001b[0m \u001b[0;34m\u001b[0m\u001b[0m\n\u001b[1;32m      4\u001b[0m \u001b[0;32mfor\u001b[0m \u001b[0mi\u001b[0m \u001b[0;32min\u001b[0m \u001b[0mrange\u001b[0m\u001b[0;34m(\u001b[0m\u001b[0;36m100\u001b[0m\u001b[0;34m)\u001b[0m\u001b[0;34m:\u001b[0m\u001b[0;34m\u001b[0m\u001b[0;34m\u001b[0m\u001b[0m\n\u001b[0;32m----> 5\u001b[0;31m     \u001b[0mr\u001b[0m \u001b[0;34m=\u001b[0m \u001b[0mbacktest\u001b[0m\u001b[0;34m(\u001b[0m\u001b[0muser_data\u001b[0m\u001b[0;34m,\u001b[0m \u001b[0mx_embedded\u001b[0m\u001b[0;34m,\u001b[0m \u001b[0mtrans_buy_train\u001b[0m\u001b[0;34m,\u001b[0m \u001b[0mcluster_method\u001b[0m\u001b[0;34m=\u001b[0m\u001b[0;34m\"dbscan\"\u001b[0m\u001b[0;34m,\u001b[0m \u001b[0meps\u001b[0m\u001b[0;34m=\u001b[0m\u001b[0;36m6.5\u001b[0m\u001b[0;34m,\u001b[0m \u001b[0mmin_samples\u001b[0m\u001b[0;34m=\u001b[0m\u001b[0;36m100\u001b[0m\u001b[0;34m*\u001b[0m\u001b[0;34m(\u001b[0m\u001b[0mi\u001b[0m\u001b[0;34m+\u001b[0m\u001b[0;36m1\u001b[0m\u001b[0;34m)\u001b[0m\u001b[0;34m)\u001b[0m\u001b[0;34m\u001b[0m\u001b[0;34m\u001b[0m\u001b[0m\n\u001b[0m\u001b[1;32m      6\u001b[0m     \u001b[0;32mif\u001b[0m \u001b[0mr\u001b[0m\u001b[0;34m[\u001b[0m\u001b[0;34m'recall@all'\u001b[0m\u001b[0;34m]\u001b[0m \u001b[0;34m>\u001b[0m \u001b[0mmx\u001b[0m\u001b[0;34m:\u001b[0m\u001b[0;34m\u001b[0m\u001b[0;34m\u001b[0m\u001b[0m\n\u001b[1;32m      7\u001b[0m         \u001b[0mmx\u001b[0m \u001b[0;34m=\u001b[0m \u001b[0mr\u001b[0m\u001b[0;34m[\u001b[0m\u001b[0;34m'recall@all'\u001b[0m\u001b[0;34m]\u001b[0m\u001b[0;34m\u001b[0m\u001b[0;34m\u001b[0m\u001b[0m\n",
      "\u001b[0;32m<ipython-input-23-9314a6367451>\u001b[0m in \u001b[0;36mbacktest\u001b[0;34m(user_data, x_embedded, trans_buy_train, cluster_method, n_clusters, eps, min_samples)\u001b[0m\n\u001b[1;32m     65\u001b[0m \u001b[0;34m\u001b[0m\u001b[0m\n\u001b[1;32m     66\u001b[0m \u001b[0;32mdef\u001b[0m \u001b[0mbacktest\u001b[0m\u001b[0;34m(\u001b[0m\u001b[0muser_data\u001b[0m\u001b[0;34m,\u001b[0m \u001b[0mx_embedded\u001b[0m\u001b[0;34m,\u001b[0m \u001b[0mtrans_buy_train\u001b[0m\u001b[0;34m,\u001b[0m \u001b[0mcluster_method\u001b[0m\u001b[0;34m=\u001b[0m\u001b[0;34m\"dbscan\"\u001b[0m\u001b[0;34m,\u001b[0m \u001b[0mn_clusters\u001b[0m\u001b[0;34m=\u001b[0m\u001b[0;36m50\u001b[0m\u001b[0;34m,\u001b[0m \u001b[0meps\u001b[0m\u001b[0;34m=\u001b[0m\u001b[0;36m0.5\u001b[0m\u001b[0;34m,\u001b[0m \u001b[0mmin_samples\u001b[0m\u001b[0;34m=\u001b[0m\u001b[0;36m5\u001b[0m\u001b[0;34m)\u001b[0m\u001b[0;34m:\u001b[0m\u001b[0;34m\u001b[0m\u001b[0;34m\u001b[0m\u001b[0m\n\u001b[0;32m---> 67\u001b[0;31m     \u001b[0mc_user_data\u001b[0m \u001b[0;34m=\u001b[0m \u001b[0mclustering\u001b[0m\u001b[0;34m(\u001b[0m\u001b[0muser_data\u001b[0m\u001b[0;34m,\u001b[0m \u001b[0mx_embedded\u001b[0m\u001b[0;34m,\u001b[0m \u001b[0mcluster_method\u001b[0m\u001b[0;34m,\u001b[0m \u001b[0mn_clusters\u001b[0m\u001b[0;34m,\u001b[0m \u001b[0meps\u001b[0m\u001b[0;34m,\u001b[0m \u001b[0mmin_samples\u001b[0m\u001b[0;34m)\u001b[0m\u001b[0;34m\u001b[0m\u001b[0;34m\u001b[0m\u001b[0m\n\u001b[0m\u001b[1;32m     68\u001b[0m     \u001b[0mcluster_top10\u001b[0m \u001b[0;34m=\u001b[0m \u001b[0mrecommender_method\u001b[0m\u001b[0;34m(\u001b[0m\u001b[0mtrans_buy_train\u001b[0m\u001b[0;34m,\u001b[0m \u001b[0mc_user_data\u001b[0m\u001b[0;34m)\u001b[0m\u001b[0;34m\u001b[0m\u001b[0;34m\u001b[0m\u001b[0m\n\u001b[1;32m     69\u001b[0m \u001b[0;34m\u001b[0m\u001b[0m\n",
      "\u001b[0;32m<ipython-input-23-9314a6367451>\u001b[0m in \u001b[0;36mclustering\u001b[0;34m(user_data, x_embedded, method, n_clusters, eps, min_samples)\u001b[0m\n\u001b[1;32m     46\u001b[0m             \u001b[0meps\u001b[0m\u001b[0;34m=\u001b[0m\u001b[0meps\u001b[0m\u001b[0;34m,\u001b[0m\u001b[0;34m\u001b[0m\u001b[0;34m\u001b[0m\u001b[0m\n\u001b[1;32m     47\u001b[0m             \u001b[0mmin_samples\u001b[0m\u001b[0;34m=\u001b[0m\u001b[0mmin_samples\u001b[0m\u001b[0;34m\u001b[0m\u001b[0;34m\u001b[0m\u001b[0m\n\u001b[0;32m---> 48\u001b[0;31m         ).fit(x_embedded)         \n\u001b[0m\u001b[1;32m     49\u001b[0m         \u001b[0muser_data\u001b[0m\u001b[0;34m[\u001b[0m\u001b[0;34m'cluster'\u001b[0m\u001b[0;34m]\u001b[0m \u001b[0;34m=\u001b[0m \u001b[0mdbscan\u001b[0m\u001b[0;34m.\u001b[0m\u001b[0mlabels_\u001b[0m\u001b[0;34m\u001b[0m\u001b[0;34m\u001b[0m\u001b[0m\n\u001b[1;32m     50\u001b[0m \u001b[0;34m\u001b[0m\u001b[0m\n",
      "\u001b[0;32m/usr/local/lib/python3.6/dist-packages/sklearn/cluster/_dbscan.py\u001b[0m in \u001b[0;36mfit\u001b[0;34m(self, X, y, sample_weight)\u001b[0m\n\u001b[1;32m    335\u001b[0m         \u001b[0;31m# This has worst case O(n^2) memory complexity\u001b[0m\u001b[0;34m\u001b[0m\u001b[0;34m\u001b[0m\u001b[0;34m\u001b[0m\u001b[0m\n\u001b[1;32m    336\u001b[0m         neighborhoods = neighbors_model.radius_neighbors(X,\n\u001b[0;32m--> 337\u001b[0;31m                                                          return_distance=False)\n\u001b[0m\u001b[1;32m    338\u001b[0m \u001b[0;34m\u001b[0m\u001b[0m\n\u001b[1;32m    339\u001b[0m         \u001b[0;32mif\u001b[0m \u001b[0msample_weight\u001b[0m \u001b[0;32mis\u001b[0m \u001b[0;32mNone\u001b[0m\u001b[0;34m:\u001b[0m\u001b[0;34m\u001b[0m\u001b[0;34m\u001b[0m\u001b[0m\n",
      "\u001b[0;32m/usr/local/lib/python3.6/dist-packages/sklearn/neighbors/_base.py\u001b[0m in \u001b[0;36mradius_neighbors\u001b[0;34m(self, X, radius, return_distance, sort_results)\u001b[0m\n\u001b[1;32m    970\u001b[0m                               sort_results=sort_results)\n\u001b[1;32m    971\u001b[0m \u001b[0;34m\u001b[0m\u001b[0m\n\u001b[0;32m--> 972\u001b[0;31m                 \u001b[0;32mfor\u001b[0m \u001b[0ms\u001b[0m \u001b[0;32min\u001b[0m \u001b[0mgen_even_slices\u001b[0m\u001b[0;34m(\u001b[0m\u001b[0mX\u001b[0m\u001b[0;34m.\u001b[0m\u001b[0mshape\u001b[0m\u001b[0;34m[\u001b[0m\u001b[0;36m0\u001b[0m\u001b[0;34m]\u001b[0m\u001b[0;34m,\u001b[0m \u001b[0mn_jobs\u001b[0m\u001b[0;34m)\u001b[0m\u001b[0;34m\u001b[0m\u001b[0;34m\u001b[0m\u001b[0m\n\u001b[0m\u001b[1;32m    973\u001b[0m             )\n\u001b[1;32m    974\u001b[0m             \u001b[0;32mif\u001b[0m \u001b[0mreturn_distance\u001b[0m\u001b[0;34m:\u001b[0m\u001b[0;34m\u001b[0m\u001b[0;34m\u001b[0m\u001b[0m\n",
      "\u001b[0;32m/usr/local/lib/python3.6/dist-packages/joblib/parallel.py\u001b[0m in \u001b[0;36m__call__\u001b[0;34m(self, iterable)\u001b[0m\n\u001b[1;32m   1002\u001b[0m             \u001b[0;31m# remaining jobs.\u001b[0m\u001b[0;34m\u001b[0m\u001b[0;34m\u001b[0m\u001b[0;34m\u001b[0m\u001b[0m\n\u001b[1;32m   1003\u001b[0m             \u001b[0mself\u001b[0m\u001b[0;34m.\u001b[0m\u001b[0m_iterating\u001b[0m \u001b[0;34m=\u001b[0m \u001b[0;32mFalse\u001b[0m\u001b[0;34m\u001b[0m\u001b[0;34m\u001b[0m\u001b[0m\n\u001b[0;32m-> 1004\u001b[0;31m             \u001b[0;32mif\u001b[0m \u001b[0mself\u001b[0m\u001b[0;34m.\u001b[0m\u001b[0mdispatch_one_batch\u001b[0m\u001b[0;34m(\u001b[0m\u001b[0miterator\u001b[0m\u001b[0;34m)\u001b[0m\u001b[0;34m:\u001b[0m\u001b[0;34m\u001b[0m\u001b[0;34m\u001b[0m\u001b[0m\n\u001b[0m\u001b[1;32m   1005\u001b[0m                 \u001b[0mself\u001b[0m\u001b[0;34m.\u001b[0m\u001b[0m_iterating\u001b[0m \u001b[0;34m=\u001b[0m \u001b[0mself\u001b[0m\u001b[0;34m.\u001b[0m\u001b[0m_original_iterator\u001b[0m \u001b[0;32mis\u001b[0m \u001b[0;32mnot\u001b[0m \u001b[0;32mNone\u001b[0m\u001b[0;34m\u001b[0m\u001b[0;34m\u001b[0m\u001b[0m\n\u001b[1;32m   1006\u001b[0m \u001b[0;34m\u001b[0m\u001b[0m\n",
      "\u001b[0;32m/usr/local/lib/python3.6/dist-packages/joblib/parallel.py\u001b[0m in \u001b[0;36mdispatch_one_batch\u001b[0;34m(self, iterator)\u001b[0m\n\u001b[1;32m    833\u001b[0m                 \u001b[0;32mreturn\u001b[0m \u001b[0;32mFalse\u001b[0m\u001b[0;34m\u001b[0m\u001b[0;34m\u001b[0m\u001b[0m\n\u001b[1;32m    834\u001b[0m             \u001b[0;32melse\u001b[0m\u001b[0;34m:\u001b[0m\u001b[0;34m\u001b[0m\u001b[0;34m\u001b[0m\u001b[0m\n\u001b[0;32m--> 835\u001b[0;31m                 \u001b[0mself\u001b[0m\u001b[0;34m.\u001b[0m\u001b[0m_dispatch\u001b[0m\u001b[0;34m(\u001b[0m\u001b[0mtasks\u001b[0m\u001b[0;34m)\u001b[0m\u001b[0;34m\u001b[0m\u001b[0;34m\u001b[0m\u001b[0m\n\u001b[0m\u001b[1;32m    836\u001b[0m                 \u001b[0;32mreturn\u001b[0m \u001b[0;32mTrue\u001b[0m\u001b[0;34m\u001b[0m\u001b[0;34m\u001b[0m\u001b[0m\n\u001b[1;32m    837\u001b[0m \u001b[0;34m\u001b[0m\u001b[0m\n",
      "\u001b[0;32m/usr/local/lib/python3.6/dist-packages/joblib/parallel.py\u001b[0m in \u001b[0;36m_dispatch\u001b[0;34m(self, batch)\u001b[0m\n\u001b[1;32m    752\u001b[0m         \u001b[0;32mwith\u001b[0m \u001b[0mself\u001b[0m\u001b[0;34m.\u001b[0m\u001b[0m_lock\u001b[0m\u001b[0;34m:\u001b[0m\u001b[0;34m\u001b[0m\u001b[0;34m\u001b[0m\u001b[0m\n\u001b[1;32m    753\u001b[0m             \u001b[0mjob_idx\u001b[0m \u001b[0;34m=\u001b[0m \u001b[0mlen\u001b[0m\u001b[0;34m(\u001b[0m\u001b[0mself\u001b[0m\u001b[0;34m.\u001b[0m\u001b[0m_jobs\u001b[0m\u001b[0;34m)\u001b[0m\u001b[0;34m\u001b[0m\u001b[0;34m\u001b[0m\u001b[0m\n\u001b[0;32m--> 754\u001b[0;31m             \u001b[0mjob\u001b[0m \u001b[0;34m=\u001b[0m \u001b[0mself\u001b[0m\u001b[0;34m.\u001b[0m\u001b[0m_backend\u001b[0m\u001b[0;34m.\u001b[0m\u001b[0mapply_async\u001b[0m\u001b[0;34m(\u001b[0m\u001b[0mbatch\u001b[0m\u001b[0;34m,\u001b[0m \u001b[0mcallback\u001b[0m\u001b[0;34m=\u001b[0m\u001b[0mcb\u001b[0m\u001b[0;34m)\u001b[0m\u001b[0;34m\u001b[0m\u001b[0;34m\u001b[0m\u001b[0m\n\u001b[0m\u001b[1;32m    755\u001b[0m             \u001b[0;31m# A job can complete so quickly than its callback is\u001b[0m\u001b[0;34m\u001b[0m\u001b[0;34m\u001b[0m\u001b[0;34m\u001b[0m\u001b[0m\n\u001b[1;32m    756\u001b[0m             \u001b[0;31m# called before we get here, causing self._jobs to\u001b[0m\u001b[0;34m\u001b[0m\u001b[0;34m\u001b[0m\u001b[0;34m\u001b[0m\u001b[0m\n",
      "\u001b[0;32m/usr/local/lib/python3.6/dist-packages/joblib/_parallel_backends.py\u001b[0m in \u001b[0;36mapply_async\u001b[0;34m(self, func, callback)\u001b[0m\n\u001b[1;32m    207\u001b[0m     \u001b[0;32mdef\u001b[0m \u001b[0mapply_async\u001b[0m\u001b[0;34m(\u001b[0m\u001b[0mself\u001b[0m\u001b[0;34m,\u001b[0m \u001b[0mfunc\u001b[0m\u001b[0;34m,\u001b[0m \u001b[0mcallback\u001b[0m\u001b[0;34m=\u001b[0m\u001b[0;32mNone\u001b[0m\u001b[0;34m)\u001b[0m\u001b[0;34m:\u001b[0m\u001b[0;34m\u001b[0m\u001b[0;34m\u001b[0m\u001b[0m\n\u001b[1;32m    208\u001b[0m         \u001b[0;34m\"\"\"Schedule a func to be run\"\"\"\u001b[0m\u001b[0;34m\u001b[0m\u001b[0;34m\u001b[0m\u001b[0m\n\u001b[0;32m--> 209\u001b[0;31m         \u001b[0mresult\u001b[0m \u001b[0;34m=\u001b[0m \u001b[0mImmediateResult\u001b[0m\u001b[0;34m(\u001b[0m\u001b[0mfunc\u001b[0m\u001b[0;34m)\u001b[0m\u001b[0;34m\u001b[0m\u001b[0;34m\u001b[0m\u001b[0m\n\u001b[0m\u001b[1;32m    210\u001b[0m         \u001b[0;32mif\u001b[0m \u001b[0mcallback\u001b[0m\u001b[0;34m:\u001b[0m\u001b[0;34m\u001b[0m\u001b[0;34m\u001b[0m\u001b[0m\n\u001b[1;32m    211\u001b[0m             \u001b[0mcallback\u001b[0m\u001b[0;34m(\u001b[0m\u001b[0mresult\u001b[0m\u001b[0;34m)\u001b[0m\u001b[0;34m\u001b[0m\u001b[0;34m\u001b[0m\u001b[0m\n",
      "\u001b[0;32m/usr/local/lib/python3.6/dist-packages/joblib/_parallel_backends.py\u001b[0m in \u001b[0;36m__init__\u001b[0;34m(self, batch)\u001b[0m\n\u001b[1;32m    588\u001b[0m         \u001b[0;31m# Don't delay the application, to avoid keeping the input\u001b[0m\u001b[0;34m\u001b[0m\u001b[0;34m\u001b[0m\u001b[0;34m\u001b[0m\u001b[0m\n\u001b[1;32m    589\u001b[0m         \u001b[0;31m# arguments in memory\u001b[0m\u001b[0;34m\u001b[0m\u001b[0;34m\u001b[0m\u001b[0;34m\u001b[0m\u001b[0m\n\u001b[0;32m--> 590\u001b[0;31m         \u001b[0mself\u001b[0m\u001b[0;34m.\u001b[0m\u001b[0mresults\u001b[0m \u001b[0;34m=\u001b[0m \u001b[0mbatch\u001b[0m\u001b[0;34m(\u001b[0m\u001b[0;34m)\u001b[0m\u001b[0;34m\u001b[0m\u001b[0;34m\u001b[0m\u001b[0m\n\u001b[0m\u001b[1;32m    591\u001b[0m \u001b[0;34m\u001b[0m\u001b[0m\n\u001b[1;32m    592\u001b[0m     \u001b[0;32mdef\u001b[0m \u001b[0mget\u001b[0m\u001b[0;34m(\u001b[0m\u001b[0mself\u001b[0m\u001b[0;34m)\u001b[0m\u001b[0;34m:\u001b[0m\u001b[0;34m\u001b[0m\u001b[0;34m\u001b[0m\u001b[0m\n",
      "\u001b[0;32m/usr/local/lib/python3.6/dist-packages/joblib/parallel.py\u001b[0m in \u001b[0;36m__call__\u001b[0;34m(self)\u001b[0m\n\u001b[1;32m    254\u001b[0m         \u001b[0;32mwith\u001b[0m \u001b[0mparallel_backend\u001b[0m\u001b[0;34m(\u001b[0m\u001b[0mself\u001b[0m\u001b[0;34m.\u001b[0m\u001b[0m_backend\u001b[0m\u001b[0;34m,\u001b[0m \u001b[0mn_jobs\u001b[0m\u001b[0;34m=\u001b[0m\u001b[0mself\u001b[0m\u001b[0;34m.\u001b[0m\u001b[0m_n_jobs\u001b[0m\u001b[0;34m)\u001b[0m\u001b[0;34m:\u001b[0m\u001b[0;34m\u001b[0m\u001b[0;34m\u001b[0m\u001b[0m\n\u001b[1;32m    255\u001b[0m             return [func(*args, **kwargs)\n\u001b[0;32m--> 256\u001b[0;31m                     for func, args, kwargs in self.items]\n\u001b[0m\u001b[1;32m    257\u001b[0m \u001b[0;34m\u001b[0m\u001b[0m\n\u001b[1;32m    258\u001b[0m     \u001b[0;32mdef\u001b[0m \u001b[0m__len__\u001b[0m\u001b[0;34m(\u001b[0m\u001b[0mself\u001b[0m\u001b[0;34m)\u001b[0m\u001b[0;34m:\u001b[0m\u001b[0;34m\u001b[0m\u001b[0;34m\u001b[0m\u001b[0m\n",
      "\u001b[0;32m/usr/local/lib/python3.6/dist-packages/joblib/parallel.py\u001b[0m in \u001b[0;36m<listcomp>\u001b[0;34m(.0)\u001b[0m\n\u001b[1;32m    254\u001b[0m         \u001b[0;32mwith\u001b[0m \u001b[0mparallel_backend\u001b[0m\u001b[0;34m(\u001b[0m\u001b[0mself\u001b[0m\u001b[0;34m.\u001b[0m\u001b[0m_backend\u001b[0m\u001b[0;34m,\u001b[0m \u001b[0mn_jobs\u001b[0m\u001b[0;34m=\u001b[0m\u001b[0mself\u001b[0m\u001b[0;34m.\u001b[0m\u001b[0m_n_jobs\u001b[0m\u001b[0;34m)\u001b[0m\u001b[0;34m:\u001b[0m\u001b[0;34m\u001b[0m\u001b[0;34m\u001b[0m\u001b[0m\n\u001b[1;32m    255\u001b[0m             return [func(*args, **kwargs)\n\u001b[0;32m--> 256\u001b[0;31m                     for func, args, kwargs in self.items]\n\u001b[0m\u001b[1;32m    257\u001b[0m \u001b[0;34m\u001b[0m\u001b[0m\n\u001b[1;32m    258\u001b[0m     \u001b[0;32mdef\u001b[0m \u001b[0m__len__\u001b[0m\u001b[0;34m(\u001b[0m\u001b[0mself\u001b[0m\u001b[0;34m)\u001b[0m\u001b[0;34m:\u001b[0m\u001b[0;34m\u001b[0m\u001b[0;34m\u001b[0m\u001b[0m\n",
      "\u001b[0;32m/usr/local/lib/python3.6/dist-packages/sklearn/neighbors/_base.py\u001b[0m in \u001b[0;36m_tree_query_radius_parallel_helper\u001b[0;34m(tree, *args, **kwargs)\u001b[0m\n\u001b[1;32m    788\u001b[0m     \u001b[0mcloudpickle\u001b[0m \u001b[0munder\u001b[0m \u001b[0mPyPy\u001b[0m\u001b[0;34m.\u001b[0m\u001b[0;34m\u001b[0m\u001b[0;34m\u001b[0m\u001b[0m\n\u001b[1;32m    789\u001b[0m     \"\"\"\n\u001b[0;32m--> 790\u001b[0;31m     \u001b[0;32mreturn\u001b[0m \u001b[0mtree\u001b[0m\u001b[0;34m.\u001b[0m\u001b[0mquery_radius\u001b[0m\u001b[0;34m(\u001b[0m\u001b[0;34m*\u001b[0m\u001b[0margs\u001b[0m\u001b[0;34m,\u001b[0m \u001b[0;34m**\u001b[0m\u001b[0mkwargs\u001b[0m\u001b[0;34m)\u001b[0m\u001b[0;34m\u001b[0m\u001b[0;34m\u001b[0m\u001b[0m\n\u001b[0m\u001b[1;32m    791\u001b[0m \u001b[0;34m\u001b[0m\u001b[0m\n\u001b[1;32m    792\u001b[0m \u001b[0;34m\u001b[0m\u001b[0m\n",
      "\u001b[0;31mKeyboardInterrupt\u001b[0m: "
     ]
    }
   ],
   "source": [
    "# find best min_samples for dbscan\n",
    "mx = 0\n",
    "mx_min_samples = 0\n",
    "\n",
    "for i in range(10):\n",
    "    r = backtest(user_data, x_embedded, trans_buy_train, cluster_method=\"dbscan\", eps=6.5, min_samples=100*(i+1))\n",
    "    if r['recall@all'] > mx:\n",
    "        mx = r['recall@all']\n",
    "        mx_min_samples = 100*(i+1)"
   ]
  },
  {
   "cell_type": "code",
   "execution_count": 18,
   "metadata": {},
   "outputs": [
    {
     "name": "stderr",
     "output_type": "stream",
     "text": [
      "100%|██████████| 2112/2112 [00:01<00:00, 1948.10it/s]\n",
      "100%|██████████| 2112/2112 [00:00<00:00, 197572.71it/s]"
     ]
    },
    {
     "name": "stdout",
     "output_type": "stream",
     "text": [
      "{'recall@3': 0.04283867174492175, 'recall@5': 0.059520733632949546, 'recall@10': 0.09025285441067442, 'recall@all': 0.09025285441067442}\n"
     ]
    },
    {
     "name": "stderr",
     "output_type": "stream",
     "text": [
      "\n"
     ]
    }
   ],
   "source": [
    "backtest(user_data, x_embedded, trans_buy_train, cluster_method=\"dbscan\", eps=1, min_samples=5)"
   ]
  },
  {
   "cell_type": "code",
   "execution_count": 17,
   "metadata": {},
   "outputs": [
    {
     "name": "stderr",
     "output_type": "stream",
     "text": [
      "100%|██████████| 2112/2112 [00:01<00:00, 1942.12it/s]\n",
      "100%|██████████| 2112/2112 [00:00<00:00, 194139.04it/s]"
     ]
    },
    {
     "name": "stdout",
     "output_type": "stream",
     "text": [
      "{'recall@3': 0.042759757603507614, 'recall@5': 0.057968755518471436, 'recall@10': 0.08915932987964989, 'recall@all': 0.08915932987964989}\n"
     ]
    },
    {
     "name": "stderr",
     "output_type": "stream",
     "text": [
      "\n"
     ]
    }
   ],
   "source": [
    "backtest(user_data, x_embedded, trans_buy_train, cluster_method=\"dbscan\", eps=0.5, min_samples=5)\n"
   ]
  },
  {
   "cell_type": "code",
   "execution_count": 12,
   "metadata": {},
   "outputs": [
    {
     "name": "stderr",
     "output_type": "stream",
     "text": [
      "100%|██████████| 2112/2112 [00:01<00:00, 1934.50it/s]\n",
      "100%|██████████| 2112/2112 [00:00<00:00, 202033.71it/s]"
     ]
    },
    {
     "name": "stdout",
     "output_type": "stream",
     "text": [
      "{'recall@3': 0.05260426783864283, 'recall@5': 0.06474051122488622, 'recall@10': 0.09673095385752385, 'recall@all': 0.09673095385752385}\n"
     ]
    },
    {
     "name": "stderr",
     "output_type": "stream",
     "text": [
      "\n"
     ]
    }
   ],
   "source": [
    "backtest(user_data, x_embedded, trans_buy_train, cluster_method=\"birch\")"
   ]
  },
  {
   "cell_type": "code",
   "execution_count": 25,
   "metadata": {},
   "outputs": [
    {
     "ename": "ModuleNotFoundError",
     "evalue": "No module named 'sklearn.externals.joblib'",
     "output_type": "error",
     "traceback": [
      "\u001b[0;31m\u001b[0m",
      "\u001b[0;31mModuleNotFoundError\u001b[0mTraceback (most recent call last)",
      "\u001b[0;32m<ipython-input-25-3f5a460d7435>\u001b[0m in \u001b[0;36m<module>\u001b[0;34m\u001b[0m\n\u001b[0;32m----> 1\u001b[0;31m \u001b[0;32mimport\u001b[0m \u001b[0mhdbscan\u001b[0m\u001b[0;34m\u001b[0m\u001b[0;34m\u001b[0m\u001b[0m\n\u001b[0m",
      "\u001b[0;32m/usr/local/lib/python3.6/dist-packages/hdbscan/__init__.py\u001b[0m in \u001b[0;36m<module>\u001b[0;34m\u001b[0m\n\u001b[0;32m----> 1\u001b[0;31m \u001b[0;32mfrom\u001b[0m \u001b[0;34m.\u001b[0m\u001b[0mhdbscan_\u001b[0m \u001b[0;32mimport\u001b[0m \u001b[0mHDBSCAN\u001b[0m\u001b[0;34m,\u001b[0m \u001b[0mhdbscan\u001b[0m\u001b[0;34m\u001b[0m\u001b[0;34m\u001b[0m\u001b[0m\n\u001b[0m\u001b[1;32m      2\u001b[0m \u001b[0;32mfrom\u001b[0m \u001b[0;34m.\u001b[0m\u001b[0mrobust_single_linkage_\u001b[0m \u001b[0;32mimport\u001b[0m \u001b[0mRobustSingleLinkage\u001b[0m\u001b[0;34m,\u001b[0m \u001b[0mrobust_single_linkage\u001b[0m\u001b[0;34m\u001b[0m\u001b[0;34m\u001b[0m\u001b[0m\n\u001b[1;32m      3\u001b[0m \u001b[0;32mfrom\u001b[0m \u001b[0;34m.\u001b[0m\u001b[0mvalidity\u001b[0m \u001b[0;32mimport\u001b[0m \u001b[0mvalidity_index\u001b[0m\u001b[0;34m\u001b[0m\u001b[0;34m\u001b[0m\u001b[0m\n\u001b[1;32m      4\u001b[0m \u001b[0;32mfrom\u001b[0m \u001b[0;34m.\u001b[0m\u001b[0mprediction\u001b[0m \u001b[0;32mimport\u001b[0m \u001b[0mapproximate_predict\u001b[0m\u001b[0;34m,\u001b[0m \u001b[0mmembership_vector\u001b[0m\u001b[0;34m,\u001b[0m \u001b[0mall_points_membership_vectors\u001b[0m\u001b[0;34m\u001b[0m\u001b[0;34m\u001b[0m\u001b[0m\n\u001b[1;32m      5\u001b[0m \u001b[0;34m\u001b[0m\u001b[0m\n",
      "\u001b[0;32m/usr/local/lib/python3.6/dist-packages/hdbscan/hdbscan_.py\u001b[0m in \u001b[0;36m<module>\u001b[0;34m\u001b[0m\n\u001b[1;32m     11\u001b[0m \u001b[0;32mfrom\u001b[0m \u001b[0mscipy\u001b[0m\u001b[0;34m.\u001b[0m\u001b[0msparse\u001b[0m \u001b[0;32mimport\u001b[0m \u001b[0missparse\u001b[0m\u001b[0;34m\u001b[0m\u001b[0;34m\u001b[0m\u001b[0m\n\u001b[1;32m     12\u001b[0m \u001b[0;32mfrom\u001b[0m \u001b[0msklearn\u001b[0m\u001b[0;34m.\u001b[0m\u001b[0mneighbors\u001b[0m \u001b[0;32mimport\u001b[0m \u001b[0mKDTree\u001b[0m\u001b[0;34m,\u001b[0m \u001b[0mBallTree\u001b[0m\u001b[0;34m\u001b[0m\u001b[0;34m\u001b[0m\u001b[0m\n\u001b[0;32m---> 13\u001b[0;31m \u001b[0;32mfrom\u001b[0m \u001b[0msklearn\u001b[0m\u001b[0;34m.\u001b[0m\u001b[0mexternals\u001b[0m\u001b[0;34m.\u001b[0m\u001b[0mjoblib\u001b[0m \u001b[0;32mimport\u001b[0m \u001b[0mMemory\u001b[0m\u001b[0;34m\u001b[0m\u001b[0;34m\u001b[0m\u001b[0m\n\u001b[0m\u001b[1;32m     14\u001b[0m \u001b[0;32mfrom\u001b[0m \u001b[0msklearn\u001b[0m\u001b[0;34m.\u001b[0m\u001b[0mexternals\u001b[0m \u001b[0;32mimport\u001b[0m \u001b[0msix\u001b[0m\u001b[0;34m\u001b[0m\u001b[0;34m\u001b[0m\u001b[0m\n\u001b[1;32m     15\u001b[0m \u001b[0;32mfrom\u001b[0m \u001b[0mwarnings\u001b[0m \u001b[0;32mimport\u001b[0m \u001b[0mwarn\u001b[0m\u001b[0;34m\u001b[0m\u001b[0;34m\u001b[0m\u001b[0m\n",
      "\u001b[0;31mModuleNotFoundError\u001b[0m: No module named 'sklearn.externals.joblib'"
     ]
    }
   ],
   "source": [
    "import hdbscan"
   ]
  },
  {
   "cell_type": "code",
   "execution_count": 1,
   "metadata": {},
   "outputs": [
    {
     "ename": "NameError",
     "evalue": "name 'crm' is not defined",
     "output_type": "error",
     "traceback": [
      "\u001b[0;31m\u001b[0m",
      "\u001b[0;31mNameError\u001b[0mTraceback (most recent call last)",
      "\u001b[0;32m<ipython-input-1-42d8b9e72d99>\u001b[0m in \u001b[0;36m<module>\u001b[0;34m\u001b[0m\n\u001b[1;32m      2\u001b[0m \u001b[0mn_components\u001b[0m\u001b[0;34m=\u001b[0m\u001b[0;36m3\u001b[0m\u001b[0;34m\u001b[0m\u001b[0;34m\u001b[0m\u001b[0m\n\u001b[1;32m      3\u001b[0m \u001b[0;34m\u001b[0m\u001b[0m\n\u001b[0;32m----> 4\u001b[0;31m \u001b[0muser_data\u001b[0m \u001b[0;34m=\u001b[0m \u001b[0mcrm\u001b[0m\u001b[0;34m[\u001b[0m\u001b[0mcrm\u001b[0m\u001b[0;34m.\u001b[0m\u001b[0myyyymm\u001b[0m \u001b[0;34m==\u001b[0m \u001b[0;36m201912\u001b[0m\u001b[0;34m]\u001b[0m\u001b[0;34m\u001b[0m\u001b[0;34m\u001b[0m\u001b[0m\n\u001b[0m\u001b[1;32m      5\u001b[0m \u001b[0mu_data\u001b[0m \u001b[0;34m=\u001b[0m \u001b[0muser_data\u001b[0m\u001b[0;34m.\u001b[0m\u001b[0mdrop\u001b[0m\u001b[0;34m(\u001b[0m\u001b[0mcolumns\u001b[0m\u001b[0;34m=\u001b[0m\u001b[0;34m[\u001b[0m\u001b[0;34m'身分證字號'\u001b[0m\u001b[0;34m,\u001b[0m \u001b[0;34m'CIFAOCODE'\u001b[0m\u001b[0;34m]\u001b[0m\u001b[0;34m)\u001b[0m\u001b[0;34m\u001b[0m\u001b[0;34m\u001b[0m\u001b[0m\n\u001b[1;32m      6\u001b[0m \u001b[0mu_data\u001b[0m \u001b[0;34m=\u001b[0m \u001b[0mu_data\u001b[0m\u001b[0;34m.\u001b[0m\u001b[0mreplace\u001b[0m\u001b[0;34m(\u001b[0m\u001b[0;34m-\u001b[0m\u001b[0mnp\u001b[0m\u001b[0;34m.\u001b[0m\u001b[0minf\u001b[0m\u001b[0;34m,\u001b[0m \u001b[0;34m-\u001b[0m\u001b[0;36m1\u001b[0m\u001b[0;34m)\u001b[0m\u001b[0;34m\u001b[0m\u001b[0;34m\u001b[0m\u001b[0m\n",
      "\u001b[0;31mNameError\u001b[0m: name 'crm' is not defined"
     ]
    }
   ],
   "source": [
    "embedding_method=\"tsne\"\n",
    "n_components=3\n",
    "\n",
    "user_data = crm[crm.yyyymm == 201912]\n",
    "u_data = user_data.drop(columns=['身分證字號', 'CIFAOCODE'])\n",
    "u_data = u_data.replace(-np.inf, -1)\n",
    "u_data.fillna(0, inplace=True)\n",
    "\n",
    "x_embedded = feature_selecter(u_data, embedding_method, n_components)\n",
    "backtest(user_data, x_embedded, trans_buy_train, cluster_method=\"birch\")\n",
    "backtest(user_data, x_embedded, trans_buy_train, cluster_method=\"dbscan\")"
   ]
  },
  {
   "cell_type": "code",
   "execution_count": 49,
   "metadata": {},
   "outputs": [
    {
     "data": {
      "text/plain": [
       "2112"
      ]
     },
     "execution_count": 49,
     "metadata": {},
     "output_type": "execute_result"
    }
   ],
   "source": [
    "len(list(set(target_users) & set(new_user)))"
   ]
  },
  {
   "cell_type": "code",
   "execution_count": 51,
   "metadata": {},
   "outputs": [
    {
     "data": {
      "text/plain": [
       "11056"
      ]
     },
     "execution_count": 51,
     "metadata": {},
     "output_type": "execute_result"
    }
   ],
   "source": [
    "len(new_real)"
   ]
  },
  {
   "cell_type": "code",
   "execution_count": 37,
   "metadata": {},
   "outputs": [
    {
     "name": "stdout",
     "output_type": "stream",
     "text": [
      "[995, 921, 2940, 20, 722, 202, 2732, 2128, 3197, 985]\n"
     ]
    }
   ],
   "source": [
    "print(cluster_top10)"
   ]
  },
  {
   "cell_type": "code",
   "execution_count": 48,
   "metadata": {},
   "outputs": [
    {
     "name": "stdout",
     "output_type": "stream",
     "text": [
      "0.01971914093398498 50 12\n"
     ]
    }
   ],
   "source": [
    "# umap birch 0.01971914093398498 50 12\n",
    "print(mx, mx_ncl, mx_nco)"
   ]
  }
 ],
 "metadata": {
  "kernelspec": {
   "display_name": "Python 3",
   "language": "python",
   "name": "python3"
  },
  "language_info": {
   "codemirror_mode": {
    "name": "ipython",
    "version": 3
   },
   "file_extension": ".py",
   "mimetype": "text/x-python",
   "name": "python",
   "nbconvert_exporter": "python",
   "pygments_lexer": "ipython3",
   "version": "3.6.9"
  }
 },
 "nbformat": 4,
 "nbformat_minor": 4
}
