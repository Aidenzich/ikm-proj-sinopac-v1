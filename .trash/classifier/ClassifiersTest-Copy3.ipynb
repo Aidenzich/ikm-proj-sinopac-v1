{
 "cells": [
  {
   "cell_type": "code",
   "execution_count": 1,
   "metadata": {},
   "outputs": [
    {
     "name": "stderr",
     "output_type": "stream",
     "text": [
      "/usr/local/lib/python3.6/dist-packages/tensorflow/python/framework/dtypes.py:516: FutureWarning: Passing (type, 1) or '1type' as a synonym of type is deprecated; in a future version of numpy, it will be understood as (type, (1,)) / '(1,)type'.\n",
      "  _np_qint8 = np.dtype([(\"qint8\", np.int8, 1)])\n",
      "/usr/local/lib/python3.6/dist-packages/tensorflow/python/framework/dtypes.py:517: FutureWarning: Passing (type, 1) or '1type' as a synonym of type is deprecated; in a future version of numpy, it will be understood as (type, (1,)) / '(1,)type'.\n",
      "  _np_quint8 = np.dtype([(\"quint8\", np.uint8, 1)])\n",
      "/usr/local/lib/python3.6/dist-packages/tensorflow/python/framework/dtypes.py:518: FutureWarning: Passing (type, 1) or '1type' as a synonym of type is deprecated; in a future version of numpy, it will be understood as (type, (1,)) / '(1,)type'.\n",
      "  _np_qint16 = np.dtype([(\"qint16\", np.int16, 1)])\n",
      "/usr/local/lib/python3.6/dist-packages/tensorflow/python/framework/dtypes.py:519: FutureWarning: Passing (type, 1) or '1type' as a synonym of type is deprecated; in a future version of numpy, it will be understood as (type, (1,)) / '(1,)type'.\n",
      "  _np_quint16 = np.dtype([(\"quint16\", np.uint16, 1)])\n",
      "/usr/local/lib/python3.6/dist-packages/tensorflow/python/framework/dtypes.py:520: FutureWarning: Passing (type, 1) or '1type' as a synonym of type is deprecated; in a future version of numpy, it will be understood as (type, (1,)) / '(1,)type'.\n",
      "  _np_qint32 = np.dtype([(\"qint32\", np.int32, 1)])\n",
      "/usr/local/lib/python3.6/dist-packages/tensorflow/python/framework/dtypes.py:525: FutureWarning: Passing (type, 1) or '1type' as a synonym of type is deprecated; in a future version of numpy, it will be understood as (type, (1,)) / '(1,)type'.\n",
      "  np_resource = np.dtype([(\"resource\", np.ubyte, 1)])\n",
      "/usr/local/lib/python3.6/dist-packages/tensorboard/compat/tensorflow_stub/dtypes.py:541: FutureWarning: Passing (type, 1) or '1type' as a synonym of type is deprecated; in a future version of numpy, it will be understood as (type, (1,)) / '(1,)type'.\n",
      "  _np_qint8 = np.dtype([(\"qint8\", np.int8, 1)])\n",
      "/usr/local/lib/python3.6/dist-packages/tensorboard/compat/tensorflow_stub/dtypes.py:542: FutureWarning: Passing (type, 1) or '1type' as a synonym of type is deprecated; in a future version of numpy, it will be understood as (type, (1,)) / '(1,)type'.\n",
      "  _np_quint8 = np.dtype([(\"quint8\", np.uint8, 1)])\n",
      "/usr/local/lib/python3.6/dist-packages/tensorboard/compat/tensorflow_stub/dtypes.py:543: FutureWarning: Passing (type, 1) or '1type' as a synonym of type is deprecated; in a future version of numpy, it will be understood as (type, (1,)) / '(1,)type'.\n",
      "  _np_qint16 = np.dtype([(\"qint16\", np.int16, 1)])\n",
      "/usr/local/lib/python3.6/dist-packages/tensorboard/compat/tensorflow_stub/dtypes.py:544: FutureWarning: Passing (type, 1) or '1type' as a synonym of type is deprecated; in a future version of numpy, it will be understood as (type, (1,)) / '(1,)type'.\n",
      "  _np_quint16 = np.dtype([(\"quint16\", np.uint16, 1)])\n",
      "/usr/local/lib/python3.6/dist-packages/tensorboard/compat/tensorflow_stub/dtypes.py:545: FutureWarning: Passing (type, 1) or '1type' as a synonym of type is deprecated; in a future version of numpy, it will be understood as (type, (1,)) / '(1,)type'.\n",
      "  _np_qint32 = np.dtype([(\"qint32\", np.int32, 1)])\n",
      "/usr/local/lib/python3.6/dist-packages/tensorboard/compat/tensorflow_stub/dtypes.py:550: FutureWarning: Passing (type, 1) or '1type' as a synonym of type is deprecated; in a future version of numpy, it will be understood as (type, (1,)) / '(1,)type'.\n",
      "  np_resource = np.dtype([(\"resource\", np.ubyte, 1)])\n"
     ]
    },
    {
     "name": "stdout",
     "output_type": "stream",
     "text": [
      "3.1.1\n",
      "0.39.0\n"
     ]
    }
   ],
   "source": [
    "import os\n",
    "import sys\n",
    "sys.path.append('../../')\n",
    "import numpy as np\n",
    "import pandas as pd\n",
    "import json\n",
    "from tqdm import tqdm\n",
    "import shap\n",
    "import lightgbm\n",
    "\n",
    "import recs.path as path\n",
    "from recs.clf import Classifier\n",
    "from recs.backtest import get_backtest_answer, model_score_logger\n",
    "from recs.util import readjson2dict, id2cat, save_model, save2json, recall_evaluate\n",
    "from sklearn.model_selection import train_test_split\n",
    "\n",
    "print(lightgbm.__version__)\n",
    "print(shap.__version__)"
   ]
  },
  {
   "cell_type": "code",
   "execution_count": 2,
   "metadata": {},
   "outputs": [],
   "source": [
    "params = {\n",
    "    \"best_sell_n\": 53,\n",
    "    \"n_estimators\":250,\n",
    "    \"max_depth\":3,\n",
    "    \"negative_sampling\":True,\n",
    "    \"train_period\": [201600, 202000],\n",
    "    \"best_sell_period\":[201800 ,202000],\n",
    "    \"predict_period\": [201912, 202007],\n",
    "    \"input_time\": 201912\n",
    "}"
   ]
  },
  {
   "cell_type": "code",
   "execution_count": 3,
   "metadata": {},
   "outputs": [
    {
     "name": "stdout",
     "output_type": "stream",
     "text": [
      "0    621392\n",
      "1    267184\n",
      "Name: y, dtype: int64\n",
      "merge data length: 606357 \n",
      "0    417746\n",
      "1    188611\n",
      "Name: y, dtype: int64\n"
     ]
    },
    {
     "data": {
      "text/html": [
       "<div>\n",
       "<style scoped>\n",
       "    .dataframe tbody tr th:only-of-type {\n",
       "        vertical-align: middle;\n",
       "    }\n",
       "\n",
       "    .dataframe tbody tr th {\n",
       "        vertical-align: top;\n",
       "    }\n",
       "\n",
       "    .dataframe thead th {\n",
       "        text-align: right;\n",
       "    }\n",
       "</style>\n",
       "<table border=\"1\" class=\"dataframe\">\n",
       "  <thead>\n",
       "    <tr style=\"text-align: right;\">\n",
       "      <th></th>\n",
       "      <th>id_number</th>\n",
       "      <th>fund_id</th>\n",
       "      <th>yyyymm</th>\n",
       "      <th>y</th>\n",
       "      <th>local_foreign_total</th>\n",
       "      <th>local_total</th>\n",
       "      <th>local_demand_deposit</th>\n",
       "      <th>local_fixed_deposit</th>\n",
       "      <th>foreign_total</th>\n",
       "      <th>foreign_fixed_deposit</th>\n",
       "      <th>...</th>\n",
       "      <th>currency_4</th>\n",
       "      <th>currency_5</th>\n",
       "      <th>currency_6</th>\n",
       "      <th>currency_7</th>\n",
       "      <th>currency_8</th>\n",
       "      <th>currency_9</th>\n",
       "      <th>currency_10</th>\n",
       "      <th>currency_11</th>\n",
       "      <th>currency_12</th>\n",
       "      <th>currency_13</th>\n",
       "    </tr>\n",
       "  </thead>\n",
       "  <tbody>\n",
       "    <tr>\n",
       "      <th>2</th>\n",
       "      <td>13651</td>\n",
       "      <td>748</td>\n",
       "      <td>201906</td>\n",
       "      <td>1</td>\n",
       "      <td>16.179238</td>\n",
       "      <td>16.069354</td>\n",
       "      <td>16.069354</td>\n",
       "      <td>0.00000</td>\n",
       "      <td>13.916462</td>\n",
       "      <td>0.000000</td>\n",
       "      <td>...</td>\n",
       "      <td>0.0</td>\n",
       "      <td>0.0</td>\n",
       "      <td>0.0</td>\n",
       "      <td>0.0</td>\n",
       "      <td>0.0</td>\n",
       "      <td>0.0</td>\n",
       "      <td>0.0</td>\n",
       "      <td>0.0</td>\n",
       "      <td>1.0</td>\n",
       "      <td>0.0</td>\n",
       "    </tr>\n",
       "    <tr>\n",
       "      <th>5</th>\n",
       "      <td>13651</td>\n",
       "      <td>2053</td>\n",
       "      <td>201708</td>\n",
       "      <td>1</td>\n",
       "      <td>15.772270</td>\n",
       "      <td>15.712601</td>\n",
       "      <td>15.712601</td>\n",
       "      <td>0.00000</td>\n",
       "      <td>12.923644</td>\n",
       "      <td>0.000000</td>\n",
       "      <td>...</td>\n",
       "      <td>0.0</td>\n",
       "      <td>0.0</td>\n",
       "      <td>0.0</td>\n",
       "      <td>0.0</td>\n",
       "      <td>0.0</td>\n",
       "      <td>0.0</td>\n",
       "      <td>0.0</td>\n",
       "      <td>0.0</td>\n",
       "      <td>1.0</td>\n",
       "      <td>0.0</td>\n",
       "    </tr>\n",
       "    <tr>\n",
       "      <th>6</th>\n",
       "      <td>13651</td>\n",
       "      <td>2339</td>\n",
       "      <td>201912</td>\n",
       "      <td>1</td>\n",
       "      <td>15.137757</td>\n",
       "      <td>13.303332</td>\n",
       "      <td>13.303332</td>\n",
       "      <td>0.00000</td>\n",
       "      <td>14.963754</td>\n",
       "      <td>0.000000</td>\n",
       "      <td>...</td>\n",
       "      <td>0.0</td>\n",
       "      <td>0.0</td>\n",
       "      <td>0.0</td>\n",
       "      <td>0.0</td>\n",
       "      <td>0.0</td>\n",
       "      <td>0.0</td>\n",
       "      <td>0.0</td>\n",
       "      <td>0.0</td>\n",
       "      <td>1.0</td>\n",
       "      <td>0.0</td>\n",
       "    </tr>\n",
       "    <tr>\n",
       "      <th>8</th>\n",
       "      <td>13653</td>\n",
       "      <td>2518</td>\n",
       "      <td>201705</td>\n",
       "      <td>1</td>\n",
       "      <td>14.591028</td>\n",
       "      <td>12.056824</td>\n",
       "      <td>12.056824</td>\n",
       "      <td>0.00000</td>\n",
       "      <td>14.508380</td>\n",
       "      <td>12.356740</td>\n",
       "      <td>...</td>\n",
       "      <td>0.0</td>\n",
       "      <td>0.0</td>\n",
       "      <td>0.0</td>\n",
       "      <td>0.0</td>\n",
       "      <td>0.0</td>\n",
       "      <td>0.0</td>\n",
       "      <td>0.0</td>\n",
       "      <td>0.0</td>\n",
       "      <td>1.0</td>\n",
       "      <td>0.0</td>\n",
       "    </tr>\n",
       "    <tr>\n",
       "      <th>9</th>\n",
       "      <td>13654</td>\n",
       "      <td>2091</td>\n",
       "      <td>201602</td>\n",
       "      <td>1</td>\n",
       "      <td>9.755046</td>\n",
       "      <td>9.232395</td>\n",
       "      <td>9.232395</td>\n",
       "      <td>0.00000</td>\n",
       "      <td>8.856234</td>\n",
       "      <td>0.000000</td>\n",
       "      <td>...</td>\n",
       "      <td>0.0</td>\n",
       "      <td>0.0</td>\n",
       "      <td>0.0</td>\n",
       "      <td>0.0</td>\n",
       "      <td>0.0</td>\n",
       "      <td>0.0</td>\n",
       "      <td>0.0</td>\n",
       "      <td>0.0</td>\n",
       "      <td>1.0</td>\n",
       "      <td>0.0</td>\n",
       "    </tr>\n",
       "    <tr>\n",
       "      <th>...</th>\n",
       "      <td>...</td>\n",
       "      <td>...</td>\n",
       "      <td>...</td>\n",
       "      <td>...</td>\n",
       "      <td>...</td>\n",
       "      <td>...</td>\n",
       "      <td>...</td>\n",
       "      <td>...</td>\n",
       "      <td>...</td>\n",
       "      <td>...</td>\n",
       "      <td>...</td>\n",
       "      <td>...</td>\n",
       "      <td>...</td>\n",
       "      <td>...</td>\n",
       "      <td>...</td>\n",
       "      <td>...</td>\n",
       "      <td>...</td>\n",
       "      <td>...</td>\n",
       "      <td>...</td>\n",
       "      <td>...</td>\n",
       "      <td>...</td>\n",
       "    </tr>\n",
       "    <tr>\n",
       "      <th>1074543</th>\n",
       "      <td>67343</td>\n",
       "      <td>3133</td>\n",
       "      <td>201903</td>\n",
       "      <td>0</td>\n",
       "      <td>14.981091</td>\n",
       "      <td>14.782627</td>\n",
       "      <td>11.224203</td>\n",
       "      <td>14.75373</td>\n",
       "      <td>13.266349</td>\n",
       "      <td>13.258908</td>\n",
       "      <td>...</td>\n",
       "      <td>0.0</td>\n",
       "      <td>0.0</td>\n",
       "      <td>0.0</td>\n",
       "      <td>0.0</td>\n",
       "      <td>0.0</td>\n",
       "      <td>0.0</td>\n",
       "      <td>0.0</td>\n",
       "      <td>0.0</td>\n",
       "      <td>1.0</td>\n",
       "      <td>0.0</td>\n",
       "    </tr>\n",
       "    <tr>\n",
       "      <th>1074544</th>\n",
       "      <td>67343</td>\n",
       "      <td>2301</td>\n",
       "      <td>201903</td>\n",
       "      <td>0</td>\n",
       "      <td>14.981091</td>\n",
       "      <td>14.782627</td>\n",
       "      <td>11.224203</td>\n",
       "      <td>14.75373</td>\n",
       "      <td>13.266349</td>\n",
       "      <td>13.258908</td>\n",
       "      <td>...</td>\n",
       "      <td>0.0</td>\n",
       "      <td>0.0</td>\n",
       "      <td>0.0</td>\n",
       "      <td>0.0</td>\n",
       "      <td>0.0</td>\n",
       "      <td>0.0</td>\n",
       "      <td>0.0</td>\n",
       "      <td>0.0</td>\n",
       "      <td>1.0</td>\n",
       "      <td>0.0</td>\n",
       "    </tr>\n",
       "    <tr>\n",
       "      <th>1074545</th>\n",
       "      <td>67343</td>\n",
       "      <td>3184</td>\n",
       "      <td>201903</td>\n",
       "      <td>0</td>\n",
       "      <td>14.981091</td>\n",
       "      <td>14.782627</td>\n",
       "      <td>11.224203</td>\n",
       "      <td>14.75373</td>\n",
       "      <td>13.266349</td>\n",
       "      <td>13.258908</td>\n",
       "      <td>...</td>\n",
       "      <td>0.0</td>\n",
       "      <td>0.0</td>\n",
       "      <td>0.0</td>\n",
       "      <td>0.0</td>\n",
       "      <td>0.0</td>\n",
       "      <td>0.0</td>\n",
       "      <td>0.0</td>\n",
       "      <td>0.0</td>\n",
       "      <td>1.0</td>\n",
       "      <td>0.0</td>\n",
       "    </tr>\n",
       "    <tr>\n",
       "      <th>1074546</th>\n",
       "      <td>67343</td>\n",
       "      <td>3242</td>\n",
       "      <td>201903</td>\n",
       "      <td>0</td>\n",
       "      <td>14.981091</td>\n",
       "      <td>14.782627</td>\n",
       "      <td>11.224203</td>\n",
       "      <td>14.75373</td>\n",
       "      <td>13.266349</td>\n",
       "      <td>13.258908</td>\n",
       "      <td>...</td>\n",
       "      <td>0.0</td>\n",
       "      <td>0.0</td>\n",
       "      <td>0.0</td>\n",
       "      <td>0.0</td>\n",
       "      <td>0.0</td>\n",
       "      <td>0.0</td>\n",
       "      <td>0.0</td>\n",
       "      <td>0.0</td>\n",
       "      <td>1.0</td>\n",
       "      <td>0.0</td>\n",
       "    </tr>\n",
       "    <tr>\n",
       "      <th>1074547</th>\n",
       "      <td>67343</td>\n",
       "      <td>920</td>\n",
       "      <td>201903</td>\n",
       "      <td>0</td>\n",
       "      <td>14.981091</td>\n",
       "      <td>14.782627</td>\n",
       "      <td>11.224203</td>\n",
       "      <td>14.75373</td>\n",
       "      <td>13.266349</td>\n",
       "      <td>13.258908</td>\n",
       "      <td>...</td>\n",
       "      <td>0.0</td>\n",
       "      <td>0.0</td>\n",
       "      <td>0.0</td>\n",
       "      <td>0.0</td>\n",
       "      <td>1.0</td>\n",
       "      <td>0.0</td>\n",
       "      <td>0.0</td>\n",
       "      <td>0.0</td>\n",
       "      <td>0.0</td>\n",
       "      <td>0.0</td>\n",
       "    </tr>\n",
       "  </tbody>\n",
       "</table>\n",
       "<p>606357 rows × 97 columns</p>\n",
       "</div>"
      ],
      "text/plain": [
       "         id_number  fund_id  yyyymm  y  local_foreign_total  local_total  \\\n",
       "2            13651      748  201906  1            16.179238    16.069354   \n",
       "5            13651     2053  201708  1            15.772270    15.712601   \n",
       "6            13651     2339  201912  1            15.137757    13.303332   \n",
       "8            13653     2518  201705  1            14.591028    12.056824   \n",
       "9            13654     2091  201602  1             9.755046     9.232395   \n",
       "...            ...      ...     ... ..                  ...          ...   \n",
       "1074543      67343     3133  201903  0            14.981091    14.782627   \n",
       "1074544      67343     2301  201903  0            14.981091    14.782627   \n",
       "1074545      67343     3184  201903  0            14.981091    14.782627   \n",
       "1074546      67343     3242  201903  0            14.981091    14.782627   \n",
       "1074547      67343      920  201903  0            14.981091    14.782627   \n",
       "\n",
       "         local_demand_deposit  local_fixed_deposit  foreign_total  \\\n",
       "2                   16.069354              0.00000      13.916462   \n",
       "5                   15.712601              0.00000      12.923644   \n",
       "6                   13.303332              0.00000      14.963754   \n",
       "8                   12.056824              0.00000      14.508380   \n",
       "9                    9.232395              0.00000       8.856234   \n",
       "...                       ...                  ...            ...   \n",
       "1074543             11.224203             14.75373      13.266349   \n",
       "1074544             11.224203             14.75373      13.266349   \n",
       "1074545             11.224203             14.75373      13.266349   \n",
       "1074546             11.224203             14.75373      13.266349   \n",
       "1074547             11.224203             14.75373      13.266349   \n",
       "\n",
       "         foreign_fixed_deposit  ...  currency_4  currency_5  currency_6  \\\n",
       "2                     0.000000  ...         0.0         0.0         0.0   \n",
       "5                     0.000000  ...         0.0         0.0         0.0   \n",
       "6                     0.000000  ...         0.0         0.0         0.0   \n",
       "8                    12.356740  ...         0.0         0.0         0.0   \n",
       "9                     0.000000  ...         0.0         0.0         0.0   \n",
       "...                        ...  ...         ...         ...         ...   \n",
       "1074543              13.258908  ...         0.0         0.0         0.0   \n",
       "1074544              13.258908  ...         0.0         0.0         0.0   \n",
       "1074545              13.258908  ...         0.0         0.0         0.0   \n",
       "1074546              13.258908  ...         0.0         0.0         0.0   \n",
       "1074547              13.258908  ...         0.0         0.0         0.0   \n",
       "\n",
       "         currency_7  currency_8  currency_9  currency_10  currency_11  \\\n",
       "2               0.0         0.0         0.0          0.0          0.0   \n",
       "5               0.0         0.0         0.0          0.0          0.0   \n",
       "6               0.0         0.0         0.0          0.0          0.0   \n",
       "8               0.0         0.0         0.0          0.0          0.0   \n",
       "9               0.0         0.0         0.0          0.0          0.0   \n",
       "...             ...         ...         ...          ...          ...   \n",
       "1074543         0.0         0.0         0.0          0.0          0.0   \n",
       "1074544         0.0         0.0         0.0          0.0          0.0   \n",
       "1074545         0.0         0.0         0.0          0.0          0.0   \n",
       "1074546         0.0         0.0         0.0          0.0          0.0   \n",
       "1074547         0.0         1.0         0.0          0.0          0.0   \n",
       "\n",
       "         currency_12  currency_13  \n",
       "2                1.0          0.0  \n",
       "5                1.0          0.0  \n",
       "6                1.0          0.0  \n",
       "8                1.0          0.0  \n",
       "9                1.0          0.0  \n",
       "...              ...          ...  \n",
       "1074543          1.0          0.0  \n",
       "1074544          1.0          0.0  \n",
       "1074545          1.0          0.0  \n",
       "1074546          1.0          0.0  \n",
       "1074547          0.0          0.0  \n",
       "\n",
       "[606357 rows x 97 columns]"
      ]
     },
     "execution_count": 3,
     "metadata": {},
     "output_type": "execute_result"
    }
   ],
   "source": [
    "u2idx = readjson2dict(\"crm_idx\")\n",
    "i2idx = readjson2dict(\"fund_info_idx\")\n",
    "\n",
    "if params[\"negative_sampling\"]:\n",
    "    read_path = os.path.join(path.data_path, \"merge_ns_diff.pkl\")\n",
    "else:\n",
    "    read_path = os.path.join(path.data_path, \"merge_diff.pkl\")\n",
    "\n",
    "trans_buy_path = os.path.join(path.data_path, \"trans_buy.pkl\")\n",
    "\n",
    "trans_buy = pd.read_pickle(trans_buy_path)\n",
    "merge = pd.read_pickle(read_path)\n",
    "merge = merge.replace(float('-inf'), 0)\n",
    "print(merge.y.value_counts())\n",
    "\n",
    "merge= merge[\n",
    "    (merge.yyyymm >= params['train_period'][0]) & \n",
    "    (merge.yyyymm <= params['train_period'][1])\n",
    "]\n",
    "\n",
    "print(f\"merge data length: {len(merge)} \")\n",
    "print(merge.y.value_counts())\n",
    "merge"
   ]
  },
  {
   "cell_type": "code",
   "execution_count": 4,
   "metadata": {},
   "outputs": [],
   "source": [
    "# merge = merge.drop(columns=['diff_month', 'diff_quarter', 'diff_half_year', 'diff_year', 'diff_2year'])\n",
    "x = merge.drop(columns=['y', 'id_number', 'fund_id'])\n",
    "y = merge['y']\n",
    "x_train, x_test, y_train, y_test = train_test_split(x, y, test_size=0.2, random_state=42)"
   ]
  },
  {
   "cell_type": "code",
   "execution_count": 5,
   "metadata": {},
   "outputs": [
    {
     "name": "stdout",
     "output_type": "stream",
     "text": [
      "Training RandomForestClassifier\n"
     ]
    },
    {
     "name": "stderr",
     "output_type": "stream",
     "text": [
      "[Parallel(n_jobs=1)]: Using backend SequentialBackend with 1 concurrent workers.\n",
      "[Parallel(n_jobs=1)]: Done 250 out of 250 | elapsed:  1.5min finished\n"
     ]
    }
   ],
   "source": [
    "c = Classifier(x_train, x_test, y_train, y_test)\n",
    "\n",
    "# c.do_gradient_boosting(\n",
    "#     n_estimators=params[\"n_estimators\"], \n",
    "#     max_depth=params[\"max_depth\"]\n",
    "# )\n",
    "\n",
    "# c.do_lgbm(\n",
    "#     n_estimators=params[\"n_estimators\"], \n",
    "#     max_depth=params[\"max_depth\"]\n",
    "# )\n",
    "# c.do_bagginregression()\n",
    "\n",
    "# c.do_adaboost(\n",
    "#     n_estimators=params[\"n_estimators\"], \n",
    "# )\n",
    "\n",
    "c.do_random_forest(\n",
    "    n_estimators=params[\"n_estimators\"], \n",
    "    max_depth=params[\"max_depth\"]\n",
    ")\n",
    "\n",
    "# c.do_logistic()\n",
    "# c.do_xgboost()\n"
   ]
  },
  {
   "cell_type": "code",
   "execution_count": 6,
   "metadata": {},
   "outputs": [
    {
     "name": "stderr",
     "output_type": "stream",
     "text": [
      "[Parallel(n_jobs=1)]: Using backend SequentialBackend with 1 concurrent workers.\n",
      "[Parallel(n_jobs=1)]: Done 250 out of 250 | elapsed:    1.3s finished\n",
      "[Parallel(n_jobs=1)]: Using backend SequentialBackend with 1 concurrent workers.\n",
      "[Parallel(n_jobs=1)]: Done 250 out of 250 | elapsed:    5.2s finished\n",
      "Precision is ill-defined and being set to 0.0 due to no predicted samples. Use `zero_division` parameter to control this behavior.\n"
     ]
    },
    {
     "data": {
      "text/plain": [
       "{'model_score': 0.6888256697279859,\n",
       " 'accuracy_score': 0.6894171779141104,\n",
       " 'f1_score': 0.0,\n",
       " 'precision_score': 0.0,\n",
       " 'recall_score': 0.0}"
      ]
     },
     "execution_count": 6,
     "metadata": {},
     "output_type": "execute_result"
    }
   ],
   "source": [
    "c.check_score()\n",
    "c.score_result"
   ]
  },
  {
   "cell_type": "code",
   "execution_count": 7,
   "metadata": {},
   "outputs": [],
   "source": [
    "# inference input data\n",
    "equity_path = os.path.join(path.data_path, \"equity.pkl\")\n",
    "crm_path = os.path.join(path.data_path, \"crm_diff.pkl\")\n",
    "\n",
    "crm = pd.read_pickle(crm_path)\n",
    "crm = crm.replace(float('-inf'), 0)\n",
    "\n",
    "equity = pd.read_pickle(equity_path)\n",
    "i2idx = readjson2dict('fund_info_idx')\n"
   ]
  },
  {
   "cell_type": "code",
   "execution_count": 8,
   "metadata": {},
   "outputs": [],
   "source": [
    "best_sell_n = list(trans_buy[\n",
    "    (trans_buy.buy_date > params[\"best_sell_period\"][0]*100) & \n",
    "    (trans_buy.buy_date < params[\"best_sell_period\"][1]*100)\n",
    "].fund_id.value_counts().index)[:params[\"best_sell_n\"]]"
   ]
  },
  {
   "cell_type": "code",
   "execution_count": 9,
   "metadata": {},
   "outputs": [
    {
     "name": "stderr",
     "output_type": "stream",
     "text": [
      "\n",
      "A value is trying to be set on a copy of a slice from a DataFrame.\n",
      "Try using .loc[row_indexer,col_indexer] = value instead\n",
      "\n",
      "See the caveats in the documentation: https://pandas.pydata.org/pandas-docs/stable/user_guide/indexing.html#returning-a-view-versus-a-copy\n",
      "\n",
      "A value is trying to be set on a copy of a slice from a DataFrame.\n",
      "Try using .loc[row_indexer,col_indexer] = value instead\n",
      "\n",
      "See the caveats in the documentation: https://pandas.pydata.org/pandas-docs/stable/user_guide/indexing.html#returning-a-view-versus-a-copy\n"
     ]
    },
    {
     "name": "stdout",
     "output_type": "stream",
     "text": [
      "69839 users, 53 items\n"
     ]
    }
   ],
   "source": [
    "\n",
    "targets = crm[crm.yyyymm == params[\"input_time\"]]\n",
    "funds = equity[    \n",
    "    (equity.yyyymm == params[\"input_time\"]) &\n",
    "    (equity.fund_id.isin(best_sell_n))\n",
    "]\n",
    "targets['k'] = 0\n",
    "funds['k'] = 0\n",
    "print(f'{len(targets)} users, {len(funds)} items')\n",
    "pred_input = targets.merge(funds, how='outer')\n",
    "# pred_input.columns"
   ]
  },
  {
   "cell_type": "code",
   "execution_count": 10,
   "metadata": {},
   "outputs": [
    {
     "name": "stderr",
     "output_type": "stream",
     "text": [
      "100%|██████████| 13885/13885 [00:38<00:00, 360.10it/s]\n"
     ]
    }
   ],
   "source": [
    "test = get_backtest_answer(trans_buy, targets['id_number'].tolist(), \n",
    "                           params[\"predict_period\"][0]*100, \n",
    "                           params[\"predict_period\"][1]*100)"
   ]
  },
  {
   "cell_type": "code",
   "execution_count": 11,
   "metadata": {},
   "outputs": [
    {
     "name": "stderr",
     "output_type": "stream",
     "text": [
      "[Parallel(n_jobs=1)]: Using backend SequentialBackend with 1 concurrent workers.\n",
      "[Parallel(n_jobs=1)]: Done 250 out of 250 | elapsed:   34.1s finished\n",
      "[Parallel(n_jobs=1)]: Using backend SequentialBackend with 1 concurrent workers.\n"
     ]
    },
    {
     "name": "stdout",
     "output_type": "stream",
     "text": [
      "Total number of forecasts: 3701467.\n",
      "Prediction y Probability:\n",
      "[[0.74644534 0.25355466]\n",
      " [0.74389231 0.25610769]\n",
      " [0.68957794 0.31042206]\n",
      " ...\n",
      " [0.65344633 0.34655367]\n",
      " [0.64991328 0.35008672]\n",
      " [0.73701048 0.26298952]]\n",
      "Prediction y:\n",
      "[0 0 0 ... 0 0 0]\n",
      "Prediction y Counts:\n",
      "(array([0]), array([3701467]))\n"
     ]
    },
    {
     "name": "stderr",
     "output_type": "stream",
     "text": [
      "[Parallel(n_jobs=1)]: Done 250 out of 250 | elapsed:   34.4s finished\n",
      "\n",
      "A value is trying to be set on a copy of a slice from a DataFrame.\n",
      "Try using .loc[row_indexer,col_indexer] = value instead\n",
      "\n",
      "See the caveats in the documentation: https://pandas.pydata.org/pandas-docs/stable/user_guide/indexing.html#returning-a-view-versus-a-copy\n"
     ]
    }
   ],
   "source": [
    "x_predict = pred_input[x_test.columns]\n",
    "x_user_fund = pred_input[['id_number', 'fund_id']]\n",
    "# Predict\n",
    "predict_prob = c.model.predict_proba(x_predict)\n",
    "pred_y = c.model.predict(x_predict)\n",
    "print(f\"Total number of forecasts: {len(predict_prob)}.\")\n",
    "print(\"Prediction y Probability:\")\n",
    "print(predict_prob)\n",
    "print(\"Prediction y:\")\n",
    "print(pred_y)\n",
    "print(\"Prediction y Counts:\")\n",
    "print(np.unique(pred_y, return_counts=True))\n",
    "x_user_fund['prob'] = predict_prob[:, 1]"
   ]
  },
  {
   "cell_type": "code",
   "execution_count": 12,
   "metadata": {},
   "outputs": [],
   "source": [
    "# x_user_fund[x_user_fund['id_number'] == 65136].sort_values(by=['prob'], ascending=False)[:10]"
   ]
  },
  {
   "cell_type": "code",
   "execution_count": 13,
   "metadata": {},
   "outputs": [
    {
     "name": "stderr",
     "output_type": "stream",
     "text": [
      "\n",
      "A value is trying to be set on a copy of a slice from a DataFrame\n",
      "\n",
      "See the caveats in the documentation: https://pandas.pydata.org/pandas-docs/stable/user_guide/indexing.html#returning-a-view-versus-a-copy\n",
      "100%|██████████| 69839/69839 [05:40<00:00, 204.95it/s]\n"
     ]
    }
   ],
   "source": [
    "rec_result = {}\n",
    "\n",
    "# sort_values to speed up\n",
    "x_user_fund.sort_values(by=['prob'], ascending=False, inplace=True)\n",
    "\n",
    "for user in tqdm(x_user_fund['id_number'].unique()):\n",
    "    ignore_item = trans_buy[\n",
    "        (trans_buy['id_number'] == user) &\n",
    "        (trans_buy.buy_date >= params['train_period'][0]*100) & \n",
    "        (trans_buy.buy_date <= params['train_period'][1]*100)\n",
    "    ]['fund_id'].unique().tolist()\n",
    "    \n",
    "    tmp = x_user_fund[x_user_fund['id_number'] == user]\n",
    "    \n",
    "    rec_fund = tmp[~tmp['fund_id'].isin(ignore_item)].head(10)['fund_id'].tolist()\n",
    "    \n",
    "    rec_result[user] = rec_fund"
   ]
  },
  {
   "cell_type": "code",
   "execution_count": 14,
   "metadata": {},
   "outputs": [
    {
     "name": "stdout",
     "output_type": "stream",
     "text": [
      "RandomForestClassifier\n"
     ]
    },
    {
     "name": "stderr",
     "output_type": "stream",
     "text": [
      "100%|██████████| 13885/13885 [00:00<00:00, 131828.28it/s]"
     ]
    },
    {
     "name": "stdout",
     "output_type": "stream",
     "text": [
      "{'recall@3': 0.023159111087224217, 'recall@5': 0.03846192220404247, 'recall@10': 0.06756645637110932, 'recall@all': 0.06756645637110932}\n"
     ]
    },
    {
     "name": "stderr",
     "output_type": "stream",
     "text": [
      "\n"
     ]
    }
   ],
   "source": [
    "print(c.model_name)\n",
    "scores = recall_evaluate(rec_result, test)\n",
    "print(scores)\n",
    "model_score_logger(c.model_name, params, scores)"
   ]
  },
  {
   "cell_type": "code",
   "execution_count": 15,
   "metadata": {},
   "outputs": [],
   "source": [
    "# explainer = shap.Explainer(c.model)\n",
    "# shap_vals = explainer(x_test)"
   ]
  },
  {
   "cell_type": "code",
   "execution_count": 16,
   "metadata": {},
   "outputs": [],
   "source": [
    "# shap.initjs()\n",
    "# shap.plots.force(shap_vals[1])"
   ]
  },
  {
   "cell_type": "code",
   "execution_count": 17,
   "metadata": {},
   "outputs": [],
   "source": [
    "# shap.plots.bar(shap_vals[456], max_display=15)"
   ]
  },
  {
   "cell_type": "code",
   "execution_count": 18,
   "metadata": {},
   "outputs": [],
   "source": [
    "# shap.plots.bar(shap_vals, max_display=30)"
   ]
  }
 ],
 "metadata": {
  "kernelspec": {
   "display_name": "Python 3",
   "language": "python",
   "name": "python3"
  },
  "language_info": {
   "codemirror_mode": {
    "name": "ipython",
    "version": 3
   },
   "file_extension": ".py",
   "mimetype": "text/x-python",
   "name": "python",
   "nbconvert_exporter": "python",
   "pygments_lexer": "ipython3",
   "version": "3.6.9"
  }
 },
 "nbformat": 4,
 "nbformat_minor": 4
}
