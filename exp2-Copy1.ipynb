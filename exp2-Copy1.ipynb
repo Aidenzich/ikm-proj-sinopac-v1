{
 "cells": [
  {
   "cell_type": "code",
   "execution_count": 1,
   "metadata": {},
   "outputs": [],
   "source": [
    "import os\n",
    "import sys\n",
    "sys.path.append('../../')\n",
    "from recs.backtest import get_backtest_answer\n",
    "from recs.utils.path import *\n",
    "import __init__\n",
    "from recs.utils.common import predict_ranking, readjson2dict, recall_evaluate\n",
    "import recs\n",
    "from tqdm import tqdm\n",
    "import pandas as pd\n",
    "tqdm.pandas()"
   ]
  },
  {
   "cell_type": "code",
   "execution_count": 20,
   "metadata": {},
   "outputs": [
    {
     "name": "stderr",
     "output_type": "stream",
     "text": [
      "100%|██████████| 28496/28496 [01:16<00:00, 374.07it/s]\n"
     ]
    }
   ],
   "source": [
    "tran_data = pd.read_pickle(DATA_PATH / \"trans_buy.pkl\")\n",
    "real = get_backtest_answer(tran_data, start=20200000, end=20210000)"
   ]
  },
  {
   "cell_type": "code",
   "execution_count": 34,
   "metadata": {},
   "outputs": [
    {
     "data": {
      "text/html": [
       "<div>\n",
       "<style scoped>\n",
       "    .dataframe tbody tr th:only-of-type {\n",
       "        vertical-align: middle;\n",
       "    }\n",
       "\n",
       "    .dataframe tbody tr th {\n",
       "        vertical-align: top;\n",
       "    }\n",
       "\n",
       "    .dataframe thead th {\n",
       "        text-align: right;\n",
       "    }\n",
       "</style>\n",
       "<table border=\"1\" class=\"dataframe\">\n",
       "  <thead>\n",
       "    <tr style=\"text-align: right;\">\n",
       "      <th></th>\n",
       "      <th>id_number</th>\n",
       "      <th>fund_id</th>\n",
       "      <th>buy_date</th>\n",
       "      <th>yyyymm</th>\n",
       "    </tr>\n",
       "  </thead>\n",
       "  <tbody>\n",
       "    <tr>\n",
       "      <th>1</th>\n",
       "      <td>13627</td>\n",
       "      <td>930</td>\n",
       "      <td>20170327</td>\n",
       "      <td>201702</td>\n",
       "    </tr>\n",
       "    <tr>\n",
       "      <th>5</th>\n",
       "      <td>13651</td>\n",
       "      <td>748</td>\n",
       "      <td>20190709</td>\n",
       "      <td>201906</td>\n",
       "    </tr>\n",
       "    <tr>\n",
       "      <th>8</th>\n",
       "      <td>13651</td>\n",
       "      <td>2053</td>\n",
       "      <td>20170926</td>\n",
       "      <td>201708</td>\n",
       "    </tr>\n",
       "    <tr>\n",
       "      <th>11</th>\n",
       "      <td>13653</td>\n",
       "      <td>2518</td>\n",
       "      <td>20170616</td>\n",
       "      <td>201705</td>\n",
       "    </tr>\n",
       "    <tr>\n",
       "      <th>12</th>\n",
       "      <td>13654</td>\n",
       "      <td>2091</td>\n",
       "      <td>20160322</td>\n",
       "      <td>201602</td>\n",
       "    </tr>\n",
       "    <tr>\n",
       "      <th>...</th>\n",
       "      <td>...</td>\n",
       "      <td>...</td>\n",
       "      <td>...</td>\n",
       "      <td>...</td>\n",
       "    </tr>\n",
       "    <tr>\n",
       "      <th>395706</th>\n",
       "      <td>67934</td>\n",
       "      <td>3041</td>\n",
       "      <td>20180116</td>\n",
       "      <td>201712</td>\n",
       "    </tr>\n",
       "    <tr>\n",
       "      <th>395707</th>\n",
       "      <td>67951</td>\n",
       "      <td>2108</td>\n",
       "      <td>20191114</td>\n",
       "      <td>201910</td>\n",
       "    </tr>\n",
       "    <tr>\n",
       "      <th>395708</th>\n",
       "      <td>67969</td>\n",
       "      <td>482</td>\n",
       "      <td>20180509</td>\n",
       "      <td>201804</td>\n",
       "    </tr>\n",
       "    <tr>\n",
       "      <th>395709</th>\n",
       "      <td>67971</td>\n",
       "      <td>2058</td>\n",
       "      <td>20180515</td>\n",
       "      <td>201804</td>\n",
       "    </tr>\n",
       "    <tr>\n",
       "      <th>395711</th>\n",
       "      <td>67978</td>\n",
       "      <td>306</td>\n",
       "      <td>20170421</td>\n",
       "      <td>201703</td>\n",
       "    </tr>\n",
       "  </tbody>\n",
       "</table>\n",
       "<p>233507 rows × 4 columns</p>\n",
       "</div>"
      ],
      "text/plain": [
       "        id_number  fund_id  buy_date  yyyymm\n",
       "1           13627      930  20170327  201702\n",
       "5           13651      748  20190709  201906\n",
       "8           13651     2053  20170926  201708\n",
       "11          13653     2518  20170616  201705\n",
       "12          13654     2091  20160322  201602\n",
       "...           ...      ...       ...     ...\n",
       "395706      67934     3041  20180116  201712\n",
       "395707      67951     2108  20191114  201910\n",
       "395708      67969      482  20180509  201804\n",
       "395709      67971     2058  20180515  201804\n",
       "395711      67978      306  20170421  201703\n",
       "\n",
       "[233507 rows x 4 columns]"
      ]
     },
     "execution_count": 34,
     "metadata": {},
     "output_type": "execute_result"
    }
   ],
   "source": [
    "target_date = 202000\n",
    "trans_buy = tran_data[tran_data.buy_date < (target_date)*100]\n",
    "crm = pd.read_pickle(DATA_PATH / \"crm_diff.pkl\")\n",
    "target_users = crm[crm.yyyymm == 201912].id_number.unique().tolist()\n",
    "best_sells = trans_buy[\n",
    "    (trans_buy.buy_date > 20171200 )\n",
    "].fund_id.value_counts().rename_axis('fund_id').reset_index(name='count')\n",
    "trans_buy"
   ]
  },
  {
   "cell_type": "code",
   "execution_count": 8,
   "metadata": {},
   "outputs": [
    {
     "name": "stderr",
     "output_type": "stream",
     "text": [
      "100%|██████████| 233507/233507 [02:50<00:00, 1372.57it/s]\n",
      "/usr/local/lib/python3.6/dist-packages/ipykernel_launcher.py:1: SettingWithCopyWarning: \n",
      "A value is trying to be set on a copy of a slice from a DataFrame.\n",
      "Try using .loc[row_indexer,col_indexer] = value instead\n",
      "\n",
      "See the caveats in the documentation: https://pandas.pydata.org/pandas-docs/stable/user_guide/indexing.html#returning-a-view-versus-a-copy\n",
      "  \"\"\"Entry point for launching an IPython kernel.\n"
     ]
    }
   ],
   "source": []
  },
  {
   "cell_type": "code",
   "execution_count": 12,
   "metadata": {},
   "outputs": [
    {
     "data": {
      "application/vnd.jupyter.widget-view+json": {
       "model_id": "956725b95f7848258d648a50e4d19805",
       "version_major": 2,
       "version_minor": 0
      },
      "text/plain": [
       "  0%|          | 0/100 [00:00<?, ?it/s]"
      ]
     },
     "metadata": {},
     "output_type": "display_data"
    },
    {
     "data": {
      "text/html": [
       "<div>\n",
       "<style scoped>\n",
       "    .dataframe tbody tr th:only-of-type {\n",
       "        vertical-align: middle;\n",
       "    }\n",
       "\n",
       "    .dataframe tbody tr th {\n",
       "        vertical-align: top;\n",
       "    }\n",
       "\n",
       "    .dataframe thead th {\n",
       "        text-align: right;\n",
       "    }\n",
       "</style>\n",
       "<table border=\"1\" class=\"dataframe\">\n",
       "  <thead>\n",
       "    <tr style=\"text-align: right;\">\n",
       "      <th></th>\n",
       "      <th>userId</th>\n",
       "      <th>itemId</th>\n",
       "      <th>rating</th>\n",
       "    </tr>\n",
       "  </thead>\n",
       "  <tbody>\n",
       "    <tr>\n",
       "      <th>0</th>\n",
       "      <td>8.0</td>\n",
       "      <td>722.0</td>\n",
       "      <td>0.966552</td>\n",
       "    </tr>\n",
       "    <tr>\n",
       "      <th>1</th>\n",
       "      <td>8.0</td>\n",
       "      <td>1391.0</td>\n",
       "      <td>0.986233</td>\n",
       "    </tr>\n",
       "    <tr>\n",
       "      <th>2</th>\n",
       "      <td>10.0</td>\n",
       "      <td>1724.0</td>\n",
       "      <td>0.967247</td>\n",
       "    </tr>\n",
       "    <tr>\n",
       "      <th>3</th>\n",
       "      <td>10.0</td>\n",
       "      <td>2096.0</td>\n",
       "      <td>0.967247</td>\n",
       "    </tr>\n",
       "    <tr>\n",
       "      <th>4</th>\n",
       "      <td>10.0</td>\n",
       "      <td>2531.0</td>\n",
       "      <td>0.967247</td>\n",
       "    </tr>\n",
       "    <tr>\n",
       "      <th>...</th>\n",
       "      <td>...</td>\n",
       "      <td>...</td>\n",
       "      <td>...</td>\n",
       "    </tr>\n",
       "    <tr>\n",
       "      <th>175128</th>\n",
       "      <td>79842.0</td>\n",
       "      <td>2940.0</td>\n",
       "      <td>0.941823</td>\n",
       "    </tr>\n",
       "    <tr>\n",
       "      <th>175129</th>\n",
       "      <td>79842.0</td>\n",
       "      <td>3160.0</td>\n",
       "      <td>0.955152</td>\n",
       "    </tr>\n",
       "    <tr>\n",
       "      <th>175130</th>\n",
       "      <td>79843.0</td>\n",
       "      <td>2998.0</td>\n",
       "      <td>0.105557</td>\n",
       "    </tr>\n",
       "    <tr>\n",
       "      <th>175131</th>\n",
       "      <td>79846.0</td>\n",
       "      <td>3197.0</td>\n",
       "      <td>0.124976</td>\n",
       "    </tr>\n",
       "    <tr>\n",
       "      <th>175132</th>\n",
       "      <td>79847.0</td>\n",
       "      <td>2135.0</td>\n",
       "      <td>0.105598</td>\n",
       "    </tr>\n",
       "  </tbody>\n",
       "</table>\n",
       "<p>175133 rows × 3 columns</p>\n",
       "</div>"
      ],
      "text/plain": [
       "         userId  itemId    rating\n",
       "0           8.0   722.0  0.966552\n",
       "1           8.0  1391.0  0.986233\n",
       "2          10.0  1724.0  0.967247\n",
       "3          10.0  2096.0  0.967247\n",
       "4          10.0  2531.0  0.967247\n",
       "...         ...     ...       ...\n",
       "175128  79842.0  2940.0  0.941823\n",
       "175129  79842.0  3160.0  0.955152\n",
       "175130  79843.0  2998.0  0.105557\n",
       "175131  79846.0  3197.0  0.124976\n",
       "175132  79847.0  2135.0  0.105598\n",
       "\n",
       "[175133 rows x 3 columns]"
      ]
     },
     "execution_count": 12,
     "metadata": {},
     "output_type": "execute_result"
    }
   ],
   "source": [
    "vaecf = recs.models.VAECF(\n",
    "    k=10,\n",
    "    autoencoder_structure=[20],\n",
    "    act_fn=\"tanh\",\n",
    "    likelihood=\"mult\",\n",
    "    n_epochs=100,\n",
    "    batch_size=100,\n",
    "    learning_rate=0.001,\n",
    "    beta=1.0,\n",
    "    seed=123,\n",
    "    use_gpu=True,\n",
    "    verbose=True,\n",
    ")\n",
    "trans_buy['t_weight'] = trans_buy.buy_date.progress_apply(lambda x: pow((x - trans_buy.buy_date.min() + 1) / (trans_buy.buy_date.max() - trans_buy.buy_date.min()), 2))\n",
    "rate_df = trans_buy.groupby([\"id_number\", \"fund_id\"]).agg({'t_weight':'sum'}).reset_index().rename(columns={\"t_weight\": \"rating\"})\n",
    "uir_data = rate_df[['id_number', 'fund_id', 'rating']].values\n",
    "train_set = recs.datasets.Dataset.from_uir(uir_data, seed=41)\n",
    "df = pd.DataFrame(columns=['userId', 'itemId', 'rating'], data=uir_data)\n",
    "pred = predict_ranking(vaecf, df, 'userId', 'itemId', 'rating', False)\n",
    "vaecf.fit(train_set)\n",
    "\n"
   ]
  },
  {
   "cell_type": "code",
   "execution_count": 70,
   "metadata": {},
   "outputs": [
    {
     "data": {
      "text/html": [
       "<div>\n",
       "<style scoped>\n",
       "    .dataframe tbody tr th:only-of-type {\n",
       "        vertical-align: middle;\n",
       "    }\n",
       "\n",
       "    .dataframe tbody tr th {\n",
       "        vertical-align: top;\n",
       "    }\n",
       "\n",
       "    .dataframe thead th {\n",
       "        text-align: right;\n",
       "    }\n",
       "</style>\n",
       "<table border=\"1\" class=\"dataframe\">\n",
       "  <thead>\n",
       "    <tr style=\"text-align: right;\">\n",
       "      <th></th>\n",
       "      <th>userId</th>\n",
       "      <th>itemId</th>\n",
       "      <th>rating</th>\n",
       "    </tr>\n",
       "  </thead>\n",
       "  <tbody>\n",
       "    <tr>\n",
       "      <th>33651181</th>\n",
       "      <td>29023.0</td>\n",
       "      <td>1914.0</td>\n",
       "      <td>4.135778e-01</td>\n",
       "    </tr>\n",
       "    <tr>\n",
       "      <th>50394219</th>\n",
       "      <td>43526.0</td>\n",
       "      <td>20.0</td>\n",
       "      <td>3.708725e-01</td>\n",
       "    </tr>\n",
       "    <tr>\n",
       "      <th>24709389</th>\n",
       "      <td>21473.0</td>\n",
       "      <td>20.0</td>\n",
       "      <td>3.641103e-01</td>\n",
       "    </tr>\n",
       "    <tr>\n",
       "      <th>51979197</th>\n",
       "      <td>44784.0</td>\n",
       "      <td>20.0</td>\n",
       "      <td>3.640985e-01</td>\n",
       "    </tr>\n",
       "    <tr>\n",
       "      <th>62014359</th>\n",
       "      <td>53522.0</td>\n",
       "      <td>20.0</td>\n",
       "      <td>3.541389e-01</td>\n",
       "    </tr>\n",
       "    <tr>\n",
       "      <th>...</th>\n",
       "      <td>...</td>\n",
       "      <td>...</td>\n",
       "      <td>...</td>\n",
       "    </tr>\n",
       "    <tr>\n",
       "      <th>88912613</th>\n",
       "      <td>76523.0</td>\n",
       "      <td>1019.0</td>\n",
       "      <td>3.072849e-15</td>\n",
       "    </tr>\n",
       "    <tr>\n",
       "      <th>69479009</th>\n",
       "      <td>59991.0</td>\n",
       "      <td>1019.0</td>\n",
       "      <td>3.068669e-15</td>\n",
       "    </tr>\n",
       "    <tr>\n",
       "      <th>70804751</th>\n",
       "      <td>61208.0</td>\n",
       "      <td>1019.0</td>\n",
       "      <td>3.035293e-15</td>\n",
       "    </tr>\n",
       "    <tr>\n",
       "      <th>5065685</th>\n",
       "      <td>4410.0</td>\n",
       "      <td>1019.0</td>\n",
       "      <td>3.035293e-15</td>\n",
       "    </tr>\n",
       "    <tr>\n",
       "      <th>73904213</th>\n",
       "      <td>63906.0</td>\n",
       "      <td>1019.0</td>\n",
       "      <td>3.028540e-15</td>\n",
       "    </tr>\n",
       "  </tbody>\n",
       "</table>\n",
       "<p>93020244 rows × 3 columns</p>\n",
       "</div>"
      ],
      "text/plain": [
       "           userId  itemId        rating\n",
       "33651181  29023.0  1914.0  4.135778e-01\n",
       "50394219  43526.0    20.0  3.708725e-01\n",
       "24709389  21473.0    20.0  3.641103e-01\n",
       "51979197  44784.0    20.0  3.640985e-01\n",
       "62014359  53522.0    20.0  3.541389e-01\n",
       "...           ...     ...           ...\n",
       "88912613  76523.0  1019.0  3.072849e-15\n",
       "69479009  59991.0  1019.0  3.068669e-15\n",
       "70804751  61208.0  1019.0  3.035293e-15\n",
       "5065685    4410.0  1019.0  3.035293e-15\n",
       "73904213  63906.0  1019.0  3.028540e-15\n",
       "\n",
       "[93020244 rows x 3 columns]"
      ]
     },
     "execution_count": 70,
     "metadata": {},
     "output_type": "execute_result"
    }
   ],
   "source": [
    "\n",
    "pred.sort_values(by='rating', ascending=False, inplace=True)\n",
    "pred"
   ]
  },
  {
   "cell_type": "code",
   "execution_count": 71,
   "metadata": {},
   "outputs": [
    {
     "name": "stderr",
     "output_type": "stream",
     "text": [
      "100%|██████████| 69839/69839 [41:43<00:00, 27.89it/s]\n"
     ]
    }
   ],
   "source": [
    "\n",
    "\n",
    "\n",
    "\n",
    "rec_dict = {}\n",
    "for u in tqdm(target_users):\n",
    "    temp = pred[pred.userId == u]\n",
    "    if len(temp) == 0:\n",
    "#         ignore_items = trans_buy[trans_buy.id_number == u].fund_id.unique().tolist()        \n",
    "#         rec_dict[u] = best_sells[~best_sells['fund_id'].isin(ignore_items)]['fund_id'].tolist()[:10]\n",
    "        rec_dict[u] = best_sells['fund_id'].tolist()[:10]\n",
    "    else:\n",
    "        rec_dict[u] = temp.itemId.unique().tolist()[:10]"
   ]
  },
  {
   "cell_type": "code",
   "execution_count": 72,
   "metadata": {},
   "outputs": [
    {
     "data": {
      "text/plain": [
       "38831"
      ]
     },
     "execution_count": 72,
     "metadata": {},
     "output_type": "execute_result"
    }
   ],
   "source": [
    "list(rec_dict.keys())[0]"
   ]
  },
  {
   "cell_type": "code",
   "execution_count": 73,
   "metadata": {},
   "outputs": [
    {
     "data": {
      "text/plain": [
       "69839"
      ]
     },
     "execution_count": 73,
     "metadata": {},
     "output_type": "execute_result"
    }
   ],
   "source": [
    "len(rec_dict)"
   ]
  },
  {
   "cell_type": "code",
   "execution_count": 22,
   "metadata": {},
   "outputs": [
    {
     "name": "stderr",
     "output_type": "stream",
     "text": [
      "100%|██████████| 69839/69839 [00:00<00:00, 476865.37it/s]\n"
     ]
    }
   ],
   "source": [
    "for i in tqdm(rec_dict):\n",
    "    rec_dict[i] = [int(x) for x in rec_dict[i]]"
   ]
  },
  {
   "cell_type": "code",
   "execution_count": 19,
   "metadata": {},
   "outputs": [],
   "source": [
    "import json\n",
    "from recs.utils.common import convert_result_json_2_csv\n",
    "r_name = \"rb_2020_vaecf\"\n",
    "json_name = r_name+\".json\"\n",
    "json_save_path = RESULT_PATH / json_name \n",
    "# with open(json_save_path, 'w') as jf:\n",
    "#     json.dump(rec_dict, jf)\n",
    "\n",
    "csv_name = f\"{r_name}.csv\"\n",
    "save_path = RESULT_PATH / csv_name\n",
    "# convert_result_json_2_csv(str(json_save_path), str(save_path))\n",
    "\n",
    "vaecf_data = pd.read_csv(save_path)"
   ]
  },
  {
   "cell_type": "code",
   "execution_count": 28,
   "metadata": {},
   "outputs": [
    {
     "name": "stderr",
     "output_type": "stream",
     "text": [
      "/usr/local/lib/python3.6/dist-packages/ipykernel_launcher.py:34: SettingWithCopyWarning: \n",
      "A value is trying to be set on a copy of a slice from a DataFrame.\n",
      "Try using .loc[row_indexer,col_indexer] = value instead\n",
      "\n",
      "See the caveats in the documentation: https://pandas.pydata.org/pandas-docs/stable/user_guide/indexing.html#returning-a-view-versus-a-copy\n"
     ]
    }
   ],
   "source": [
    "from sklearn.manifold import TSNE\n",
    "import matplotlib.pyplot as plt\n",
    "from matplotlib.pyplot import figure\n",
    "from sklearn.cluster import Birch\n",
    "import itertools\n",
    "import numpy as np\n",
    "def normalized(x):\n",
    "    return (x - x.mean()) / x.std()\n",
    "\n",
    "n_cluster = 100\n",
    "\n",
    "user_data = crm[crm.yyyymm == 201912]\n",
    "udata = user_data[['local_foreign_total', 'local_total',\n",
    "       'local_demand_deposit', 'local_fixed_deposit', 'foreign_total',\n",
    "       'foreign_fixed_deposit', 'foreign_demand_deposit', 'invest_type', 'age',\n",
    "       'monthly_trade_vol', 'stock_inventory_val', 'KPI','local_foreign_total_diff', 'local_total_diff',\n",
    "       'local_demand_deposit_diff', 'local_fixed_deposit_diff',\n",
    "       'foreign_total_diff', 'foreign_fixed_deposit_diff',\n",
    "       'foreign_demand_deposit_diff', 'monthly_trade_vol_diff',\n",
    "       'stock_inventory_val_diff', 'local_foreign_total_pct',\n",
    "       'local_total_pct', 'local_demand_deposit_pct',\n",
    "       'local_fixed_deposit_pct', 'foreign_total_pct',\n",
    "       'foreign_fixed_deposit_pct', 'foreign_demand_deposit_pct',\n",
    "       'monthly_trade_vol_pct', 'stock_inventory_val_pct', 'age_group']] \n",
    "for i in ['local_foreign_total_diff', 'local_total_diff',\n",
    "       'local_demand_deposit_diff', 'local_fixed_deposit_diff',\n",
    "       'foreign_total_diff', 'foreign_fixed_deposit_diff',\n",
    "       'foreign_demand_deposit_diff', 'monthly_trade_vol_diff',\n",
    "       'stock_inventory_val_diff', 'local_foreign_total_pct',\n",
    "       'local_total_pct', 'local_demand_deposit_pct',\n",
    "       'local_fixed_deposit_pct', 'foreign_total_pct',\n",
    "       'foreign_fixed_deposit_pct', 'foreign_demand_deposit_pct',\n",
    "       'monthly_trade_vol_pct', 'stock_inventory_val_pct']:\n",
    "    udata[i] = normalized(udata[i])\n",
    "udata = udata.replace(-np.inf, -1)\n",
    "udata.fillna(0, inplace=True)\n",
    "x_embedded = TSNE(n_components=3, init='random', random_state=47, n_jobs=30).fit_transform(udata.values)\n",
    "x_embedded = np.array(x_embedded)\n",
    "\n",
    "\n",
    "\n"
   ]
  },
  {
   "cell_type": "code",
   "execution_count": 32,
   "metadata": {},
   "outputs": [
    {
     "name": "stderr",
     "output_type": "stream",
     "text": [
      "/usr/local/lib/python3.6/dist-packages/ipykernel_launcher.py:5: SettingWithCopyWarning: \n",
      "A value is trying to be set on a copy of a slice from a DataFrame.\n",
      "Try using .loc[row_indexer,col_indexer] = value instead\n",
      "\n",
      "See the caveats in the documentation: https://pandas.pydata.org/pandas-docs/stable/user_guide/indexing.html#returning-a-view-versus-a-copy\n",
      "  \"\"\"\n",
      "100%|██████████| 100/100 [00:00<00:00, 102.16it/s]\n",
      "100%|██████████| 100/100 [00:00<00:00, 132.06it/s]\n"
     ]
    }
   ],
   "source": [
    "# x_embedded = udata.values\n",
    "brc = Birch(n_clusters=n_cluster)\n",
    "brc.fit(x_embedded)\n",
    "brc_x = np.array(brc.predict(x_embedded))\n",
    "user_data['cluster'] = brc_x\n",
    "\n",
    "tran_data = trans_buy.copy()\n",
    "\n",
    "\n",
    "cluster_rec = {}\n",
    "for i in tqdm(range(n_cluster)):\n",
    "    userlen = len(user_data[user_data['cluster'] == i])\n",
    "    tranlen = len(tran_data[tran_data['id_number'].isin( user_data[user_data['cluster'] == i]['id_number'])])\n",
    "    temp = tran_data[tran_data['id_number'].isin( user_data[user_data['cluster'] == i]['id_number'])]['fund_id'].value_counts().index.tolist()[:10]\n",
    "    cluster_rec[i] = temp\n",
    "    \n",
    "\n",
    "\n",
    "\n",
    "cluster_rec_vae = {}\n",
    "for i in tqdm(range(n_cluster)):\n",
    "    count_dict = {}\n",
    "\n",
    "    temp = vaecf_data[vaecf_data['uid'].isin(user_data[user_data['cluster'] == i]['id_number'])]\n",
    "\n",
    "    for j in range(10):\n",
    "        temp_count_dict = temp[f\"fundid{j}\"].value_counts().to_dict()\n",
    "        for k in temp_count_dict.keys():\n",
    "            if count_dict.get(k):\n",
    "                count_dict[k] += int(temp_count_dict[k])\n",
    "            else:\n",
    "                count_dict[k] = int(temp_count_dict[k])\n",
    "\n",
    "\n",
    "    result = dict(sorted(count_dict.items(), key=lambda item: item[1], reverse=True))    \n",
    "    cluster_rec_vae[i] = list(result.keys())[0:10]"
   ]
  },
  {
   "cell_type": "code",
   "execution_count": 35,
   "metadata": {},
   "outputs": [
    {
     "name": "stderr",
     "output_type": "stream",
     "text": [
      "100%|██████████| 69839/69839 [00:36<00:00, 1910.76it/s]\n"
     ]
    }
   ],
   "source": [
    "cluster_rec_dict = {}\n",
    "cvae_rec_dict = {}\n",
    "for u in tqdm(target_users):\n",
    "    temp = user_data[user_data['id_number']==u]\n",
    "    t_cluster = temp.cluster.tolist()[0]    \n",
    "    cluster_rec_dict[u] = cluster_rec[t_cluster]\n",
    "    cvae_rec_dict[u] = cluster_rec_vae[t_cluster]\n",
    "    "
   ]
  },
  {
   "cell_type": "code",
   "execution_count": 87,
   "metadata": {},
   "outputs": [
    {
     "name": "stderr",
     "output_type": "stream",
     "text": [
      "100%|██████████| 28496/28496 [00:00<00:00, 238334.87it/s]\n"
     ]
    },
    {
     "name": "stdout",
     "output_type": "stream",
     "text": [
      "{'recall@3': 0.02143453803047146, 'recall@5': 0.029408687632739832, 'recall@10': 0.045609663078775065, 'recall@all': 0.045609663078775065}\n"
     ]
    },
    {
     "name": "stderr",
     "output_type": "stream",
     "text": [
      "100%|██████████| 28496/28496 [00:00<00:00, 246018.87it/s]\n"
     ]
    },
    {
     "name": "stdout",
     "output_type": "stream",
     "text": [
      "{'recall@3': 0.015910294430033105, 'recall@5': 0.021342771416299304, 'recall@10': 0.03265360196428376, 'recall@all': 0.03265360196428376}\n"
     ]
    },
    {
     "name": "stderr",
     "output_type": "stream",
     "text": [
      "100%|██████████| 28496/28496 [00:00<00:00, 207472.72it/s]"
     ]
    },
    {
     "name": "stdout",
     "output_type": "stream",
     "text": [
      "{'recall@3': 0.020790596760610798, 'recall@5': 0.029351500893187235, 'recall@10': 0.049574975405781395, 'recall@all': 0.049574975405781395}\n"
     ]
    },
    {
     "name": "stderr",
     "output_type": "stream",
     "text": [
      "\n"
     ]
    }
   ],
   "source": [
    "# with tsne\n",
    "print(recall_evaluate(cluster_rec_dict, real))\n",
    "print(recall_evaluate(cvae_rec_dict, real))\n",
    "print(recall_evaluate(rec_dict, real))"
   ]
  },
  {
   "cell_type": "code",
   "execution_count": 90,
   "metadata": {},
   "outputs": [
    {
     "name": "stderr",
     "output_type": "stream",
     "text": [
      "100%|██████████| 28496/28496 [00:00<00:00, 199809.57it/s]\n"
     ]
    },
    {
     "name": "stdout",
     "output_type": "stream",
     "text": [
      "{'recall@3': 0.021067441066646975, 'recall@5': 0.029303800202788582, 'recall@10': 0.044927233944598646, 'recall@all': 0.044927233944598646}\n"
     ]
    },
    {
     "name": "stderr",
     "output_type": "stream",
     "text": [
      "100%|██████████| 28496/28496 [00:00<00:00, 227664.04it/s]\n"
     ]
    },
    {
     "name": "stdout",
     "output_type": "stream",
     "text": [
      "{'recall@3': 0.015433688113855584, 'recall@5': 0.02122427245261342, 'recall@10': 0.03270093747448047, 'recall@all': 0.03270093747448047}\n"
     ]
    },
    {
     "name": "stderr",
     "output_type": "stream",
     "text": [
      "100%|██████████| 28496/28496 [00:00<00:00, 174419.39it/s]"
     ]
    },
    {
     "name": "stdout",
     "output_type": "stream",
     "text": [
      "{'recall@3': 0.020790596760610798, 'recall@5': 0.029351500893187235, 'recall@10': 0.049574975405781395, 'recall@all': 0.049574975405781395}\n"
     ]
    },
    {
     "name": "stderr",
     "output_type": "stream",
     "text": [
      "\n"
     ]
    }
   ],
   "source": [
    "print(recall_evaluate(cluster_rec_dict, real))\n",
    "print(recall_evaluate(cvae_rec_dict, real))\n",
    "print(recall_evaluate(rec_dict, real))"
   ]
  },
  {
   "cell_type": "code",
   "execution_count": 3,
   "metadata": {},
   "outputs": [],
   "source": [
    "tran_data = pd.read_pickle(DATA_PATH / \"trans_buy.pkl\")"
   ]
  },
  {
   "cell_type": "code",
   "execution_count": 4,
   "metadata": {},
   "outputs": [
    {
     "data": {
      "text/html": [
       "<div>\n",
       "<style scoped>\n",
       "    .dataframe tbody tr th:only-of-type {\n",
       "        vertical-align: middle;\n",
       "    }\n",
       "\n",
       "    .dataframe tbody tr th {\n",
       "        vertical-align: top;\n",
       "    }\n",
       "\n",
       "    .dataframe thead th {\n",
       "        text-align: right;\n",
       "    }\n",
       "</style>\n",
       "<table border=\"1\" class=\"dataframe\">\n",
       "  <thead>\n",
       "    <tr style=\"text-align: right;\">\n",
       "      <th></th>\n",
       "      <th>id_number</th>\n",
       "      <th>fund_id</th>\n",
       "      <th>buy_date</th>\n",
       "      <th>yyyymm</th>\n",
       "    </tr>\n",
       "  </thead>\n",
       "  <tbody>\n",
       "    <tr>\n",
       "      <th>1</th>\n",
       "      <td>13627</td>\n",
       "      <td>930</td>\n",
       "      <td>20170327</td>\n",
       "      <td>201702</td>\n",
       "    </tr>\n",
       "    <tr>\n",
       "      <th>3</th>\n",
       "      <td>13642</td>\n",
       "      <td>1838</td>\n",
       "      <td>20200820</td>\n",
       "      <td>202007</td>\n",
       "    </tr>\n",
       "    <tr>\n",
       "      <th>5</th>\n",
       "      <td>13651</td>\n",
       "      <td>748</td>\n",
       "      <td>20190709</td>\n",
       "      <td>201906</td>\n",
       "    </tr>\n",
       "    <tr>\n",
       "      <th>6</th>\n",
       "      <td>13651</td>\n",
       "      <td>1461</td>\n",
       "      <td>20200303</td>\n",
       "      <td>202002</td>\n",
       "    </tr>\n",
       "    <tr>\n",
       "      <th>7</th>\n",
       "      <td>13651</td>\n",
       "      <td>1579</td>\n",
       "      <td>20200707</td>\n",
       "      <td>202006</td>\n",
       "    </tr>\n",
       "    <tr>\n",
       "      <th>...</th>\n",
       "      <td>...</td>\n",
       "      <td>...</td>\n",
       "      <td>...</td>\n",
       "      <td>...</td>\n",
       "    </tr>\n",
       "    <tr>\n",
       "      <th>395707</th>\n",
       "      <td>67951</td>\n",
       "      <td>2108</td>\n",
       "      <td>20191114</td>\n",
       "      <td>201910</td>\n",
       "    </tr>\n",
       "    <tr>\n",
       "      <th>395708</th>\n",
       "      <td>67969</td>\n",
       "      <td>482</td>\n",
       "      <td>20180509</td>\n",
       "      <td>201804</td>\n",
       "    </tr>\n",
       "    <tr>\n",
       "      <th>395709</th>\n",
       "      <td>67971</td>\n",
       "      <td>2058</td>\n",
       "      <td>20180515</td>\n",
       "      <td>201804</td>\n",
       "    </tr>\n",
       "    <tr>\n",
       "      <th>395710</th>\n",
       "      <td>67971</td>\n",
       "      <td>2274</td>\n",
       "      <td>20200131</td>\n",
       "      <td>201912</td>\n",
       "    </tr>\n",
       "    <tr>\n",
       "      <th>395711</th>\n",
       "      <td>67978</td>\n",
       "      <td>306</td>\n",
       "      <td>20170421</td>\n",
       "      <td>201703</td>\n",
       "    </tr>\n",
       "  </tbody>\n",
       "</table>\n",
       "<p>339551 rows × 4 columns</p>\n",
       "</div>"
      ],
      "text/plain": [
       "        id_number  fund_id  buy_date  yyyymm\n",
       "1           13627      930  20170327  201702\n",
       "3           13642     1838  20200820  202007\n",
       "5           13651      748  20190709  201906\n",
       "6           13651     1461  20200303  202002\n",
       "7           13651     1579  20200707  202006\n",
       "...           ...      ...       ...     ...\n",
       "395707      67951     2108  20191114  201910\n",
       "395708      67969      482  20180509  201804\n",
       "395709      67971     2058  20180515  201804\n",
       "395710      67971     2274  20200131  201912\n",
       "395711      67978      306  20170421  201703\n",
       "\n",
       "[339551 rows x 4 columns]"
      ]
     },
     "execution_count": 4,
     "metadata": {},
     "output_type": "execute_result"
    }
   ],
   "source": [
    "tran_data"
   ]
  },
  {
   "cell_type": "code",
   "execution_count": 10,
   "metadata": {},
   "outputs": [],
   "source": [
    "user2020 = list(tran_data[tran_data.buy_date > 20200000].id_number.unique())"
   ]
  },
  {
   "cell_type": "code",
   "execution_count": 9,
   "metadata": {},
   "outputs": [],
   "source": [
    "user2017 =list(tran_data[tran_data.buy_date < 20200000].id_number.unique())"
   ]
  },
  {
   "cell_type": "code",
   "execution_count": 16,
   "metadata": {},
   "outputs": [
    {
     "data": {
      "text/plain": [
       "28496"
      ]
     },
     "execution_count": 16,
     "metadata": {},
     "output_type": "execute_result"
    }
   ],
   "source": [
    "len(user2020)"
   ]
  },
  {
   "cell_type": "code",
   "execution_count": 17,
   "metadata": {},
   "outputs": [
    {
     "data": {
      "text/plain": [
       "40906"
      ]
     },
     "execution_count": 17,
     "metadata": {},
     "output_type": "execute_result"
    }
   ],
   "source": [
    "len(user2017)"
   ]
  },
  {
   "cell_type": "code",
   "execution_count": 22,
   "metadata": {},
   "outputs": [],
   "source": [
    "new_user = list(set(user2020) - set(user2017))"
   ]
  },
  {
   "cell_type": "code",
   "execution_count": 24,
   "metadata": {},
   "outputs": [
    {
     "name": "stderr",
     "output_type": "stream",
     "text": [
      "100%|██████████| 28496/28496 [00:42<00:00, 671.25it/s]\n"
     ]
    }
   ],
   "source": [
    "new_real = {}\n",
    "for i in tqdm(real):\n",
    "    if i in new_user:\n",
    "        new_real[i] = real[i]        \n",
    "    "
   ]
  },
  {
   "cell_type": "code",
   "execution_count": 42,
   "metadata": {},
   "outputs": [
    {
     "name": "stderr",
     "output_type": "stream",
     "text": [
      "100%|██████████| 11056/11056 [00:00<00:00, 276265.24it/s]\n"
     ]
    },
    {
     "name": "stdout",
     "output_type": "stream",
     "text": [
      "{'recall@3': 0.00911768801828498, 'recall@5': 0.012117766208305285, 'recall@10': 0.018408138361224086, 'recall@all': 0.018408138361224086}\n"
     ]
    },
    {
     "name": "stderr",
     "output_type": "stream",
     "text": [
      "100%|██████████| 11056/11056 [00:00<00:00, 271117.60it/s]\n"
     ]
    },
    {
     "name": "stdout",
     "output_type": "stream",
     "text": [
      "{'recall@3': 0.007307484132285147, 'recall@5': 0.009563346285488113, 'recall@10': 0.013020408728740475, 'recall@all': 0.013020408728740475}\n"
     ]
    },
    {
     "name": "stderr",
     "output_type": "stream",
     "text": [
      "100%|██████████| 11056/11056 [00:00<00:00, 274744.64it/s]"
     ]
    },
    {
     "name": "stdout",
     "output_type": "stream",
     "text": [
      "{'recall@3': 0.00816423360969309, 'recall@5': 0.010793052772520937, 'recall@10': 0.013169624776164578, 'recall@all': 0.013169624776164578}\n"
     ]
    },
    {
     "name": "stderr",
     "output_type": "stream",
     "text": [
      "\n"
     ]
    }
   ],
   "source": [
    "with open(json_save_path, \"r\") as jf:\n",
    "    rec_dict = json.load(jf)\n",
    "\n",
    "temp_dict = {}\n",
    "for i in rec_dict:\n",
    "    temp_dict[int(i)] = rec_dict[i]\n",
    "    \n",
    "print(recall_evaluate(cluster_rec_dict, new_real))\n",
    "print(recall_evaluate(cvae_rec_dict, new_real))\n",
    "print(recall_evaluate(temp_dict, new_real))"
   ]
  },
  {
   "cell_type": "code",
   "execution_count": 39,
   "metadata": {},
   "outputs": [
    {
     "data": {
      "text/plain": [
       "'38831'"
      ]
     },
     "execution_count": 39,
     "metadata": {},
     "output_type": "execute_result"
    }
   ],
   "source": [
    "list(rec_dict.keys())[0]"
   ]
  },
  {
   "cell_type": "code",
   "execution_count": 40,
   "metadata": {},
   "outputs": [
    {
     "data": {
      "text/plain": [
       "[2936.0,\n",
       " 3215.0,\n",
       " 2940.0,\n",
       " 2717.0,\n",
       " 3197.0,\n",
       " 3041.0,\n",
       " 2416.0,\n",
       " 2518.0,\n",
       " 1108.0,\n",
       " 3072.0]"
      ]
     },
     "execution_count": 40,
     "metadata": {},
     "output_type": "execute_result"
    }
   ],
   "source": [
    "rec_dict['38831']"
   ]
  }
 ],
 "metadata": {
  "kernelspec": {
   "display_name": "Python 3",
   "language": "python",
   "name": "python3"
  },
  "language_info": {
   "codemirror_mode": {
    "name": "ipython",
    "version": 3
   },
   "file_extension": ".py",
   "mimetype": "text/x-python",
   "name": "python",
   "nbconvert_exporter": "python",
   "pygments_lexer": "ipython3",
   "version": "3.6.9"
  }
 },
 "nbformat": 4,
 "nbformat_minor": 4
}
